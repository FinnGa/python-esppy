{
 "cells": [
  {
   "cell_type": "markdown",
   "metadata": {},
   "source": [
    "# How to Score Tensorflow Models in SAS Event Stream Processing"
   ]
  },
  {
   "cell_type": "markdown",
   "metadata": {},
   "source": [
    "## 0. Setting the Python Environment \n",
    "\n",
    "To run Tensorflow models in SAS Event Stream Processing, you must have Tensorflow installed on the same system where you run the ESP server. To manage Tensorflow dependencies, it is recommended to use Anaconda or Miniconda to perform Python environment setting and package management. \n",
    "\n",
    "<b>Use the following steps to set up the environment. All steps should be run on the system where you run the ESP server.</b>\n",
    "\n",
    "1. Download Miniconda (https://docs.conda.io/en/latest/miniconda.html) or Anaconda (https://www.anaconda.com/distribution/) to the machine on which  the ESP server will be running. Then run the installer.\n",
    "\n",
    "  At the end of the installation, choose \"no\" when you see the question \"Do you wish the installer to initialize Miniconda3 by running conda init? [yes|no]\".\n",
    "\n",
    "  The following steps assume that Miniconda is installed at <code>~/miniconda3</code>.\n",
    "\n",
    "*Note: If you choose to use Miniconda, you must install several additional packages to properly run this notebook. These packages include:* \n",
    "    - esp\n",
    "    - Image\n",
    "    - ws4py\n",
    "    - pandas\n",
    "    - numpy\n",
    "\n",
    "2. Create a python environment (for example, \"tf\") and activate it for later use.\n",
    "```bash\n",
    "   ~/miniconda3/bin/conda create -n tf python=3.4.1\n",
    "   source ~/miniconda3/bin/activate tf\n",
    "```\n",
    "\n",
    "3. Install Tensorflow using pip.\n",
    "```bash\n",
    "   pip install --upgrade tensorflow\n",
    "```\n",
    "\n",
    "4. Set environment variables\n",
    "```bash\n",
    "   ## Environment variable for Python location\n",
    "   export PYTHONHOME=~/miniconda3/envs/tf\n",
    "\n",
    "   ## Environment variable for libraries\n",
    "   export LD_LIBRARY_PATH=$LD_LIBRARY_PATH:$PYTHONHOME/bin\n",
    "   export PYTHONPATH=$PYTHONHOME/bin/python3.4:$PYTHONHOME/bin/python3.4/site-packages:$PYTHONHOME/bin/python3.4/lib-dynload:$PYTHONHOME/bin/python3.4/plat-linux\n",
    "   \n",
    "   ## Environment variables for MAS to run python     \n",
    "   export MAS_PYPATH=$PYTHONHOME/bin/python \n",
    "   export MAS_M2PATH=/opt/sas/viya/home/SASFoundation/misc/embscoreeng/mas2py.py\n",
    "```"
   ]
  },
  {
   "cell_type": "code",
   "execution_count": null,
   "metadata": {
    "pycharm": {
     "is_executing": false
    }
   },
   "outputs": [],
   "source": [
    "import sys\n",
    "sys.path.append(\"<pathto>/python-esppy\") # This is unique for each user"
   ]
  },
  {
   "cell_type": "markdown",
   "metadata": {},
   "source": [
    "## 1. Loading Data"
   ]
  },
  {
   "cell_type": "markdown",
   "metadata": {},
   "source": [
    "Begin by importing the mnist_input_data training data. This data contains 60,000 training examples and 10,000 examples of handwritten digits. \n",
    "\n",
    "You split this data into two distinct data sets: test_images and test_labels. Later, you use these two data sets to build a model that analyzes the image data. "
   ]
  },
  {
   "cell_type": "code",
   "execution_count": null,
   "metadata": {},
   "outputs": [],
   "source": [
    "import mnist_input_data\n",
    "mnist = mnist_input_data.read_data_sets(\"<pathto>/MNIST_data/\", one_hot=True)\n",
    "test_images = mnist.test.images\n",
    "test_labels = mnist.test.labels"
   ]
  },
  {
   "cell_type": "markdown",
   "metadata": {},
   "source": [
    "## 2. Creating Demo Project"
   ]
  },
  {
   "cell_type": "markdown",
   "metadata": {},
   "source": [
    "To create a SAS Event Stream Processing project, you first need to import the esppy library. \n",
    "\n",
    "Ensure that you have the latest version of SAS Event Stream Processing on your machine by running <code>git pull</code> in the ESP directory on your system. (The earliest version that you can use is 6.1.)\n",
    "\n",
    "Run <code>esppy.ESP</code> to establish a conncetion with your ESP server. You must specify a host and port to successfully establish a server connection."
   ]
  },
  {
   "cell_type": "code",
   "execution_count": null,
   "metadata": {},
   "outputs": [],
   "source": [
    "import esppy"
   ]
  },
  {
   "cell_type": "markdown",
   "metadata": {},
   "source": [
    "Run <code>esppy.ESP</code> to establish a connection with your ESP server. You must specify a host and port to successfully establish a server connection."
   ]
  },
  {
   "cell_type": "code",
   "execution_count": null,
   "metadata": {},
   "outputs": [],
   "source": [
    "esp = esppy.ESP('<server>:<port>')"
   ]
  },
  {
   "cell_type": "markdown",
   "metadata": {},
   "source": [
    "Create a SAS Event Stream Processing project by running <code>esp.create_project(*project*)</code>. Here, you specify *esp_mnist* as your project and name it proj. "
   ]
  },
  {
   "cell_type": "code",
   "execution_count": null,
   "metadata": {},
   "outputs": [],
   "source": [
    "proj = esp.create_project('esp_mnist')"
   ]
  },
  {
   "cell_type": "markdown",
   "metadata": {},
   "source": [
    "Here, you create a souce window and name it *TF_SRC*. You use a schema to read your data into *TF_src*."
   ]
  },
  {
   "cell_type": "code",
   "execution_count": null,
   "metadata": {},
   "outputs": [],
   "source": [
    "TF_src = esp.SourceWindow(schema=('id*:int64', 'input:array(dbl)','digit:string'))\n",
    "proj.windows['w_data1'] = TF_src"
   ]
  },
  {
   "cell_type": "markdown",
   "metadata": {},
   "source": [
    "You must point to where you stored your Tensorflow model file. To do this, you replace <code>'pathto'</code> with the directory path leading to your model file. You create a scoring window to score your Tensorflow model using <code>esp.CalculateWindow</code> and read in the model file using a schema. Next, you add the model file to the window using <code>add_model_info</code>. You must specify parameters such as your model file and data source.\n",
    "\n",
    "For more information on creating Calculate Windows, see [Creating and Using Windows](https://go.documentation.sas.com/?cdcId=espcdc&cdcVersion=6.1&docsetId=espcreatewindows&docsetTarget=n1n1erunro8yqgn16fiqs1tn17fn.htm&locale=en)."
   ]
  },
  {
   "cell_type": "code",
   "execution_count": null,
   "metadata": {},
   "outputs": [],
   "source": [
    "TF_model_file = '<pathto>/TF_model.meta'\n",
    "TF_win = esp.CalculateWindow.TensorflowHelper(schema=('id*:int64', 'output:int64','digit:string'))\n",
    "TF_win.add_model_info(model_name='TF_NN', model_file=TF_model_file, source='w_data1', \n",
    "                      input_op='x', score_op='score_op', input_name='input', output_name='output')"
   ]
  },
  {
   "cell_type": "markdown",
   "metadata": {},
   "source": [
    "An edge is used to connect two windows. In this case, you use an edge with the role of data to connect the *TF_src* data window to *TF_win*. For more information on using edges, see [Edge Roles](https://go.documentation.sas.com/?cdcId=espcdc&cdcVersion=6.1&docsetId=espan&docsetTarget=p0v2sood1298h8n10tvox93xh2tb.htm)."
   ]
  },
  {
   "cell_type": "code",
   "execution_count": null,
   "metadata": {},
   "outputs": [],
   "source": [
    "proj.windows[\"w_TF\"] = TF_win\n",
    "\n",
    "TF_src.add_target(TF_win, role='data')"
   ]
  },
  {
   "cell_type": "markdown",
   "metadata": {},
   "source": [
    "Now create a schema. A schema is used to ensure that the data types you want processed in your model match the type of data contained in the data set that you loaded from *mnist_input_data*."
   ]
  },
  {
   "cell_type": "code",
   "execution_count": null,
   "metadata": {},
   "outputs": [],
   "source": [
    "schema = ['id*:int64','digit:string', 'I_digit:string'] + ['P_{}:double'.format(i) for i in range(10)]"
   ]
  },
  {
   "cell_type": "markdown",
   "metadata": {},
   "source": [
    "Create a compute window."
   ]
  },
  {
   "cell_type": "code",
   "execution_count": null,
   "metadata": {},
   "outputs": [],
   "source": [
    "TF_comp = esp.ComputeWindow(\"w_TF_comp\", schema=schema)\n",
    "TF_comp.add_field_expression(\"digit\")\n",
    "TF_comp.add_field_expression(\"output\")\n",
    "for i in range(10):\n",
    "    TF_comp.add_field_expression('''\n",
    "if output=='{}' then\n",
    "    return 0.91\n",
    "else\n",
    "    return 0.01\n",
    "    '''.format(i))\n",
    "proj.windows['w_TF_comp'] = TF_comp\n",
    "TF_win.add_target(TF_comp, role='data')"
   ]
  },
  {
   "cell_type": "markdown",
   "metadata": {},
   "source": [
    "Create a Calculate window that runs calculations to determine the models fit statistics, commonly referred to as FitStat. You use <code>esp.calculate.FitStat</code> and name this calculate window *TF_fitstat*. You must specify several parameters such as, <code>schema</code>, <code>classLabels</code> and <code>windowLength</code>. You also must map the inputs and outputs. For more information on Fitstat windows, see [Computing Fit Statistics for Scored Results](https://go.documentation.sas.com/?cdcId=espcdc&cdcVersion=6.1&docsetId=espan&docsetTarget=p1k5j3rok1x59on15i884xa66ajq.htm&locale=e)."
   ]
  },
  {
   "cell_type": "code",
   "execution_count": null,
   "metadata": {},
   "outputs": [],
   "source": [
    "TF_fitstat = esp.calculate.FitStat(schema=('id*:int64','mceOut:double'),\n",
    "                                      classLabels='0,1,2,3,4,5,6,7,8,9',\n",
    "                                      windowLength=100)\n",
    "inputs = tuple(['P_{}:double'.format(i) for i in range(10)])\n",
    "TF_fitstat.set_inputs(inputs=inputs, \n",
    "                         response=('digit:string'))\n",
    "TF_fitstat.set_outputs(mceOut='mceOut:double')"
   ]
  },
  {
   "cell_type": "markdown",
   "metadata": {},
   "source": [
    "Here, you use an edge to connect the *TF_comp* window to *TF_fitstat* with the role of data. "
   ]
  },
  {
   "cell_type": "code",
   "execution_count": null,
   "metadata": {},
   "outputs": [],
   "source": [
    "proj.windows['w_TF_fitstat'] = TF_fitstat\n",
    "\n",
    "TF_comp.add_target(TF_fitstat, role='data')"
   ]
  },
  {
   "cell_type": "markdown",
   "metadata": {},
   "source": [
    "Here you print your XML file to view. This is an optional step."
   ]
  },
  {
   "cell_type": "code",
   "execution_count": null,
   "metadata": {},
   "outputs": [],
   "source": [
    "print(proj.to_xml(pretty=True))"
   ]
  },
  {
   "cell_type": "code",
   "execution_count": null,
   "metadata": {},
   "outputs": [],
   "source": [
    "proj"
   ]
  },
  {
   "cell_type": "markdown",
   "metadata": {},
   "source": [
    "## 3. Loading the Project into ESP"
   ]
  },
  {
   "cell_type": "markdown",
   "metadata": {},
   "source": [
    "Load your project to the ESP server using <code>esp.load_project</code>."
   ]
  },
  {
   "cell_type": "code",
   "execution_count": null,
   "metadata": {},
   "outputs": [],
   "source": [
    "esp.load_project(proj)"
   ]
  },
  {
   "cell_type": "markdown",
   "metadata": {},
   "source": [
    "## 4. Publishing Data and Subscribing Results"
   ]
  },
  {
   "cell_type": "markdown",
   "metadata": {},
   "source": [
    "To view results, you must subscribe to the windows and dataframes you have created. "
   ]
  },
  {
   "cell_type": "code",
   "execution_count": null,
   "metadata": {},
   "outputs": [],
   "source": [
    "TF_src.subscribe()\n",
    "TF_win.subscribe()"
   ]
  },
  {
   "cell_type": "markdown",
   "metadata": {},
   "source": [
    "Import numpy and give it the abbreviation np. "
   ]
  },
  {
   "cell_type": "code",
   "execution_count": null,
   "metadata": {},
   "outputs": [],
   "source": [
    "import numpy as np"
   ]
  },
  {
   "cell_type": "markdown",
   "metadata": {},
   "source": [
    "Create a string representation of an array and apply that array to the test images in the mnist data."
   ]
  },
  {
   "cell_type": "code",
   "execution_count": null,
   "metadata": {},
   "outputs": [],
   "source": [
    "def array2str(arr):\n",
    "    x_arrstr = np.char.mod('%f', arr)\n",
    "    return '[' +\";\".join(x_arrstr) + ']'\n",
    "\n",
    "pixel_array = np.apply_along_axis(array2str, 1, test_images)"
   ]
  },
  {
   "cell_type": "markdown",
   "metadata": {},
   "source": [
    "Import time in order to create a publishing thread."
   ]
  },
  {
   "cell_type": "code",
   "execution_count": null,
   "metadata": {},
   "outputs": [],
   "source": [
    "import time"
   ]
  },
  {
   "cell_type": "markdown",
   "metadata": {},
   "source": [
    "Here you create a publisher window that will periodically (every 0.04 seconds) stream data to your esp server. "
   ]
  },
  {
   "cell_type": "code",
   "execution_count": null,
   "metadata": {},
   "outputs": [],
   "source": [
    "def publish_thread2(window):\n",
    "    pub = window.create_publisher(blocksize=1, rate=0, pause=0,\n",
    "                                  dateformat='%Y%m%dT%H:%M:%S.%f', opcode='insert', format='csv')\n",
    "\n",
    "    labels = np.argmax(test_labels,axis=1)\n",
    "    for i in range(len(pixel_array)):\n",
    "        strToSend = 'i,n,{},'.format(i)+pixel_array[i]+',{}\\n'.format(labels[i])\n",
    "        pub.send(strToSend)\n",
    "        time.sleep(0.04)"
   ]
  },
  {
   "cell_type": "markdown",
   "metadata": {},
   "source": [
    "Start a thread for your data."
   ]
  },
  {
   "cell_type": "code",
   "execution_count": null,
   "metadata": {},
   "outputs": [],
   "source": [
    "from threading import Thread\n",
    "thread = Thread(target = publish_thread2, args = (TF_src, ))\n",
    "thread.start()"
   ]
  },
  {
   "cell_type": "markdown",
   "metadata": {},
   "source": [
    "You can use the <code>.tail</code> argument to print rows of the *TF_src* and *TF_win* dataframes that you have created to your screen. By default, <code>.tail</code> prints the last 5 rows."
   ]
  },
  {
   "cell_type": "code",
   "execution_count": null,
   "metadata": {},
   "outputs": [],
   "source": [
    "TF_src.tail()"
   ]
  },
  {
   "cell_type": "code",
   "execution_count": null,
   "metadata": {},
   "outputs": [],
   "source": [
    "TF_win.tail()"
   ]
  },
  {
   "cell_type": "markdown",
   "metadata": {},
   "source": [
    "## 5. Displaying Results"
   ]
  },
  {
   "cell_type": "markdown",
   "metadata": {},
   "source": [
    "Use the matplotlib.pyplot library to print images of the hand drawn digits from the mnist data set to the screen. To use this library, you must first import it."
   ]
  },
  {
   "cell_type": "code",
   "execution_count": null,
   "metadata": {},
   "outputs": [],
   "source": [
    "import matplotlib.pyplot as plt"
   ]
  },
  {
   "cell_type": "markdown",
   "metadata": {},
   "source": [
    "The following block of code creates two images working from the bottom of the dataframe that you created earlier. The first image shows a correct prediction from your model, while the second image shows an incorrect predicition. There are several pieces of this block of code that are important to understand.\n",
    "\n",
    "First, <code>%matplotlib inline</code> allows for images to be displayed in the Jupyter Notebook. This line must be included to view the two graphs you create.\n",
    "\n",
    "Second, you use <code>fig.add_subplot</code> to describe how you would like your plots to be arranged and what index you want to specify. For example, <code>ax1 = fig.add_subplot(121)</code> dictates the there are 1 row and 2 columns for the two plots you are creating, while the first graph is given an index of 1.\n",
    "\n",
    "Third, you create two conditional if statements that separate the correct from image identifications from the incorrect identifications. "
   ]
  },
  {
   "cell_type": "code",
   "execution_count": null,
   "metadata": {},
   "outputs": [],
   "source": [
    "%matplotlib inline\n",
    "\n",
    "fig = plt.figure(figsize=(7,3), dpi=80)\n",
    "plt.tight_layout()\n",
    "\n",
    "ax1 = fig.add_subplot(121)\n",
    "ax2 = fig.add_subplot(122)\n",
    "\n",
    "fig.canvas.draw()\n",
    "\n",
    "n = len(TF_win)\n",
    "tmp = TF_win[:n]\n",
    "\n",
    "index = tmp[tmp['output'] == (tmp['digit'].astype(np.int64))].tail(1).index.values\n",
    "correct_id = index[0] if len(index) > 0 else None\n",
    "\n",
    "index = tmp[tmp['output'] != (tmp['digit'].astype(np.int64))].tail(1).index.values\n",
    "incorrect_id = index[0] if len(index) > 0 else None\n",
    "\n",
    "if correct_id is not None:\n",
    "    ax1.clear() \n",
    "    ax1.imshow(test_images[correct_id].reshape(28,28), cmap='gray', interpolation='nearest')\n",
    "    ax1.set_title(\"Tensorflow Correct Prediction: {}\".format(TF_win.loc[correct_id][0]), fontsize=10)\n",
    "        \n",
    "if incorrect_id is not None:\n",
    "    ax2.clear() \n",
    "    ax2.imshow(test_images[incorrect_id].reshape(28,28), cmap='gray', interpolation='nearest')\n",
    "    ax2.set_title(\"Tensorflow Incorrect Prediction: {}\".format(TF_win.loc[incorrect_id][0]), fontsize=10)"
   ]
  },
  {
   "cell_type": "markdown",
   "metadata": {},
   "source": [
    "## 6. Cleanup"
   ]
  },
  {
   "cell_type": "markdown",
   "metadata": {},
   "source": [
    "Finally, it is a good practice to clean up your work space. Here, you unsubscribe to *T* and *JMP_src* and delete the project and shutdown your esp server."
   ]
  },
  {
   "cell_type": "code",
   "execution_count": null,
   "metadata": {},
   "outputs": [],
   "source": [
    "TF_win.unsubscribe()\n",
    "TF_src.unsubscribe()\n",
    "\n",
    "esp.delete_project(\"esp_mnist\")"
   ]
  },
  {
   "cell_type": "markdown",
   "metadata": {},
   "source": [
    "After you finish running your esp project, you might wish to shutdown your ESP server. Uncomment the code below and run <code>esp.shutdown()</code> to shutdown your server."
   ]
  },
  {
   "cell_type": "code",
   "execution_count": null,
   "metadata": {},
   "outputs": [],
   "source": [
    "#esp.shutdown()"
   ]
  },
  {
   "cell_type": "code",
   "execution_count": null,
   "metadata": {},
   "outputs": [],
   "source": []
  }
 ],
 "metadata": {
  "kernelspec": {
   "display_name": "Python 3",
   "language": "python",
   "name": "python3"
  },
  "language_info": {
   "codemirror_mode": {
    "name": "ipython",
    "version": 3
   },
   "file_extension": ".py",
   "mimetype": "text/x-python",
   "name": "python",
   "nbconvert_exporter": "python",
   "pygments_lexer": "ipython3",
   "version": "3.7.3"
  }
 },
 "nbformat": 4,
 "nbformat_minor": 4
}
