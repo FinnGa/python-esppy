{
 "cells": [
  {
   "cell_type": "markdown",
   "metadata": {},
   "source": [
    "# Trades Example"
   ]
  },
  {
   "cell_type": "markdown",
   "metadata": {},
   "source": [
    "Use with the following artifacts:\n",
    "    1) trades.xml\n",
    "    2) traders.xml\n",
    "    3) trades.csv\n",
    "    4) traders.csv\n",
    "    5) eventgenerator.xml"
   ]
  },
  {
   "cell_type": "markdown",
   "metadata": {},
   "source": [
    "### Set the following variables to work in your environment"
   ]
  },
  {
   "cell_type": "code",
   "execution_count": 1,
   "metadata": {},
   "outputs": [],
   "source": [
    "esp_url = \"http://espsrv01:7777\"      # your ESP server\n",
    "path = \".\"                            # the path to your artifacts"
   ]
  },
  {
   "cell_type": "markdown",
   "metadata": {},
   "source": [
    "The first step is to import the ESPPy package along with Visuals to create visualizations."
   ]
  },
  {
   "cell_type": "code",
   "execution_count": 2,
   "metadata": {},
   "outputs": [],
   "source": [
    "import esppy\n",
    "from esppy.espapi.visuals import Visuals"
   ]
  },
  {
   "cell_type": "markdown",
   "metadata": {},
   "source": [
    "Start an ESP server before running the next cell.  Enter the appropriate ('http:host:port') as the argument to the ESP constructor."
   ]
  },
  {
   "cell_type": "code",
   "execution_count": 3,
   "metadata": {},
   "outputs": [
    {
     "data": {
      "text/plain": [
       "ESP('http://espsrv01:7777')"
      ]
     },
     "execution_count": 3,
     "metadata": {},
     "output_type": "execute_result"
    }
   ],
   "source": [
    "server = esppy.ESP(esp_url)\n",
    "server"
   ]
  },
  {
   "cell_type": "markdown",
   "metadata": {},
   "source": [
    "Create the server connection and visuals"
   ]
  },
  {
   "cell_type": "code",
   "execution_count": 4,
   "metadata": {},
   "outputs": [],
   "source": [
    "conn = server.createServerConnection()\n",
    "visuals = Visuals()"
   ]
  },
  {
   "cell_type": "code",
   "execution_count": 5,
   "metadata": {},
   "outputs": [
    {
     "data": {
      "text/plain": [
       "{'version': '7.1',\n",
       " 'engine': '5dee7b58-8c84-4352-ba91-62fbf3eb790f',\n",
       " 'analytics-license': True,\n",
       " 'primary-server': True,\n",
       " 'pubsub': 7778,\n",
       " 'http': 7777,\n",
       " 'loglevel': 'common.http=debug,server.connection=debug',\n",
       " 'nocleanup': None}"
      ]
     },
     "execution_count": 5,
     "metadata": {},
     "output_type": "execute_result"
    }
   ],
   "source": [
    "server.server_info"
   ]
  },
  {
   "cell_type": "markdown",
   "metadata": {},
   "source": [
    "List any projects that are active on the server. If you have not loaded projects to the server, this returns an empty dictionary."
   ]
  },
  {
   "cell_type": "code",
   "execution_count": 6,
   "metadata": {},
   "outputs": [
    {
     "data": {
      "text/plain": [
       "{'my_proj': Project(name='my_proj'),\n",
       " 'trades_proj': Project(name='trades_proj')}"
      ]
     },
     "execution_count": 6,
     "metadata": {},
     "output_type": "execute_result"
    }
   ],
   "source": [
    "server.get_projects()"
   ]
  },
  {
   "cell_type": "markdown",
   "metadata": {},
   "source": [
    "List windows within the project.  If you have not loaded projects to the server, this returns an empty dictionary."
   ]
  },
  {
   "cell_type": "code",
   "execution_count": 7,
   "metadata": {},
   "outputs": [
    {
     "data": {
      "text/plain": [
       "{'my_proj.trades_cq.AddTraderName': JoinWindow(name='AddTraderName', contquery='trades_cq', project='my_proj'),\n",
       " 'my_proj.trades_cq.BySecurity': AggregateWindow(name='BySecurity', contquery='trades_cq', project='my_proj'),\n",
       " 'my_proj.trades_cq.LargeTrades': FilterWindow(name='LargeTrades', contquery='trades_cq', project='my_proj'),\n",
       " 'my_proj.trades_cq.TotalCost': ComputeWindow(name='TotalCost', contquery='trades_cq', project='my_proj'),\n",
       " 'my_proj.trades_cq.Traders': SourceWindow(name='Traders', contquery='trades_cq', project='my_proj'),\n",
       " 'my_proj.trades_cq.Trades': SourceWindow(name='Trades', contquery='trades_cq', project='my_proj'),\n",
       " 'trades_proj.trades_cq.AddTraderName': JoinWindow(name='AddTraderName', contquery='trades_cq', project='trades_proj'),\n",
       " 'trades_proj.trades_cq.BySecurity': AggregateWindow(name='BySecurity', contquery='trades_cq', project='trades_proj'),\n",
       " 'trades_proj.trades_cq.LargeTrades': FilterWindow(name='LargeTrades', contquery='trades_cq', project='trades_proj'),\n",
       " 'trades_proj.trades_cq.TotalCost': ComputeWindow(name='TotalCost', contquery='trades_cq', project='trades_proj'),\n",
       " 'trades_proj.trades_cq.Traders': SourceWindow(name='Traders', contquery='trades_cq', project='trades_proj'),\n",
       " 'trades_proj.trades_cq.Trades': SourceWindow(name='Trades', contquery='trades_cq', project='trades_proj')}"
      ]
     },
     "execution_count": 7,
     "metadata": {},
     "output_type": "execute_result"
    }
   ],
   "source": [
    "server.get_windows()"
   ]
  },
  {
   "cell_type": "code",
   "execution_count": 8,
   "metadata": {
    "scrolled": true
   },
   "outputs": [],
   "source": [
    "project_path = path + \"/trades.xml\"\n",
    "project_xml = project_path"
   ]
  },
  {
   "cell_type": "markdown",
   "metadata": {},
   "source": [
    "Load the project 'trades_proj' into the esppy server session"
   ]
  },
  {
   "cell_type": "code",
   "execution_count": 9,
   "metadata": {},
   "outputs": [],
   "source": [
    "trades_project = server.load_project(project_xml, name='trades_proj')"
   ]
  },
  {
   "cell_type": "markdown",
   "metadata": {},
   "source": [
    "Confirm that the project 'trades_proj' has been successfully uploaded to the esp server"
   ]
  },
  {
   "cell_type": "code",
   "execution_count": 10,
   "metadata": {},
   "outputs": [
    {
     "data": {
      "text/plain": [
       "{'my_proj': Project(name='my_proj'),\n",
       " 'trades_proj': Project(name='trades_proj')}"
      ]
     },
     "execution_count": 10,
     "metadata": {},
     "output_type": "execute_result"
    }
   ],
   "source": [
    "server.get_projects()"
   ]
  },
  {
   "cell_type": "code",
   "execution_count": 11,
   "metadata": {
    "scrolled": true
   },
   "outputs": [
    {
     "data": {
      "text/plain": [
       "{'my_proj.trades_cq.AddTraderName': JoinWindow(name='AddTraderName', contquery='trades_cq', project='my_proj'),\n",
       " 'my_proj.trades_cq.BySecurity': AggregateWindow(name='BySecurity', contquery='trades_cq', project='my_proj'),\n",
       " 'my_proj.trades_cq.LargeTrades': FilterWindow(name='LargeTrades', contquery='trades_cq', project='my_proj'),\n",
       " 'my_proj.trades_cq.TotalCost': ComputeWindow(name='TotalCost', contquery='trades_cq', project='my_proj'),\n",
       " 'my_proj.trades_cq.Traders': SourceWindow(name='Traders', contquery='trades_cq', project='my_proj'),\n",
       " 'my_proj.trades_cq.Trades': SourceWindow(name='Trades', contquery='trades_cq', project='my_proj'),\n",
       " 'trades_proj.trades_cq.AddTraderName': JoinWindow(name='AddTraderName', contquery='trades_cq', project='trades_proj'),\n",
       " 'trades_proj.trades_cq.BySecurity': AggregateWindow(name='BySecurity', contquery='trades_cq', project='trades_proj'),\n",
       " 'trades_proj.trades_cq.LargeTrades': FilterWindow(name='LargeTrades', contquery='trades_cq', project='trades_proj'),\n",
       " 'trades_proj.trades_cq.TotalCost': ComputeWindow(name='TotalCost', contquery='trades_cq', project='trades_proj'),\n",
       " 'trades_proj.trades_cq.Traders': SourceWindow(name='Traders', contquery='trades_cq', project='trades_proj'),\n",
       " 'trades_proj.trades_cq.Trades': SourceWindow(name='Trades', contquery='trades_cq', project='trades_proj')}"
      ]
     },
     "execution_count": 11,
     "metadata": {},
     "output_type": "execute_result"
    }
   ],
   "source": [
    "server.get_windows()"
   ]
  },
  {
   "cell_type": "markdown",
   "metadata": {},
   "source": [
    "List only the windows that are contained in the 'trades_proj' project"
   ]
  },
  {
   "cell_type": "code",
   "execution_count": 12,
   "metadata": {},
   "outputs": [
    {
     "data": {
      "text/plain": [
       "{'AddTraderName': JoinWindow(name='AddTraderName', contquery='trades_cq', project='trades_proj'),\n",
       " 'BySecurity': AggregateWindow(name='BySecurity', contquery='trades_cq', project='trades_proj'),\n",
       " 'LargeTrades': FilterWindow(name='LargeTrades', contquery='trades_cq', project='trades_proj'),\n",
       " 'TotalCost': ComputeWindow(name='TotalCost', contquery='trades_cq', project='trades_proj'),\n",
       " 'Traders': SourceWindow(name='Traders', contquery='trades_cq', project='trades_proj'),\n",
       " 'Trades': SourceWindow(name='Trades', contquery='trades_cq', project='trades_proj')}"
      ]
     },
     "execution_count": 12,
     "metadata": {},
     "output_type": "execute_result"
    }
   ],
   "source": [
    "trades_project.get_windows()"
   ]
  },
  {
   "cell_type": "markdown",
   "metadata": {},
   "source": [
    "Output a list of only the continuous queries that are in the 'trades_project' project "
   ]
  },
  {
   "cell_type": "code",
   "execution_count": 13,
   "metadata": {},
   "outputs": [
    {
     "data": {
      "text/plain": [
       "{'trades_cq': ContinuousQuery(name='trades_cq', project='trades_proj')}"
      ]
     },
     "execution_count": 13,
     "metadata": {},
     "output_type": "execute_result"
    }
   ],
   "source": [
    "trades_project.queries"
   ]
  },
  {
   "cell_type": "markdown",
   "metadata": {},
   "source": [
    "List all windows that are a part of the continuous query, 'trades_cq'"
   ]
  },
  {
   "cell_type": "code",
   "execution_count": 14,
   "metadata": {},
   "outputs": [
    {
     "data": {
      "text/plain": [
       "{'Trades': SourceWindow(name='Trades', contquery='trades_cq', project='trades_proj'), 'Traders': SourceWindow(name='Traders', contquery='trades_cq', project='trades_proj'), 'LargeTrades': FilterWindow(name='LargeTrades', contquery='trades_cq', project='trades_proj'), 'AddTraderName': JoinWindow(name='AddTraderName', contquery='trades_cq', project='trades_proj'), 'TotalCost': ComputeWindow(name='TotalCost', contquery='trades_cq', project='trades_proj'), 'BySecurity': AggregateWindow(name='BySecurity', contquery='trades_cq', project='trades_proj')}"
      ]
     },
     "execution_count": 14,
     "metadata": {},
     "output_type": "execute_result"
    }
   ],
   "source": [
    "trades_project.queries['trades_cq'].windows"
   ]
  },
  {
   "cell_type": "markdown",
   "metadata": {},
   "source": [
    "Produce a graphical representation of the continuous query, 'trades_cq' "
   ]
  },
  {
   "cell_type": "code",
   "execution_count": 15,
   "metadata": {},
   "outputs": [
    {
     "data": {
      "image/svg+xml": [
       "<?xml version=\"1.0\" encoding=\"UTF-8\" standalone=\"no\"?>\n",
       "<!DOCTYPE svg PUBLIC \"-//W3C//DTD SVG 1.1//EN\"\n",
       " \"http://www.w3.org/Graphics/SVG/1.1/DTD/svg11.dtd\">\n",
       "<!-- Generated by graphviz version 2.40.1 (20161225.0304)\n",
       " -->\n",
       "<!-- Title: %3 Pages: 1 -->\n",
       "<svg width=\"760.0pt\" height=\"160.0pt\"\n",
       " viewBox=\"0.00 0.00 760.00 160.00\" xmlns=\"http://www.w3.org/2000/svg\" xmlns:xlink=\"http://www.w3.org/1999/xlink\">\n",
       "<g id=\"graph0\" class=\"graph\" transform=\"scale(1 1) rotate(0) translate(4 156)\">\n",
       "<title>%3</title>\n",
       "<polygon fill=\"#ffffff\" stroke=\"transparent\" points=\"-4,4 -4,-156 756,-156 756,4 -4,4\"/>\n",
       "<g id=\"clust1\" class=\"cluster\">\n",
       "<title>cluster_trades_proj_trades_cq</title>\n",
       "<path fill=\"#f0f0f0\" stroke=\"#a0a0a0\" d=\"M20,-8C20,-8 732,-8 732,-8 738,-8 744,-14 744,-20 744,-20 744,-132 744,-132 744,-138 738,-144 732,-144 732,-144 20,-144 20,-144 14,-144 8,-138 8,-132 8,-132 8,-20 8,-20 8,-14 14,-8 20,-8\"/>\n",
       "<text text-anchor=\"middle\" x=\"51\" y=\"-128.8\" font-family=\"Helvetica,sans-Serif\" font-size=\"14.00\" fill=\"#000000\">trades_cq</text>\n",
       "</g>\n",
       "<!-- trades_proj.trades_cq.AddTraderName -->\n",
       "<g id=\"node1\" class=\"node\">\n",
       "<title>trades_proj.trades_cq.AddTraderName</title>\n",
       "<polygon fill=\"#c8f0ff\" stroke=\"#58a0d3\" stroke-width=\"2\" points=\"450,-83.5 297,-83.5 297,-44.5 450,-44.5 450,-83.5\"/>\n",
       "<text text-anchor=\"middle\" x=\"373.5\" y=\"-60.3\" font-family=\"Helvetica,sans-Serif\" font-size=\"14.00\" fill=\"#000000\">AddTraderName</text>\n",
       "</g>\n",
       "<!-- trades_proj.trades_cq.TotalCost -->\n",
       "<g id=\"node2\" class=\"node\">\n",
       "<title>trades_proj.trades_cq.TotalCost</title>\n",
       "<polygon fill=\"#c8f0ff\" stroke=\"#58a0d3\" stroke-width=\"2\" points=\"588,-83.5 486,-83.5 486,-44.5 588,-44.5 588,-83.5\"/>\n",
       "<text text-anchor=\"middle\" x=\"537\" y=\"-60.3\" font-family=\"Helvetica,sans-Serif\" font-size=\"14.00\" fill=\"#000000\">TotalCost</text>\n",
       "</g>\n",
       "<!-- trades_proj.trades_cq.AddTraderName&#45;&gt;trades_proj.trades_cq.TotalCost -->\n",
       "<g id=\"edge1\" class=\"edge\">\n",
       "<title>trades_proj.trades_cq.AddTraderName&#45;&gt;trades_proj.trades_cq.TotalCost</title>\n",
       "<path fill=\"none\" stroke=\"#000000\" d=\"M450.4624,-64C458.8485,-64 467.3021,-64 475.4684,-64\"/>\n",
       "<polygon fill=\"#000000\" stroke=\"#000000\" points=\"475.6322,-67.5001 485.6321,-64 475.6321,-60.5001 475.6322,-67.5001\"/>\n",
       "</g>\n",
       "<!-- trades_proj.trades_cq.BySecurity -->\n",
       "<g id=\"node4\" class=\"node\">\n",
       "<title>trades_proj.trades_cq.BySecurity</title>\n",
       "<polygon fill=\"#c8f0ff\" stroke=\"#58a0d3\" stroke-width=\"2\" points=\"736,-83.5 624,-83.5 624,-44.5 736,-44.5 736,-83.5\"/>\n",
       "<text text-anchor=\"middle\" x=\"680\" y=\"-60.3\" font-family=\"Helvetica,sans-Serif\" font-size=\"14.00\" fill=\"#000000\">BySecurity</text>\n",
       "</g>\n",
       "<!-- trades_proj.trades_cq.TotalCost&#45;&gt;trades_proj.trades_cq.BySecurity -->\n",
       "<g id=\"edge3\" class=\"edge\">\n",
       "<title>trades_proj.trades_cq.TotalCost&#45;&gt;trades_proj.trades_cq.BySecurity</title>\n",
       "<path fill=\"none\" stroke=\"#000000\" d=\"M588.2224,-64C596.517,-64 605.2085,-64 613.7975,-64\"/>\n",
       "<polygon fill=\"#000000\" stroke=\"#000000\" points=\"613.8033,-67.5001 623.8033,-64 613.8033,-60.5001 613.8033,-67.5001\"/>\n",
       "</g>\n",
       "<!-- trades_proj.trades_cq.LargeTrades -->\n",
       "<g id=\"node3\" class=\"node\">\n",
       "<title>trades_proj.trades_cq.LargeTrades</title>\n",
       "<polygon fill=\"#c8f0ff\" stroke=\"#58a0d3\" stroke-width=\"2\" points=\"261,-55.5 136,-55.5 136,-16.5 261,-16.5 261,-55.5\"/>\n",
       "<text text-anchor=\"middle\" x=\"198.5\" y=\"-32.3\" font-family=\"Helvetica,sans-Serif\" font-size=\"14.00\" fill=\"#000000\">LargeTrades</text>\n",
       "</g>\n",
       "<!-- trades_proj.trades_cq.LargeTrades&#45;&gt;trades_proj.trades_cq.AddTraderName -->\n",
       "<g id=\"edge2\" class=\"edge\">\n",
       "<title>trades_proj.trades_cq.LargeTrades&#45;&gt;trades_proj.trades_cq.AddTraderName</title>\n",
       "<path fill=\"none\" stroke=\"#000000\" d=\"M261.1847,-46.0296C269.5027,-47.3604 278.1469,-48.7435 286.7809,-50.1249\"/>\n",
       "<polygon fill=\"#000000\" stroke=\"#000000\" points=\"286.4642,-53.6187 296.8916,-51.7427 287.5702,-46.7066 286.4642,-53.6187\"/>\n",
       "</g>\n",
       "<!-- trades_proj.trades_cq.Traders -->\n",
       "<g id=\"node5\" class=\"node\">\n",
       "<title>trades_proj.trades_cq.Traders</title>\n",
       "<polygon fill=\"#c8f0ff\" stroke=\"#58a0d3\" stroke-width=\"2\" points=\"243.5,-112.5 153.5,-112.5 153.5,-73.5 243.5,-73.5 243.5,-112.5\"/>\n",
       "<text text-anchor=\"middle\" x=\"198.5\" y=\"-89.3\" font-family=\"Helvetica,sans-Serif\" font-size=\"14.00\" fill=\"#000000\">Traders</text>\n",
       "</g>\n",
       "<!-- trades_proj.trades_cq.Traders&#45;&gt;trades_proj.trades_cq.AddTraderName -->\n",
       "<g id=\"edge4\" class=\"edge\">\n",
       "<title>trades_proj.trades_cq.Traders&#45;&gt;trades_proj.trades_cq.AddTraderName</title>\n",
       "<path fill=\"none\" stroke=\"#000000\" d=\"M243.5668,-85.5318C256.7322,-83.3501 271.5886,-80.8882 286.4286,-78.429\"/>\n",
       "<polygon fill=\"#000000\" stroke=\"#000000\" points=\"287.3856,-81.8182 296.6788,-76.7304 286.2411,-74.9124 287.3856,-81.8182\"/>\n",
       "</g>\n",
       "<!-- trades_proj.trades_cq.Trades -->\n",
       "<g id=\"node6\" class=\"node\">\n",
       "<title>trades_proj.trades_cq.Trades</title>\n",
       "<polygon fill=\"#c8f0ff\" stroke=\"#58a0d3\" stroke-width=\"2\" points=\"100,-55.5 16,-55.5 16,-16.5 100,-16.5 100,-55.5\"/>\n",
       "<text text-anchor=\"middle\" x=\"58\" y=\"-32.3\" font-family=\"Helvetica,sans-Serif\" font-size=\"14.00\" fill=\"#000000\">Trades</text>\n",
       "</g>\n",
       "<!-- trades_proj.trades_cq.Trades&#45;&gt;trades_proj.trades_cq.LargeTrades -->\n",
       "<g id=\"edge5\" class=\"edge\">\n",
       "<title>trades_proj.trades_cq.Trades&#45;&gt;trades_proj.trades_cq.LargeTrades</title>\n",
       "<path fill=\"none\" stroke=\"#000000\" d=\"M100.1546,-36C108.2301,-36 116.8986,-36 125.6212,-36\"/>\n",
       "<polygon fill=\"#000000\" stroke=\"#000000\" points=\"125.8534,-39.5001 135.8533,-36 125.8533,-32.5001 125.8534,-39.5001\"/>\n",
       "</g>\n",
       "</g>\n",
       "</svg>\n"
      ],
      "text/plain": [
       "ContinuousQuery(name='trades_cq', project='trades_proj')"
      ]
     },
     "execution_count": 15,
     "metadata": {},
     "output_type": "execute_result"
    }
   ],
   "source": [
    "trades_project.queries['trades_cq']"
   ]
  },
  {
   "cell_type": "markdown",
   "metadata": {},
   "source": [
    "Display the XML of the project"
   ]
  },
  {
   "cell_type": "code",
   "execution_count": 16,
   "metadata": {},
   "outputs": [
    {
     "name": "stdout",
     "output_type": "stream",
     "text": [
      "<engine>\n",
      "  <projects>\n",
      "    <project name=\"trades_proj\" pubsub=\"auto\" threads=\"4\">\n",
      "      <contqueries>\n",
      "        <contquery name=\"trades_cq\">\n",
      "          <windows>\n",
      "            <window-join name=\"AddTraderName\">\n",
      "              <join type=\"leftouter\">\n",
      "                <conditions>\n",
      "                  <fields left=\"traderID\" right=\"ID\" />\n",
      "                </conditions>\n",
      "              </join>\n",
      "              <output>\n",
      "                <field-selection name=\"security\" source=\"l_security\" />\n",
      "                <field-selection name=\"quantity\" source=\"l_quantity\" />\n",
      "                <field-selection name=\"price\" source=\"l_price\" />\n",
      "                <field-selection name=\"traderID\" source=\"l_traderID\" />\n",
      "                <field-selection name=\"time\" source=\"l_time\" />\n",
      "                <field-selection name=\"name\" source=\"r_name\" />\n",
      "              </output>\n",
      "            </window-join>\n",
      "            <window-aggregate name=\"BySecurity\">\n",
      "              <schema>\n",
      "                <fields>\n",
      "                  <field key=\"true\" name=\"security\" type=\"string\" />\n",
      "                  <field key=\"false\" name=\"quantityTotal\" type=\"double\" />\n",
      "                  <field key=\"false\" name=\"costTotal\" type=\"double\" />\n",
      "                </fields>\n",
      "              </schema>\n",
      "              <output>\n",
      "                <field-expr>ESP_aSum(quantity)</field-expr>\n",
      "                <field-expr>ESP_aSum(totalCost)</field-expr>\n",
      "              </output>\n",
      "            </window-aggregate>\n",
      "            <window-filter name=\"LargeTrades\">\n",
      "              <expression>quantity &gt;= 100</expression>\n",
      "            </window-filter>\n",
      "            <window-compute name=\"TotalCost\">\n",
      "              <description>\n",
      "        This is a compute window. The non-key fields are computed\n",
      "        in the output section.\n",
      "       </description>\n",
      "              <schema>\n",
      "                <fields>\n",
      "                  <field key=\"true\" name=\"tradeID\" type=\"string\" />\n",
      "                  <field key=\"false\" name=\"security\" type=\"string\" />\n",
      "                  <field key=\"false\" name=\"quantity\" type=\"int32\" />\n",
      "                  <field key=\"false\" name=\"price\" type=\"double\" />\n",
      "                  <field key=\"false\" name=\"totalCost\" type=\"double\" />\n",
      "                  <field key=\"false\" name=\"traderID\" type=\"int64\" />\n",
      "                  <field key=\"false\" name=\"time\" type=\"stamp\" />\n",
      "                  <field key=\"false\" name=\"name\" type=\"string\" />\n",
      "                </fields>\n",
      "              </schema>\n",
      "              <output>\n",
      "                <field-expr>security</field-expr>\n",
      "                <field-expr>quantity</field-expr>\n",
      "                <field-expr>price</field-expr>\n",
      "                <field-expr>price*quantity</field-expr>\n",
      "                <field-expr>traderID</field-expr>\n",
      "                <field-expr>time</field-expr>\n",
      "                <field-expr>name</field-expr>\n",
      "              </output>\n",
      "            </window-compute>\n",
      "            <window-source name=\"Traders\">\n",
      "              <schema>\n",
      "                <fields>\n",
      "                  <field key=\"true\" name=\"ID\" type=\"int64\" />\n",
      "                  <field key=\"false\" name=\"name\" type=\"string\" />\n",
      "                </fields>\n",
      "              </schema>\n",
      "            </window-source>\n",
      "            <window-source index=\"pi_RBTREE\" name=\"Trades\">\n",
      "              <schema>\n",
      "                <fields>\n",
      "                  <field key=\"true\" name=\"tradeID\" type=\"string\" />\n",
      "                  <field key=\"false\" name=\"security\" type=\"string\" />\n",
      "                  <field key=\"false\" name=\"quantity\" type=\"int32\" />\n",
      "                  <field key=\"false\" name=\"price\" type=\"double\" />\n",
      "                  <field key=\"false\" name=\"traderID\" type=\"int64\" />\n",
      "                  <field key=\"false\" name=\"time\" type=\"stamp\" />\n",
      "                </fields>\n",
      "              </schema>\n",
      "            </window-source>\n",
      "          </windows>\n",
      "          <edges>\n",
      "            <edge source=\"LargeTrades\" target=\"AddTraderName\" />\n",
      "            <edge source=\"Traders\" target=\"AddTraderName\" />\n",
      "            <edge source=\"Trades\" target=\"LargeTrades\" />\n",
      "            <edge source=\"AddTraderName\" target=\"TotalCost\" />\n",
      "            <edge source=\"TotalCost\" target=\"BySecurity\" />\n",
      "          </edges>\n",
      "        </contquery>\n",
      "      </contqueries>\n",
      "    </project>\n",
      "  </projects>\n",
      "</engine>\n",
      "\n"
     ]
    }
   ],
   "source": [
    "print(trades_project.to_xml(pretty=True))"
   ]
  },
  {
   "cell_type": "markdown",
   "metadata": {},
   "source": [
    "Create a new project named 'my_proj'"
   ]
  },
  {
   "cell_type": "code",
   "execution_count": 17,
   "metadata": {},
   "outputs": [
    {
     "data": {
      "image/svg+xml": [
       "<?xml version=\"1.0\" encoding=\"UTF-8\" standalone=\"no\"?>\n",
       "<!DOCTYPE svg PUBLIC \"-//W3C//DTD SVG 1.1//EN\"\n",
       " \"http://www.w3.org/Graphics/SVG/1.1/DTD/svg11.dtd\">\n",
       "<!-- Generated by graphviz version 2.40.1 (20161225.0304)\n",
       " -->\n",
       "<!-- Title: %3 Pages: 1 -->\n",
       "<svg width=\"82.0pt\" height=\"44.0pt\"\n",
       " viewBox=\"0.00 0.00 82.00 44.00\" xmlns=\"http://www.w3.org/2000/svg\" xmlns:xlink=\"http://www.w3.org/1999/xlink\">\n",
       "<g id=\"graph0\" class=\"graph\" transform=\"scale(1 1) rotate(0) translate(4 40)\">\n",
       "<title>%3</title>\n",
       "<polygon fill=\"#ffffff\" stroke=\"transparent\" points=\"-4,4 -4,-40 78,-40 78,4 -4,4\"/>\n",
       "<!-- my_proj -->\n",
       "<g id=\"node1\" class=\"node\">\n",
       "<title>my_proj</title>\n",
       "<path fill=\"#dadada\" stroke=\"#c0c0c0\" stroke-width=\"2\" d=\"M62,-36C62,-36 12,-36 12,-36 6,-36 0,-30 0,-24 0,-24 0,-12 0,-12 0,-6 6,0 12,0 12,0 62,0 62,0 68,0 74,-6 74,-12 74,-12 74,-24 74,-24 74,-30 68,-36 62,-36\"/>\n",
       "<text text-anchor=\"middle\" x=\"37\" y=\"-14.3\" font-family=\"Helvetica,sans-Serif\" font-size=\"14.00\" fill=\"#000000\">my_proj</text>\n",
       "</g>\n",
       "</g>\n",
       "</svg>\n"
      ],
      "text/plain": [
       "Project(name='my_proj')"
      ]
     },
     "execution_count": 17,
     "metadata": {},
     "output_type": "execute_result"
    }
   ],
   "source": [
    "my_project=server.create_project('my_proj')\n",
    "my_project"
   ]
  },
  {
   "cell_type": "markdown",
   "metadata": {},
   "source": [
    "Add a continuous query called 'trades_cq' to the project"
   ]
  },
  {
   "cell_type": "code",
   "execution_count": 18,
   "metadata": {},
   "outputs": [
    {
     "data": {
      "image/svg+xml": [
       "<?xml version=\"1.0\" encoding=\"UTF-8\" standalone=\"no\"?>\n",
       "<!DOCTYPE svg PUBLIC \"-//W3C//DTD SVG 1.1//EN\"\n",
       " \"http://www.w3.org/Graphics/SVG/1.1/DTD/svg11.dtd\">\n",
       "<!-- Generated by graphviz version 2.40.1 (20161225.0304)\n",
       " -->\n",
       "<!-- Title: %3 Pages: 1 -->\n",
       "<svg width=\"95.0pt\" height=\"44.0pt\"\n",
       " viewBox=\"0.00 0.00 95.00 44.00\" xmlns=\"http://www.w3.org/2000/svg\" xmlns:xlink=\"http://www.w3.org/1999/xlink\">\n",
       "<g id=\"graph0\" class=\"graph\" transform=\"scale(1 1) rotate(0) translate(4 40)\">\n",
       "<title>%3</title>\n",
       "<polygon fill=\"#ffffff\" stroke=\"transparent\" points=\"-4,4 -4,-40 91,-40 91,4 -4,4\"/>\n",
       "<!-- my_proj.trades_cq -->\n",
       "<g id=\"node1\" class=\"node\">\n",
       "<title>my_proj.trades_cq</title>\n",
       "<path fill=\"#f0f0f0\" stroke=\"#a0a0a0\" d=\"M75,-36C75,-36 12,-36 12,-36 6,-36 0,-30 0,-24 0,-24 0,-12 0,-12 0,-6 6,0 12,0 12,0 75,0 75,0 81,0 87,-6 87,-12 87,-12 87,-24 87,-24 87,-30 81,-36 75,-36\"/>\n",
       "<text text-anchor=\"middle\" x=\"43.5\" y=\"-14.3\" font-family=\"Times,serif\" font-size=\"14.00\" fill=\"#000000\">trades_cq</text>\n",
       "</g>\n",
       "</g>\n",
       "</svg>\n"
      ],
      "text/plain": [
       "ContinuousQuery(name='trades_cq', project='my_proj')"
      ]
     },
     "execution_count": 18,
     "metadata": {},
     "output_type": "execute_result"
    }
   ],
   "source": [
    "my_query = my_project.add_query('trades_cq')\n",
    "my_query"
   ]
  },
  {
   "cell_type": "markdown",
   "metadata": {},
   "source": [
    "Continue to build your project by adding a source window called 'Trades' to the project. \n",
    "\n",
    "Specify any input variables in the schema along with their datatype. You may choose to add a key to a variable by placing a * after its name.\n",
    "\n",
    "After creating the window, display an image of it."
   ]
  },
  {
   "cell_type": "code",
   "execution_count": 19,
   "metadata": {},
   "outputs": [
    {
     "data": {
      "image/svg+xml": [
       "<?xml version=\"1.0\" encoding=\"UTF-8\" standalone=\"no\"?>\n",
       "<!DOCTYPE svg PUBLIC \"-//W3C//DTD SVG 1.1//EN\"\n",
       " \"http://www.w3.org/Graphics/SVG/1.1/DTD/svg11.dtd\">\n",
       "<!-- Generated by graphviz version 2.40.1 (20161225.0304)\n",
       " -->\n",
       "<!-- Title: %3 Pages: 1 -->\n",
       "<svg width=\"171.0pt\" height=\"152.0pt\"\n",
       " viewBox=\"0.00 0.00 171.00 152.00\" xmlns=\"http://www.w3.org/2000/svg\" xmlns:xlink=\"http://www.w3.org/1999/xlink\">\n",
       "<g id=\"graph0\" class=\"graph\" transform=\"scale(1 1) rotate(0) translate(4 148)\">\n",
       "<title>%3</title>\n",
       "<polygon fill=\"#ffffff\" stroke=\"transparent\" points=\"-4,4 -4,-148 167,-148 167,4 -4,4\"/>\n",
       "<!-- None.None.Trades -->\n",
       "<g id=\"node1\" class=\"node\">\n",
       "<title>None.None.Trades</title>\n",
       "<polygon fill=\"#c8f0ff\" stroke=\"#58a0d3\" stroke-width=\"2\" points=\"163,-144 0,-144 0,0 163,0 163,-144\"/>\n",
       "<text text-anchor=\"start\" x=\"58\" y=\"-120.8\" font-family=\"Helvetica,sans-Serif\" font-size=\"14.00\" fill=\"#000000\">Trades</text>\n",
       "<text text-anchor=\"start\" x=\"79.5\" y=\"-105.8\" font-family=\"Helvetica,sans-Serif\" font-size=\"14.00\" fill=\"#000000\"> </text>\n",
       "<text text-anchor=\"start\" x=\"18.5\" y=\"-91.8\" font-family=\"Helvetica,sans-Serif\" font-size=\"14.00\" fill=\"#000000\">🔑</text>\n",
       "<text text-anchor=\"start\" x=\"36.5\" y=\"-91.8\" font-family=\"Helvetica,sans-Serif\" font-size=\"14.00\" fill=\"#c49810\">tradeID : string</text>\n",
       "<text text-anchor=\"start\" x=\"26.5\" y=\"-75.8\" font-family=\"Helvetica,sans-Serif\" font-size=\"14.00\" fill=\"#808080\">security : string</text>\n",
       "<text text-anchor=\"start\" x=\"27.5\" y=\"-60.8\" font-family=\"Helvetica,sans-Serif\" font-size=\"14.00\" fill=\"#808080\">quantity : int32</text>\n",
       "<text text-anchor=\"start\" x=\"33\" y=\"-45.8\" font-family=\"Helvetica,sans-Serif\" font-size=\"14.00\" fill=\"#808080\">price : double</text>\n",
       "<text text-anchor=\"start\" x=\"27\" y=\"-30.8\" font-family=\"Helvetica,sans-Serif\" font-size=\"14.00\" fill=\"#808080\">traderID : int64</text>\n",
       "<text text-anchor=\"start\" x=\"36.5\" y=\"-15.8\" font-family=\"Helvetica,sans-Serif\" font-size=\"14.00\" fill=\"#808080\">time : stamp</text>\n",
       "</g>\n",
       "</g>\n",
       "</svg>\n"
      ],
      "text/plain": [
       "SourceWindow(name='Trades', contquery=None, project=None)"
      ]
     },
     "execution_count": 19,
     "metadata": {},
     "output_type": "execute_result"
    }
   ],
   "source": [
    "source_trades = server.SourceWindow(name='Trades',\n",
    "                                   schema=('tradeID*:string', 'security:string', 'quantity:int32', 'price:double', 'traderID:int64', 'time:stamp'),\n",
    "                                   index_type='pi_RBTREE')\n",
    "\n",
    "source_trades"
   ]
  },
  {
   "cell_type": "markdown",
   "metadata": {},
   "source": [
    "Add the source window'Trades' to the continuous query 'trades_cq'.  Then display an image of the project so far."
   ]
  },
  {
   "cell_type": "code",
   "execution_count": 20,
   "metadata": {},
   "outputs": [
    {
     "data": {
      "image/svg+xml": [
       "<?xml version=\"1.0\" encoding=\"UTF-8\" standalone=\"no\"?>\n",
       "<!DOCTYPE svg PUBLIC \"-//W3C//DTD SVG 1.1//EN\"\n",
       " \"http://www.w3.org/Graphics/SVG/1.1/DTD/svg11.dtd\">\n",
       "<!-- Generated by graphviz version 2.40.1 (20161225.0304)\n",
       " -->\n",
       "<!-- Title: %3 Pages: 1 -->\n",
       "<svg width=\"140.0pt\" height=\"142.0pt\"\n",
       " viewBox=\"0.00 0.00 140.00 142.00\" xmlns=\"http://www.w3.org/2000/svg\" xmlns:xlink=\"http://www.w3.org/1999/xlink\">\n",
       "<g id=\"graph0\" class=\"graph\" transform=\"scale(1 1) rotate(0) translate(4 138)\">\n",
       "<title>%3</title>\n",
       "<polygon fill=\"#ffffff\" stroke=\"transparent\" points=\"-4,4 -4,-138 136,-138 136,4 -4,4\"/>\n",
       "<g id=\"clust1\" class=\"cluster\">\n",
       "<title>cluster_my_proj</title>\n",
       "<path fill=\"#dadada\" stroke=\"#c0c0c0\" stroke-width=\"2\" d=\"M20,-8C20,-8 112,-8 112,-8 118,-8 124,-14 124,-20 124,-20 124,-114 124,-114 124,-120 118,-126 112,-126 112,-126 20,-126 20,-126 14,-126 8,-120 8,-114 8,-114 8,-20 8,-20 8,-14 14,-8 20,-8\"/>\n",
       "<text text-anchor=\"middle\" x=\"45\" y=\"-110.8\" font-family=\"Helvetica,sans-Serif\" font-size=\"14.00\" fill=\"#000000\">my_proj</text>\n",
       "</g>\n",
       "<g id=\"clust3\" class=\"cluster\">\n",
       "<title>cluster_my_proj_trades_cq</title>\n",
       "<path fill=\"#f0f0f0\" stroke=\"#a0a0a0\" d=\"M28,-16C28,-16 104,-16 104,-16 110,-16 116,-22 116,-28 116,-28 116,-83 116,-83 116,-89 110,-95 104,-95 104,-95 28,-95 28,-95 22,-95 16,-89 16,-83 16,-83 16,-28 16,-28 16,-22 22,-16 28,-16\"/>\n",
       "<text text-anchor=\"middle\" x=\"59\" y=\"-79.8\" font-family=\"Helvetica,sans-Serif\" font-size=\"14.00\" fill=\"#000000\">trades_cq</text>\n",
       "</g>\n",
       "<!-- my_proj.trades_cq.Trades -->\n",
       "<g id=\"node1\" class=\"node\">\n",
       "<title>my_proj.trades_cq.Trades</title>\n",
       "<polygon fill=\"#c8f0ff\" stroke=\"#58a0d3\" stroke-width=\"2\" points=\"108,-63.5 24,-63.5 24,-24.5 108,-24.5 108,-63.5\"/>\n",
       "<text text-anchor=\"middle\" x=\"66\" y=\"-40.3\" font-family=\"Helvetica,sans-Serif\" font-size=\"14.00\" fill=\"#000000\">Trades</text>\n",
       "</g>\n",
       "</g>\n",
       "</svg>\n"
      ],
      "text/plain": [
       "Project(name='my_proj')"
      ]
     },
     "execution_count": 20,
     "metadata": {},
     "output_type": "execute_result"
    }
   ],
   "source": [
    "my_query.add_window(source_trades)\n",
    "\n",
    "my_project"
   ]
  },
  {
   "cell_type": "markdown",
   "metadata": {},
   "source": [
    "Create another source window that receives data about the Traders. Name this new window 'Traders'.\n",
    "Note that the input variable tradesID is specified to be a key.  Then display an image of the Source window 'Traders'."
   ]
  },
  {
   "cell_type": "code",
   "execution_count": 21,
   "metadata": {},
   "outputs": [
    {
     "data": {
      "image/svg+xml": [
       "<?xml version=\"1.0\" encoding=\"UTF-8\" standalone=\"no\"?>\n",
       "<!DOCTYPE svg PUBLIC \"-//W3C//DTD SVG 1.1//EN\"\n",
       " \"http://www.w3.org/Graphics/SVG/1.1/DTD/svg11.dtd\">\n",
       "<!-- Generated by graphviz version 2.40.1 (20161225.0304)\n",
       " -->\n",
       "<!-- Title: %3 Pages: 1 -->\n",
       "<svg width=\"171.0pt\" height=\"92.0pt\"\n",
       " viewBox=\"0.00 0.00 171.00 92.00\" xmlns=\"http://www.w3.org/2000/svg\" xmlns:xlink=\"http://www.w3.org/1999/xlink\">\n",
       "<g id=\"graph0\" class=\"graph\" transform=\"scale(1 1) rotate(0) translate(4 88)\">\n",
       "<title>%3</title>\n",
       "<polygon fill=\"#ffffff\" stroke=\"transparent\" points=\"-4,4 -4,-88 167,-88 167,4 -4,4\"/>\n",
       "<!-- None.None.Traders -->\n",
       "<g id=\"node1\" class=\"node\">\n",
       "<title>None.None.Traders</title>\n",
       "<polygon fill=\"#c8f0ff\" stroke=\"#58a0d3\" stroke-width=\"2\" points=\"163,-84 0,-84 0,0 163,0 163,-84\"/>\n",
       "<text text-anchor=\"start\" x=\"55\" y=\"-60.8\" font-family=\"Helvetica,sans-Serif\" font-size=\"14.00\" fill=\"#000000\">Traders</text>\n",
       "<text text-anchor=\"start\" x=\"79.5\" y=\"-45.8\" font-family=\"Helvetica,sans-Serif\" font-size=\"14.00\" fill=\"#000000\"> </text>\n",
       "<text text-anchor=\"start\" x=\"18.5\" y=\"-31.8\" font-family=\"Helvetica,sans-Serif\" font-size=\"14.00\" fill=\"#000000\">🔑</text>\n",
       "<text text-anchor=\"start\" x=\"36.5\" y=\"-31.8\" font-family=\"Helvetica,sans-Serif\" font-size=\"14.00\" fill=\"#c49810\">tradeID : string</text>\n",
       "<text text-anchor=\"start\" x=\"34\" y=\"-15.8\" font-family=\"Helvetica,sans-Serif\" font-size=\"14.00\" fill=\"#808080\">name : string</text>\n",
       "</g>\n",
       "</g>\n",
       "</svg>\n"
      ],
      "text/plain": [
       "SourceWindow(name='Traders', contquery=None, project=None)"
      ]
     },
     "execution_count": 21,
     "metadata": {},
     "output_type": "execute_result"
    }
   ],
   "source": [
    "source_traders = server.SourceWindow(name='Traders', schema=('tradeID*:string', 'name:string'))\n",
    "\n",
    "source_traders"
   ]
  },
  {
   "cell_type": "markdown",
   "metadata": {},
   "source": [
    "Make a FilterWindow called 'Large Trades'. Add an expression to the FilterWindow, that defines what data passes through it. In this case, let Large trades that have a quantity that is at least 100 pass through."
   ]
  },
  {
   "cell_type": "code",
   "execution_count": 22,
   "metadata": {},
   "outputs": [],
   "source": [
    "filter_large = server.FilterWindow(name='LargeTrades')\n",
    "\n",
    "filter_large.set_expression('quantity >= 100')"
   ]
  },
  {
   "cell_type": "markdown",
   "metadata": {},
   "source": [
    "Create a JoinWindow called 'AddTraderName' and specify the type of join as well as the join conditions.\n",
    "Define field selections and specify the variable pairs to be joined.\n",
    "Place 'l_' before all variables that come from the left join, and 'r_' before those from the right join.\n",
    "Display the field selections.  Then run a loop to perform the actual join."
   ]
  },
  {
   "cell_type": "code",
   "execution_count": 23,
   "metadata": {},
   "outputs": [],
   "source": [
    "join = server.JoinWindow(name='AddTraderName', type='leftouter', conditions=[('tradeID', 'tradeID')])\n",
    "\n",
    "\n",
    "field_selections = [['security', 'l_security'], ['quantity', 'l_quantity'], ['price', 'l_price'], ['traderID', 'l_traderID'], ['time', 'l_time'], ['name', 'r_name']]\n",
    "\n",
    "field_selections\n",
    "\n",
    "for i in range(len(field_selections)):\n",
    "    join.add_field_selection(field_selections[i][0], field_selections[i][1])"
   ]
  },
  {
   "cell_type": "markdown",
   "metadata": {},
   "source": [
    "Add a compute window to the project called 'TotalCost' to calculate price*quantity.\n",
    "Though the variable totalCost does not exist yet, you must specify it in the output schema. \n",
    "Additionally, in the schema you must include any variables that are needed to perform the calculation\n",
    "Then, add field expressions that define how each variable in your output schema is created.\n",
    "Notice that variables are created in the order that they were specified in your output schema. "
   ]
  },
  {
   "cell_type": "code",
   "execution_count": 24,
   "metadata": {},
   "outputs": [
    {
     "data": {
      "image/svg+xml": [
       "<?xml version=\"1.0\" encoding=\"UTF-8\" standalone=\"no\"?>\n",
       "<!DOCTYPE svg PUBLIC \"-//W3C//DTD SVG 1.1//EN\"\n",
       " \"http://www.w3.org/Graphics/SVG/1.1/DTD/svg11.dtd\">\n",
       "<!-- Generated by graphviz version 2.40.1 (20161225.0304)\n",
       " -->\n",
       "<!-- Title: %3 Pages: 1 -->\n",
       "<svg width=\"171.0pt\" height=\"182.0pt\"\n",
       " viewBox=\"0.00 0.00 171.00 182.00\" xmlns=\"http://www.w3.org/2000/svg\" xmlns:xlink=\"http://www.w3.org/1999/xlink\">\n",
       "<g id=\"graph0\" class=\"graph\" transform=\"scale(1 1) rotate(0) translate(4 178)\">\n",
       "<title>%3</title>\n",
       "<polygon fill=\"#ffffff\" stroke=\"transparent\" points=\"-4,4 -4,-178 167,-178 167,4 -4,4\"/>\n",
       "<!-- None.None.TotalCost -->\n",
       "<g id=\"node1\" class=\"node\">\n",
       "<title>None.None.TotalCost</title>\n",
       "<polygon fill=\"#c8f0ff\" stroke=\"#58a0d3\" stroke-width=\"2\" points=\"163,-174 0,-174 0,0 163,0 163,-174\"/>\n",
       "<text text-anchor=\"start\" x=\"49\" y=\"-150.8\" font-family=\"Helvetica,sans-Serif\" font-size=\"14.00\" fill=\"#000000\">TotalCost</text>\n",
       "<text text-anchor=\"start\" x=\"79.5\" y=\"-135.8\" font-family=\"Helvetica,sans-Serif\" font-size=\"14.00\" fill=\"#000000\"> </text>\n",
       "<text text-anchor=\"start\" x=\"18.5\" y=\"-121.8\" font-family=\"Helvetica,sans-Serif\" font-size=\"14.00\" fill=\"#000000\">🔑</text>\n",
       "<text text-anchor=\"start\" x=\"36.5\" y=\"-121.8\" font-family=\"Helvetica,sans-Serif\" font-size=\"14.00\" fill=\"#c49810\">tradeID : string</text>\n",
       "<text text-anchor=\"start\" x=\"26.5\" y=\"-105.8\" font-family=\"Helvetica,sans-Serif\" font-size=\"14.00\" fill=\"#808080\">security : string</text>\n",
       "<text text-anchor=\"start\" x=\"27.5\" y=\"-90.8\" font-family=\"Helvetica,sans-Serif\" font-size=\"14.00\" fill=\"#808080\">quantity : int32</text>\n",
       "<text text-anchor=\"start\" x=\"33\" y=\"-75.8\" font-family=\"Helvetica,sans-Serif\" font-size=\"14.00\" fill=\"#808080\">price : double</text>\n",
       "<text text-anchor=\"start\" x=\"18.5\" y=\"-60.8\" font-family=\"Helvetica,sans-Serif\" font-size=\"14.00\" fill=\"#808080\">totalCost : double</text>\n",
       "<text text-anchor=\"start\" x=\"27\" y=\"-45.8\" font-family=\"Helvetica,sans-Serif\" font-size=\"14.00\" fill=\"#808080\">traderID : int64</text>\n",
       "<text text-anchor=\"start\" x=\"36.5\" y=\"-30.8\" font-family=\"Helvetica,sans-Serif\" font-size=\"14.00\" fill=\"#808080\">time : stamp</text>\n",
       "<text text-anchor=\"start\" x=\"34\" y=\"-15.8\" font-family=\"Helvetica,sans-Serif\" font-size=\"14.00\" fill=\"#808080\">name : string</text>\n",
       "</g>\n",
       "</g>\n",
       "</svg>\n"
      ],
      "text/plain": [
       "ComputeWindow(name='TotalCost', contquery=None, project=None)"
      ]
     },
     "execution_count": 24,
     "metadata": {},
     "output_type": "execute_result"
    }
   ],
   "source": [
    "compute = server.ComputeWindow(name='TotalCost',\n",
    "schema=('tradeID*:string', 'security:string', 'quantity:int32',\n",
    "'price:double', 'totalCost:double', 'traderID:int64',\n",
    "'time:stamp', 'name:string'))\n",
    "\n",
    "compute.add_field_expressions('security', 'quantity', 'price', 'price*quantity', 'traderID', 'time', 'name')\n",
    "\n",
    "compute"
   ]
  },
  {
   "cell_type": "markdown",
   "metadata": {},
   "source": [
    "Add an aggregate window to our project, and call it 'BySecurity'. In this window you compute quantityTotal and costTotal. Most importantly, the calculations are done by the specified key value, security*.\n",
    "Add field expressions to the calculate window to declare how the values in the output schema are computed. Here, you calculate the 'quantityTotal' by 'ESP_aSum(quantity)', and 'costTotal' by 'ESP_aSum(totalCost)'.  Then display the aggregate window along with its schema."
   ]
  },
  {
   "cell_type": "code",
   "execution_count": 25,
   "metadata": {},
   "outputs": [
    {
     "data": {
      "image/svg+xml": [
       "<?xml version=\"1.0\" encoding=\"UTF-8\" standalone=\"no\"?>\n",
       "<!DOCTYPE svg PUBLIC \"-//W3C//DTD SVG 1.1//EN\"\n",
       " \"http://www.w3.org/Graphics/SVG/1.1/DTD/svg11.dtd\">\n",
       "<!-- Generated by graphviz version 2.40.1 (20161225.0304)\n",
       " -->\n",
       "<!-- Title: %3 Pages: 1 -->\n",
       "<svg width=\"199.0pt\" height=\"107.0pt\"\n",
       " viewBox=\"0.00 0.00 199.00 107.00\" xmlns=\"http://www.w3.org/2000/svg\" xmlns:xlink=\"http://www.w3.org/1999/xlink\">\n",
       "<g id=\"graph0\" class=\"graph\" transform=\"scale(1 1) rotate(0) translate(4 103)\">\n",
       "<title>%3</title>\n",
       "<polygon fill=\"#ffffff\" stroke=\"transparent\" points=\"-4,4 -4,-103 195,-103 195,4 -4,4\"/>\n",
       "<!-- None.None.BySecurity -->\n",
       "<g id=\"node1\" class=\"node\">\n",
       "<title>None.None.BySecurity</title>\n",
       "<polygon fill=\"#c8f0ff\" stroke=\"#58a0d3\" stroke-width=\"2\" points=\"191,-99 0,-99 0,0 191,0 191,-99\"/>\n",
       "<text text-anchor=\"start\" x=\"58\" y=\"-75.3\" font-family=\"Helvetica,sans-Serif\" font-size=\"14.00\" fill=\"#000000\">BySecurity</text>\n",
       "<text text-anchor=\"start\" x=\"93.5\" y=\"-60.3\" font-family=\"Helvetica,sans-Serif\" font-size=\"14.00\" fill=\"#000000\"> </text>\n",
       "<text text-anchor=\"start\" x=\"31.5\" y=\"-46.3\" font-family=\"Helvetica,sans-Serif\" font-size=\"14.00\" fill=\"#000000\">🔑</text>\n",
       "<text text-anchor=\"start\" x=\"49.5\" y=\"-46.3\" font-family=\"Helvetica,sans-Serif\" font-size=\"14.00\" fill=\"#c49810\">security : string</text>\n",
       "<text text-anchor=\"start\" x=\"18.5\" y=\"-30.3\" font-family=\"Helvetica,sans-Serif\" font-size=\"14.00\" fill=\"#808080\">quantityTotal : double</text>\n",
       "<text text-anchor=\"start\" x=\"33\" y=\"-15.3\" font-family=\"Helvetica,sans-Serif\" font-size=\"14.00\" fill=\"#808080\">costTotal : double</text>\n",
       "</g>\n",
       "</g>\n",
       "</svg>\n"
      ],
      "text/plain": [
       "AggregateWindow(name='BySecurity', contquery=None, project=None)"
      ]
     },
     "execution_count": 25,
     "metadata": {},
     "output_type": "execute_result"
    }
   ],
   "source": [
    "aggregate = server.AggregateWindow(name='BySecurity', schema=('security*:string', 'quantityTotal:double',\n",
    "'costTotal:double'))\n",
    "\n",
    "aggregate.add_field_expressions('ESP_aSum(quantity)', 'ESP_aSum(totalCost)')\n",
    "\n",
    "aggregate"
   ]
  },
  {
   "cell_type": "markdown",
   "metadata": {},
   "source": [
    "Assemble the project by defining edges between each of the windows.\n",
    "Create an edge between the 'Trades' Source window and the 'LargeTrades' Filter window with the data role.\n",
    "Create an edge between the filterWindow 'LargeTrades' and the the join window 'AddTraderName' with the role 'left', specifying the left join.\n",
    "Create an edge between the source window, 'Traders' and the join window 'AddTraderName' with the role 'right', specifying the right join.\n",
    "Create an edge between the join window 'AddTraderName' and the compute window, 'TotalCost' with the data role. \n",
    "Create an edge between the aggregate window, 'BySecurity' and the compute window, 'TotalCost' with the data role."
   ]
  },
  {
   "cell_type": "code",
   "execution_count": 26,
   "metadata": {},
   "outputs": [],
   "source": [
    "source_trades.add_target(filter_large, role='data')\n",
    "filter_large.add_target(join, role='left') \n",
    "source_traders.add_target(join, role='right')\n",
    "join.add_target(compute, role='data') \n",
    "compute.add_target(aggregate, role='data')"
   ]
  },
  {
   "cell_type": "code",
   "execution_count": 27,
   "metadata": {},
   "outputs": [
    {
     "data": {
      "image/svg+xml": [
       "<?xml version=\"1.0\" encoding=\"UTF-8\" standalone=\"no\"?>\n",
       "<!DOCTYPE svg PUBLIC \"-//W3C//DTD SVG 1.1//EN\"\n",
       " \"http://www.w3.org/Graphics/SVG/1.1/DTD/svg11.dtd\">\n",
       "<!-- Generated by graphviz version 2.40.1 (20161225.0304)\n",
       " -->\n",
       "<!-- Title: %3 Pages: 1 -->\n",
       "<svg width=\"1364.0pt\" height=\"199.0pt\"\n",
       " viewBox=\"0.00 0.00 1364.00 199.00\" xmlns=\"http://www.w3.org/2000/svg\" xmlns:xlink=\"http://www.w3.org/1999/xlink\">\n",
       "<g id=\"graph0\" class=\"graph\" transform=\"scale(1 1) rotate(0) translate(4 195)\">\n",
       "<title>%3</title>\n",
       "<polygon fill=\"#ffffff\" stroke=\"transparent\" points=\"-4,4 -4,-195 1360,-195 1360,4 -4,4\"/>\n",
       "<g id=\"clust1\" class=\"cluster\">\n",
       "<title>cluster_my_proj</title>\n",
       "<path fill=\"#dadada\" stroke=\"#c0c0c0\" stroke-width=\"2\" d=\"M20,-8C20,-8 1336,-8 1336,-8 1342,-8 1348,-14 1348,-20 1348,-20 1348,-171 1348,-171 1348,-177 1342,-183 1336,-183 1336,-183 20,-183 20,-183 14,-183 8,-177 8,-171 8,-171 8,-20 8,-20 8,-14 14,-8 20,-8\"/>\n",
       "<text text-anchor=\"middle\" x=\"45\" y=\"-167.8\" font-family=\"Helvetica,sans-Serif\" font-size=\"14.00\" fill=\"#000000\">my_proj</text>\n",
       "</g>\n",
       "<g id=\"clust3\" class=\"cluster\">\n",
       "<title>cluster_my_proj_trades_cq</title>\n",
       "<path fill=\"#f0f0f0\" stroke=\"#a0a0a0\" d=\"M28,-16C28,-16 1328,-16 1328,-16 1334,-16 1340,-22 1340,-28 1340,-28 1340,-140 1340,-140 1340,-146 1334,-152 1328,-152 1328,-152 28,-152 28,-152 22,-152 16,-146 16,-140 16,-140 16,-28 16,-28 16,-22 22,-16 28,-16\"/>\n",
       "<text text-anchor=\"middle\" x=\"59\" y=\"-136.8\" font-family=\"Helvetica,sans-Serif\" font-size=\"14.00\" fill=\"#000000\">trades_cq</text>\n",
       "</g>\n",
       "<!-- my_proj.trades_cq.AddTraderName -->\n",
       "<g id=\"node1\" class=\"node\">\n",
       "<title>my_proj.trades_cq.AddTraderName</title>\n",
       "<polygon fill=\"#c8f0ff\" stroke=\"#58a0d3\" stroke-width=\"2\" points=\"754,-90.5 601,-90.5 601,-51.5 754,-51.5 754,-90.5\"/>\n",
       "<text text-anchor=\"middle\" x=\"677.5\" y=\"-67.3\" font-family=\"Helvetica,sans-Serif\" font-size=\"14.00\" fill=\"#000000\">AddTraderName</text>\n",
       "</g>\n",
       "<!-- my_proj.trades_cq.TotalCost -->\n",
       "<g id=\"node2\" class=\"node\">\n",
       "<title>my_proj.trades_cq.TotalCost</title>\n",
       "<polygon fill=\"#c8f0ff\" stroke=\"#58a0d3\" stroke-width=\"2\" points=\"1038,-90.5 936,-90.5 936,-51.5 1038,-51.5 1038,-90.5\"/>\n",
       "<text text-anchor=\"middle\" x=\"987\" y=\"-67.3\" font-family=\"Helvetica,sans-Serif\" font-size=\"14.00\" fill=\"#000000\">TotalCost</text>\n",
       "</g>\n",
       "<!-- my_proj.trades_cq.AddTraderName&#45;&gt;my_proj.trades_cq.TotalCost -->\n",
       "<g id=\"edge1\" class=\"edge\">\n",
       "<title>my_proj.trades_cq.AddTraderName&#45;&gt;my_proj.trades_cq.TotalCost</title>\n",
       "<path fill=\"none\" stroke=\"#000000\" d=\"M754.1519,-71C766.635,-71 779.4271,-71 791.5,-71 791.5,-71 791.5,-71 898.5,-71 907.319,-71 916.6324,-71 925.7751,-71\"/>\n",
       "<polygon fill=\"#000000\" stroke=\"#000000\" points=\"925.9895,-74.5001 935.9895,-71 925.9895,-67.5001 925.9895,-74.5001\"/>\n",
       "<text text-anchor=\"middle\" x=\"845\" y=\"-74.8\" font-family=\"Times,serif\" font-style=\"italic\" font-size=\"14.00\" fill=\"#000000\">data</text>\n",
       "</g>\n",
       "<!-- my_proj.trades_cq.BySecurity -->\n",
       "<g id=\"node4\" class=\"node\">\n",
       "<title>my_proj.trades_cq.BySecurity</title>\n",
       "<polygon fill=\"#c8f0ff\" stroke=\"#58a0d3\" stroke-width=\"2\" points=\"1332,-90.5 1220,-90.5 1220,-51.5 1332,-51.5 1332,-90.5\"/>\n",
       "<text text-anchor=\"middle\" x=\"1276\" y=\"-67.3\" font-family=\"Helvetica,sans-Serif\" font-size=\"14.00\" fill=\"#000000\">BySecurity</text>\n",
       "</g>\n",
       "<!-- my_proj.trades_cq.TotalCost&#45;&gt;my_proj.trades_cq.BySecurity -->\n",
       "<g id=\"edge3\" class=\"edge\">\n",
       "<title>my_proj.trades_cq.TotalCost&#45;&gt;my_proj.trades_cq.BySecurity</title>\n",
       "<path fill=\"none\" stroke=\"#000000\" d=\"M1038.0105,-71C1050.2875,-71 1063.362,-71 1075.5,-71 1075.5,-71 1075.5,-71 1182.5,-71 1191.2276,-71 1200.4134,-71 1209.48,-71\"/>\n",
       "<polygon fill=\"#000000\" stroke=\"#000000\" points=\"1209.6351,-74.5001 1219.6351,-71 1209.6351,-67.5001 1209.6351,-74.5001\"/>\n",
       "<text text-anchor=\"middle\" x=\"1129\" y=\"-74.8\" font-family=\"Times,serif\" font-style=\"italic\" font-size=\"14.00\" fill=\"#000000\">data</text>\n",
       "</g>\n",
       "<!-- my_proj.trades_cq.LargeTrades -->\n",
       "<g id=\"node3\" class=\"node\">\n",
       "<title>my_proj.trades_cq.LargeTrades</title>\n",
       "<polygon fill=\"#c8f0ff\" stroke=\"#58a0d3\" stroke-width=\"2\" points=\"415,-63.5 290,-63.5 290,-24.5 415,-24.5 415,-63.5\"/>\n",
       "<text text-anchor=\"middle\" x=\"352.5\" y=\"-40.3\" font-family=\"Helvetica,sans-Serif\" font-size=\"14.00\" fill=\"#000000\">LargeTrades</text>\n",
       "</g>\n",
       "<!-- my_proj.trades_cq.LargeTrades&#45;&gt;my_proj.trades_cq.AddTraderName -->\n",
       "<g id=\"edge2\" class=\"edge\">\n",
       "<title>my_proj.trades_cq.LargeTrades&#45;&gt;my_proj.trades_cq.AddTraderName</title>\n",
       "<path fill=\"none\" stroke=\"#000000\" d=\"M415.1783,-44.8189C427.5482,-44.9263 440.4334,-45 452.5,-45 452.5,-45 452.5,-45 563.5,-45 577.1398,-45 591.4729,-46.7911 605.1958,-49.4331\"/>\n",
       "<polygon fill=\"#000000\" stroke=\"#000000\" points=\"604.5573,-52.8752 615.0616,-51.4938 605.9885,-46.0231 604.5573,-52.8752\"/>\n",
       "<text text-anchor=\"middle\" x=\"508\" y=\"-48.8\" font-family=\"Times,serif\" font-style=\"italic\" font-size=\"14.00\" fill=\"#000000\">left</text>\n",
       "</g>\n",
       "<!-- my_proj.trades_cq.Traders -->\n",
       "<g id=\"node5\" class=\"node\">\n",
       "<title>my_proj.trades_cq.Traders</title>\n",
       "<polygon fill=\"#c8f0ff\" stroke=\"#58a0d3\" stroke-width=\"2\" points=\"397.5,-120.5 307.5,-120.5 307.5,-81.5 397.5,-81.5 397.5,-120.5\"/>\n",
       "<text text-anchor=\"middle\" x=\"352.5\" y=\"-97.3\" font-family=\"Helvetica,sans-Serif\" font-size=\"14.00\" fill=\"#000000\">Traders</text>\n",
       "</g>\n",
       "<!-- my_proj.trades_cq.Traders&#45;&gt;my_proj.trades_cq.AddTraderName -->\n",
       "<g id=\"edge4\" class=\"edge\">\n",
       "<title>my_proj.trades_cq.Traders&#45;&gt;my_proj.trades_cq.AddTraderName</title>\n",
       "<path fill=\"none\" stroke=\"#000000\" d=\"M397.7964,-99.7108C414.9332,-99.3238 434.6145,-99 452.5,-99 452.5,-99 452.5,-99 563.5,-99 579.1312,-99 595.6291,-96.4866 611.0712,-92.9659\"/>\n",
       "<polygon fill=\"#000000\" stroke=\"#000000\" points=\"612.1662,-96.3012 621.0467,-90.5231 610.5012,-89.5021 612.1662,-96.3012\"/>\n",
       "<text text-anchor=\"middle\" x=\"508\" y=\"-102.8\" font-family=\"Times,serif\" font-style=\"italic\" font-size=\"14.00\" fill=\"#000000\">right</text>\n",
       "</g>\n",
       "<!-- my_proj.trades_cq.Trades -->\n",
       "<g id=\"node6\" class=\"node\">\n",
       "<title>my_proj.trades_cq.Trades</title>\n",
       "<polygon fill=\"#c8f0ff\" stroke=\"#58a0d3\" stroke-width=\"2\" points=\"108,-63.5 24,-63.5 24,-24.5 108,-24.5 108,-63.5\"/>\n",
       "<text text-anchor=\"middle\" x=\"66\" y=\"-40.3\" font-family=\"Helvetica,sans-Serif\" font-size=\"14.00\" fill=\"#000000\">Trades</text>\n",
       "</g>\n",
       "<!-- my_proj.trades_cq.Trades&#45;&gt;my_proj.trades_cq.LargeTrades -->\n",
       "<g id=\"edge5\" class=\"edge\">\n",
       "<title>my_proj.trades_cq.Trades&#45;&gt;my_proj.trades_cq.LargeTrades</title>\n",
       "<path fill=\"none\" stroke=\"#000000\" d=\"M108.084,-44C120.1646,-44 133.3542,-44 145.5,-44 145.5,-44 145.5,-44 252.5,-44 261.2667,-44 270.4657,-44 279.5853,-44\"/>\n",
       "<polygon fill=\"#000000\" stroke=\"#000000\" points=\"279.8208,-47.5001 289.8207,-44 279.8207,-40.5001 279.8208,-47.5001\"/>\n",
       "<text text-anchor=\"middle\" x=\"199\" y=\"-47.8\" font-family=\"Times,serif\" font-style=\"italic\" font-size=\"14.00\" fill=\"#000000\">data</text>\n",
       "</g>\n",
       "</g>\n",
       "</svg>\n"
      ],
      "text/plain": [
       "Project(name='my_proj')"
      ]
     },
     "execution_count": 27,
     "metadata": {},
     "output_type": "execute_result"
    }
   ],
   "source": [
    "my_query.add_windows(source_trades, source_traders, filter_large, join, compute, aggregate)\n",
    "\n",
    "my_project"
   ]
  },
  {
   "cell_type": "code",
   "execution_count": 28,
   "metadata": {},
   "outputs": [
    {
     "data": {
      "text/plain": [
       "{'my_proj': Project(name='my_proj'),\n",
       " 'trades_proj': Project(name='trades_proj')}"
      ]
     },
     "execution_count": 28,
     "metadata": {},
     "output_type": "execute_result"
    }
   ],
   "source": [
    "server.load_project(my_project)\n",
    "server.get_projects()"
   ]
  },
  {
   "cell_type": "code",
   "execution_count": 29,
   "metadata": {},
   "outputs": [
    {
     "name": "stdout",
     "output_type": "stream",
     "text": [
      "<engine>\n",
      "  <projects>\n",
      "    <project name=\"my_proj\" pubsub=\"auto\" threads=\"1\">\n",
      "      <contqueries>\n",
      "        <contquery name=\"trades_cq\">\n",
      "          <windows>\n",
      "            <window-join name=\"AddTraderName\">\n",
      "              <join type=\"leftouter\">\n",
      "                <conditions>\n",
      "                  <fields left=\"tradeID\" right=\"tradeID\" />\n",
      "                </conditions>\n",
      "              </join>\n",
      "              <output>\n",
      "                <field-selection name=\"security\" source=\"l_security\" />\n",
      "                <field-selection name=\"quantity\" source=\"l_quantity\" />\n",
      "                <field-selection name=\"price\" source=\"l_price\" />\n",
      "                <field-selection name=\"traderID\" source=\"l_traderID\" />\n",
      "                <field-selection name=\"time\" source=\"l_time\" />\n",
      "                <field-selection name=\"name\" source=\"r_name\" />\n",
      "              </output>\n",
      "            </window-join>\n",
      "            <window-aggregate name=\"BySecurity\">\n",
      "              <schema>\n",
      "                <fields>\n",
      "                  <field key=\"true\" name=\"security\" type=\"string\" />\n",
      "                  <field key=\"false\" name=\"quantityTotal\" type=\"double\" />\n",
      "                  <field key=\"false\" name=\"costTotal\" type=\"double\" />\n",
      "                </fields>\n",
      "              </schema>\n",
      "              <output>\n",
      "                <field-expr>ESP_aSum(quantity)</field-expr>\n",
      "                <field-expr>ESP_aSum(totalCost)</field-expr>\n",
      "              </output>\n",
      "            </window-aggregate>\n",
      "            <window-filter name=\"LargeTrades\">\n",
      "              <expression>quantity &gt;= 100</expression>\n",
      "            </window-filter>\n",
      "            <window-compute name=\"TotalCost\">\n",
      "              <schema>\n",
      "                <fields>\n",
      "                  <field key=\"true\" name=\"tradeID\" type=\"string\" />\n",
      "                  <field key=\"false\" name=\"security\" type=\"string\" />\n",
      "                  <field key=\"false\" name=\"quantity\" type=\"int32\" />\n",
      "                  <field key=\"false\" name=\"price\" type=\"double\" />\n",
      "                  <field key=\"false\" name=\"totalCost\" type=\"double\" />\n",
      "                  <field key=\"false\" name=\"traderID\" type=\"int64\" />\n",
      "                  <field key=\"false\" name=\"time\" type=\"stamp\" />\n",
      "                  <field key=\"false\" name=\"name\" type=\"string\" />\n",
      "                </fields>\n",
      "              </schema>\n",
      "              <output>\n",
      "                <field-expr>security</field-expr>\n",
      "                <field-expr>quantity</field-expr>\n",
      "                <field-expr>price</field-expr>\n",
      "                <field-expr>price*quantity</field-expr>\n",
      "                <field-expr>traderID</field-expr>\n",
      "                <field-expr>time</field-expr>\n",
      "                <field-expr>name</field-expr>\n",
      "              </output>\n",
      "            </window-compute>\n",
      "            <window-source name=\"Traders\">\n",
      "              <schema>\n",
      "                <fields>\n",
      "                  <field key=\"true\" name=\"tradeID\" type=\"string\" />\n",
      "                  <field key=\"false\" name=\"name\" type=\"string\" />\n",
      "                </fields>\n",
      "              </schema>\n",
      "            </window-source>\n",
      "            <window-source index=\"pi_RBTREE\" name=\"Trades\">\n",
      "              <schema>\n",
      "                <fields>\n",
      "                  <field key=\"true\" name=\"tradeID\" type=\"string\" />\n",
      "                  <field key=\"false\" name=\"security\" type=\"string\" />\n",
      "                  <field key=\"false\" name=\"quantity\" type=\"int32\" />\n",
      "                  <field key=\"false\" name=\"price\" type=\"double\" />\n",
      "                  <field key=\"false\" name=\"traderID\" type=\"int64\" />\n",
      "                  <field key=\"false\" name=\"time\" type=\"stamp\" />\n",
      "                </fields>\n",
      "              </schema>\n",
      "            </window-source>\n",
      "          </windows>\n",
      "          <edges>\n",
      "            <edge role=\"data\" source=\"Trades\" target=\"LargeTrades\" />\n",
      "            <edge role=\"left\" source=\"LargeTrades\" target=\"AddTraderName\" />\n",
      "            <edge role=\"right\" source=\"Traders\" target=\"AddTraderName\" />\n",
      "            <edge role=\"data\" source=\"AddTraderName\" target=\"TotalCost\" />\n",
      "            <edge role=\"data\" source=\"TotalCost\" target=\"BySecurity\" />\n",
      "          </edges>\n",
      "        </contquery>\n",
      "      </contqueries>\n",
      "    </project>\n",
      "  </projects>\n",
      "</engine>\n",
      "\n"
     ]
    }
   ],
   "source": [
    "print(my_project.to_xml(pretty=True))"
   ]
  },
  {
   "cell_type": "code",
   "execution_count": 30,
   "metadata": {},
   "outputs": [
    {
     "data": {
      "image/svg+xml": [
       "<?xml version=\"1.0\" encoding=\"UTF-8\" standalone=\"no\"?>\n",
       "<!DOCTYPE svg PUBLIC \"-//W3C//DTD SVG 1.1//EN\"\n",
       " \"http://www.w3.org/Graphics/SVG/1.1/DTD/svg11.dtd\">\n",
       "<!-- Generated by graphviz version 2.40.1 (20161225.0304)\n",
       " -->\n",
       "<!-- Title: %3 Pages: 1 -->\n",
       "<svg width=\"986pt\" height=\"237pt\"\n",
       " viewBox=\"0.00 0.00 986.00 237.00\" xmlns=\"http://www.w3.org/2000/svg\" xmlns:xlink=\"http://www.w3.org/1999/xlink\">\n",
       "<g id=\"graph0\" class=\"graph\" transform=\"scale(1 1) rotate(0) translate(4 233)\">\n",
       "<title>%3</title>\n",
       "<polygon fill=\"#ffffff\" stroke=\"transparent\" points=\"-4,4 -4,-233 982,-233 982,4 -4,4\"/>\n",
       "<g id=\"clust1\" class=\"cluster\">\n",
       "<title>cluster_trades_proj_trades_cq</title>\n",
       "<path fill=\"#f0f0f0\" stroke=\"#a0a0a0\" d=\"M20,-8C20,-8 958,-8 958,-8 964,-8 970,-14 970,-20 970,-20 970,-209 970,-209 970,-215 964,-221 958,-221 958,-221 20,-221 20,-221 14,-221 8,-215 8,-209 8,-209 8,-20 8,-20 8,-14 14,-8 20,-8\"/>\n",
       "<text text-anchor=\"middle\" x=\"51\" y=\"-205.8\" font-family=\"Helvetica,sans-Serif\" font-size=\"14.00\" fill=\"#000000\">trades_cq</text>\n",
       "</g>\n",
       "<!-- trades_proj.trades_cq.AddTraderName -->\n",
       "<g id=\"node1\" class=\"node\">\n",
       "<title>trades_proj.trades_cq.AddTraderName</title>\n",
       "<polygon fill=\"#c8f0ff\" stroke=\"#58a0d3\" stroke-width=\"2\" points=\"536,-130 383,-130 383,-76 536,-76 536,-130\"/>\n",
       "<text text-anchor=\"start\" x=\"401.5\" y=\"-106.8\" font-family=\"Helvetica,sans-Serif\" font-size=\"14.00\" fill=\"#000000\">AddTraderName</text>\n",
       "<text text-anchor=\"start\" x=\"457.5\" y=\"-91.8\" font-family=\"Helvetica,sans-Serif\" font-size=\"14.00\" fill=\"#000000\"> </text>\n",
       "</g>\n",
       "<!-- trades_proj.trades_cq.TotalCost -->\n",
       "<g id=\"node2\" class=\"node\">\n",
       "<title>trades_proj.trades_cq.TotalCost</title>\n",
       "<polygon fill=\"#c8f0ff\" stroke=\"#58a0d3\" stroke-width=\"2\" points=\"735,-190 572,-190 572,-16 735,-16 735,-190\"/>\n",
       "<text text-anchor=\"start\" x=\"621\" y=\"-166.8\" font-family=\"Helvetica,sans-Serif\" font-size=\"14.00\" fill=\"#000000\">TotalCost</text>\n",
       "<text text-anchor=\"start\" x=\"651.5\" y=\"-151.8\" font-family=\"Helvetica,sans-Serif\" font-size=\"14.00\" fill=\"#000000\"> </text>\n",
       "<text text-anchor=\"start\" x=\"590.5\" y=\"-137.8\" font-family=\"Helvetica,sans-Serif\" font-size=\"14.00\" fill=\"#000000\">🔑</text>\n",
       "<text text-anchor=\"start\" x=\"608.5\" y=\"-137.8\" font-family=\"Helvetica,sans-Serif\" font-size=\"14.00\" fill=\"#c49810\">tradeID : string</text>\n",
       "<text text-anchor=\"start\" x=\"598.5\" y=\"-121.8\" font-family=\"Helvetica,sans-Serif\" font-size=\"14.00\" fill=\"#808080\">security : string</text>\n",
       "<text text-anchor=\"start\" x=\"599.5\" y=\"-106.8\" font-family=\"Helvetica,sans-Serif\" font-size=\"14.00\" fill=\"#808080\">quantity : int32</text>\n",
       "<text text-anchor=\"start\" x=\"605\" y=\"-91.8\" font-family=\"Helvetica,sans-Serif\" font-size=\"14.00\" fill=\"#808080\">price : double</text>\n",
       "<text text-anchor=\"start\" x=\"590.5\" y=\"-76.8\" font-family=\"Helvetica,sans-Serif\" font-size=\"14.00\" fill=\"#808080\">totalCost : double</text>\n",
       "<text text-anchor=\"start\" x=\"599\" y=\"-61.8\" font-family=\"Helvetica,sans-Serif\" font-size=\"14.00\" fill=\"#808080\">traderID : int64</text>\n",
       "<text text-anchor=\"start\" x=\"608.5\" y=\"-46.8\" font-family=\"Helvetica,sans-Serif\" font-size=\"14.00\" fill=\"#808080\">time : stamp</text>\n",
       "<text text-anchor=\"start\" x=\"606\" y=\"-31.8\" font-family=\"Helvetica,sans-Serif\" font-size=\"14.00\" fill=\"#808080\">name : string</text>\n",
       "</g>\n",
       "<!-- trades_proj.trades_cq.AddTraderName&#45;&gt;trades_proj.trades_cq.TotalCost -->\n",
       "<g id=\"edge1\" class=\"edge\">\n",
       "<title>trades_proj.trades_cq.AddTraderName&#45;&gt;trades_proj.trades_cq.TotalCost</title>\n",
       "<path fill=\"none\" stroke=\"#000000\" d=\"M536.1739,-103C544.6236,-103 553.2888,-103 561.8971,-103\"/>\n",
       "<polygon fill=\"#000000\" stroke=\"#000000\" points=\"561.9601,-106.5001 571.96,-103 561.96,-99.5001 561.9601,-106.5001\"/>\n",
       "</g>\n",
       "<!-- trades_proj.trades_cq.BySecurity -->\n",
       "<g id=\"node4\" class=\"node\">\n",
       "<title>trades_proj.trades_cq.BySecurity</title>\n",
       "<polygon fill=\"#c8f0ff\" stroke=\"#58a0d3\" stroke-width=\"2\" points=\"962,-152.5 771,-152.5 771,-53.5 962,-53.5 962,-152.5\"/>\n",
       "<text text-anchor=\"start\" x=\"829\" y=\"-128.8\" font-family=\"Helvetica,sans-Serif\" font-size=\"14.00\" fill=\"#000000\">BySecurity</text>\n",
       "<text text-anchor=\"start\" x=\"864.5\" y=\"-113.8\" font-family=\"Helvetica,sans-Serif\" font-size=\"14.00\" fill=\"#000000\"> </text>\n",
       "<text text-anchor=\"start\" x=\"802.5\" y=\"-99.8\" font-family=\"Helvetica,sans-Serif\" font-size=\"14.00\" fill=\"#000000\">🔑</text>\n",
       "<text text-anchor=\"start\" x=\"820.5\" y=\"-99.8\" font-family=\"Helvetica,sans-Serif\" font-size=\"14.00\" fill=\"#c49810\">security : string</text>\n",
       "<text text-anchor=\"start\" x=\"789.5\" y=\"-83.8\" font-family=\"Helvetica,sans-Serif\" font-size=\"14.00\" fill=\"#808080\">quantityTotal : double</text>\n",
       "<text text-anchor=\"start\" x=\"804\" y=\"-68.8\" font-family=\"Helvetica,sans-Serif\" font-size=\"14.00\" fill=\"#808080\">costTotal : double</text>\n",
       "</g>\n",
       "<!-- trades_proj.trades_cq.TotalCost&#45;&gt;trades_proj.trades_cq.BySecurity -->\n",
       "<g id=\"edge3\" class=\"edge\">\n",
       "<title>trades_proj.trades_cq.TotalCost&#45;&gt;trades_proj.trades_cq.BySecurity</title>\n",
       "<path fill=\"none\" stroke=\"#000000\" d=\"M735.2422,-103C743.5901,-103 752.1529,-103 760.7096,-103\"/>\n",
       "<polygon fill=\"#000000\" stroke=\"#000000\" points=\"760.7384,-106.5001 770.7384,-103 760.7384,-99.5001 760.7384,-106.5001\"/>\n",
       "</g>\n",
       "<!-- trades_proj.trades_cq.LargeTrades -->\n",
       "<g id=\"node3\" class=\"node\">\n",
       "<title>trades_proj.trades_cq.LargeTrades</title>\n",
       "<polygon fill=\"#c8f0ff\" stroke=\"#58a0d3\" stroke-width=\"2\" points=\"343.5,-88 218.5,-88 218.5,-34 343.5,-34 343.5,-88\"/>\n",
       "<text text-anchor=\"start\" x=\"237\" y=\"-64.8\" font-family=\"Helvetica,sans-Serif\" font-size=\"14.00\" fill=\"#000000\">LargeTrades</text>\n",
       "<text text-anchor=\"start\" x=\"279\" y=\"-49.8\" font-family=\"Helvetica,sans-Serif\" font-size=\"14.00\" fill=\"#000000\"> </text>\n",
       "</g>\n",
       "<!-- trades_proj.trades_cq.LargeTrades&#45;&gt;trades_proj.trades_cq.AddTraderName -->\n",
       "<g id=\"edge2\" class=\"edge\">\n",
       "<title>trades_proj.trades_cq.LargeTrades&#45;&gt;trades_proj.trades_cq.AddTraderName</title>\n",
       "<path fill=\"none\" stroke=\"#000000\" d=\"M343.6814,-75.7486C353.1744,-77.9822 363.1087,-80.3197 372.9979,-82.6466\"/>\n",
       "<polygon fill=\"#000000\" stroke=\"#000000\" points=\"372.3183,-86.0822 382.8541,-84.9657 373.9216,-79.2682 372.3183,-86.0822\"/>\n",
       "</g>\n",
       "<!-- trades_proj.trades_cq.Traders -->\n",
       "<g id=\"node5\" class=\"node\">\n",
       "<title>trades_proj.trades_cq.Traders</title>\n",
       "<polygon fill=\"#c8f0ff\" stroke=\"#58a0d3\" stroke-width=\"2\" points=\"347,-190 215,-190 215,-106 347,-106 347,-190\"/>\n",
       "<text text-anchor=\"start\" x=\"254\" y=\"-166.8\" font-family=\"Helvetica,sans-Serif\" font-size=\"14.00\" fill=\"#000000\">Traders</text>\n",
       "<text text-anchor=\"start\" x=\"278.5\" y=\"-151.8\" font-family=\"Helvetica,sans-Serif\" font-size=\"14.00\" fill=\"#000000\"> </text>\n",
       "<text text-anchor=\"start\" x=\"239\" y=\"-137.8\" font-family=\"Helvetica,sans-Serif\" font-size=\"14.00\" fill=\"#000000\">🔑</text>\n",
       "<text text-anchor=\"start\" x=\"257\" y=\"-137.8\" font-family=\"Helvetica,sans-Serif\" font-size=\"14.00\" fill=\"#c49810\">ID : int64</text>\n",
       "<text text-anchor=\"start\" x=\"233\" y=\"-121.8\" font-family=\"Helvetica,sans-Serif\" font-size=\"14.00\" fill=\"#808080\">name : string</text>\n",
       "</g>\n",
       "<!-- trades_proj.trades_cq.Traders&#45;&gt;trades_proj.trades_cq.AddTraderName -->\n",
       "<g id=\"edge4\" class=\"edge\">\n",
       "<title>trades_proj.trades_cq.Traders&#45;&gt;trades_proj.trades_cq.AddTraderName</title>\n",
       "<path fill=\"none\" stroke=\"#000000\" d=\"M347.2131,-131.3076C355.6474,-129.1813 364.3763,-126.9808 373.0695,-124.7892\"/>\n",
       "<polygon fill=\"#000000\" stroke=\"#000000\" points=\"374.0106,-128.1615 382.8516,-122.3231 372.2994,-121.3739 374.0106,-128.1615\"/>\n",
       "</g>\n",
       "<!-- trades_proj.trades_cq.Trades -->\n",
       "<g id=\"node6\" class=\"node\">\n",
       "<title>trades_proj.trades_cq.Trades</title>\n",
       "<polygon fill=\"#c8f0ff\" stroke=\"#58a0d3\" stroke-width=\"2\" points=\"179,-160 16,-160 16,-16 179,-16 179,-160\"/>\n",
       "<text text-anchor=\"start\" x=\"74\" y=\"-136.8\" font-family=\"Helvetica,sans-Serif\" font-size=\"14.00\" fill=\"#000000\">Trades</text>\n",
       "<text text-anchor=\"start\" x=\"95.5\" y=\"-121.8\" font-family=\"Helvetica,sans-Serif\" font-size=\"14.00\" fill=\"#000000\"> </text>\n",
       "<text text-anchor=\"start\" x=\"34.5\" y=\"-107.8\" font-family=\"Helvetica,sans-Serif\" font-size=\"14.00\" fill=\"#000000\">🔑</text>\n",
       "<text text-anchor=\"start\" x=\"52.5\" y=\"-107.8\" font-family=\"Helvetica,sans-Serif\" font-size=\"14.00\" fill=\"#c49810\">tradeID : string</text>\n",
       "<text text-anchor=\"start\" x=\"42.5\" y=\"-91.8\" font-family=\"Helvetica,sans-Serif\" font-size=\"14.00\" fill=\"#808080\">security : string</text>\n",
       "<text text-anchor=\"start\" x=\"43.5\" y=\"-76.8\" font-family=\"Helvetica,sans-Serif\" font-size=\"14.00\" fill=\"#808080\">quantity : int32</text>\n",
       "<text text-anchor=\"start\" x=\"49\" y=\"-61.8\" font-family=\"Helvetica,sans-Serif\" font-size=\"14.00\" fill=\"#808080\">price : double</text>\n",
       "<text text-anchor=\"start\" x=\"43\" y=\"-46.8\" font-family=\"Helvetica,sans-Serif\" font-size=\"14.00\" fill=\"#808080\">traderID : int64</text>\n",
       "<text text-anchor=\"start\" x=\"52.5\" y=\"-31.8\" font-family=\"Helvetica,sans-Serif\" font-size=\"14.00\" fill=\"#808080\">time : stamp</text>\n",
       "</g>\n",
       "<!-- trades_proj.trades_cq.Trades&#45;&gt;trades_proj.trades_cq.LargeTrades -->\n",
       "<g id=\"edge5\" class=\"edge\">\n",
       "<title>trades_proj.trades_cq.Trades&#45;&gt;trades_proj.trades_cq.LargeTrades</title>\n",
       "<path fill=\"none\" stroke=\"#000000\" d=\"M179.0544,-76.0002C188.8582,-74.5577 198.8191,-73.092 208.4821,-71.6702\"/>\n",
       "<polygon fill=\"#000000\" stroke=\"#000000\" points=\"209.0411,-75.1257 218.425,-70.2072 208.022,-68.2003 209.0411,-75.1257\"/>\n",
       "</g>\n",
       "</g>\n",
       "</svg>\n"
      ],
      "text/plain": [
       "<graphviz.dot.Digraph at 0x7fbe8d9e60d0>"
      ]
     },
     "execution_count": 30,
     "metadata": {},
     "output_type": "execute_result"
    }
   ],
   "source": [
    "trades_project['trades_cq'].to_graph(schema=True)"
   ]
  },
  {
   "cell_type": "code",
   "execution_count": 31,
   "metadata": {},
   "outputs": [
    {
     "name": "stdout",
     "output_type": "stream",
     "text": [
      "<window-source name=\"Traders\">\n",
      "  <schema>\n",
      "    <fields>\n",
      "      <field key=\"true\" name=\"ID\" type=\"int64\" />\n",
      "      <field key=\"false\" name=\"name\" type=\"string\" />\n",
      "    </fields>\n",
      "  </schema>\n",
      "</window-source>\n",
      "\n"
     ]
    }
   ],
   "source": [
    "print(trades_project['trades_cq']['Traders'].to_xml(pretty=True))"
   ]
  },
  {
   "cell_type": "markdown",
   "metadata": {},
   "source": [
    "The code that follows explores two methods for publishing data into the project. \n",
    "The first publishes data from a .csv file into a source window.\n",
    "Begin by opening and reading a file that contains trades data."
   ]
  },
  {
   "cell_type": "code",
   "execution_count": 32,
   "metadata": {},
   "outputs": [],
   "source": [
    "trades_csv = open(path + \"/trades.csv\").read()"
   ]
  },
  {
   "cell_type": "markdown",
   "metadata": {},
   "source": [
    "Next, open and read a file that contains traders data."
   ]
  },
  {
   "cell_type": "code",
   "execution_count": 33,
   "metadata": {},
   "outputs": [],
   "source": [
    "traders_csv = open(path + \"/traders.csv\").read()"
   ]
  },
  {
   "cell_type": "markdown",
   "metadata": {},
   "source": [
    "Use print to confirm that the data on trades has been read "
   ]
  },
  {
   "cell_type": "code",
   "execution_count": 34,
   "metadata": {},
   "outputs": [
    {
     "name": "stdout",
     "output_type": "stream",
     "text": [
      "i,n,TID1234321,ibm,1000,100.1,10002,08/Jul/2012:08:10:00.000000\n",
      "i,n,TID1234322,sap,750,34.2,10003,08/Jul/2012:08:10:01.000345\n",
      "i,n,TID1234323,ibm,1000,100.2,10004,08/Jul/2012:08:10:12.000001\n",
      "i,n,TID1234324,ibm,1000,100.3,10004,08/Jul/2012:08:10:13.000002\n",
      "i,n,TID1234325,ibm,1000,100.4,10004,08/Jul/2012:08:10:13.000002\n",
      "i,n,TID1234326,sap,1000,34.3,10003,08/Jul/2012:08:10:13.000003\n",
      "i,n,TID1234327,ibm,1000,100.3,10002,08/Jul/2012:08:10:13.000004\n",
      "i,n,TID1234328,sap,1000,32,10003,08/Jul/2012:08:10:13.000005\n",
      "i,n,TID1234329,ibm,1000,100,10004,08/Jul/2012:08:10:13.000006\n",
      "i,n,TID1234330,sap,90,32,10003,08/Jul/2012:08:10:13.000011\n",
      "i,n,TID1234331,ibm,80,100.3,10004,08/Jul/2012:08:10:13.000012\n",
      "\n"
     ]
    }
   ],
   "source": [
    "print(trades_csv)"
   ]
  },
  {
   "cell_type": "markdown",
   "metadata": {},
   "source": [
    "Isolate the two source windows('Trades' and 'Traders') into which data is published."
   ]
  },
  {
   "cell_type": "code",
   "execution_count": 35,
   "metadata": {},
   "outputs": [],
   "source": [
    "w_trades = trades_project['trades_cq']['Trades']\n",
    "w_traders = trades_project['trades_cq']['Traders']"
   ]
  },
  {
   "cell_type": "markdown",
   "metadata": {},
   "source": [
    "Publish data into the 'Trades' and 'Traders' source windows"
   ]
  },
  {
   "cell_type": "code",
   "execution_count": 36,
   "metadata": {},
   "outputs": [],
   "source": [
    "w_trades.publish_events(trades_csv, dateformat='%d/%b/%Y:%H:%M:%S', format='csv')\n",
    "w_traders.publish_events(traders_csv, format='csv')"
   ]
  },
  {
   "cell_type": "markdown",
   "metadata": {},
   "source": [
    "Confirm that the data has been published into the 'Trades' source window"
   ]
  },
  {
   "cell_type": "code",
   "execution_count": 37,
   "metadata": {},
   "outputs": [
    {
     "data": {
      "text/html": [
       "<div>\n",
       "<style scoped>\n",
       "    .dataframe tbody tr th:only-of-type {\n",
       "        vertical-align: middle;\n",
       "    }\n",
       "\n",
       "    .dataframe tbody tr th {\n",
       "        vertical-align: top;\n",
       "    }\n",
       "\n",
       "    .dataframe thead th {\n",
       "        text-align: right;\n",
       "    }\n",
       "</style>\n",
       "<table border=\"1\" class=\"dataframe\">\n",
       "  <thead>\n",
       "    <tr style=\"text-align: right;\">\n",
       "      <th></th>\n",
       "      <th>security</th>\n",
       "      <th>quantity</th>\n",
       "      <th>price</th>\n",
       "      <th>traderID</th>\n",
       "      <th>time</th>\n",
       "    </tr>\n",
       "    <tr>\n",
       "      <th>tradeID</th>\n",
       "      <th></th>\n",
       "      <th></th>\n",
       "      <th></th>\n",
       "      <th></th>\n",
       "      <th></th>\n",
       "    </tr>\n",
       "  </thead>\n",
       "  <tbody>\n",
       "  </tbody>\n",
       "</table>\n",
       "</div>"
      ],
      "text/plain": [
       "Empty DataFrame\n",
       "Columns: [security, quantity, price, traderID, time]\n",
       "Index: []"
      ]
     },
     "execution_count": 37,
     "metadata": {},
     "output_type": "execute_result"
    }
   ],
   "source": [
    "w_trades.get_events()"
   ]
  },
  {
   "cell_type": "markdown",
   "metadata": {},
   "source": [
    "After events begin to stream in, retrieve them from the 'Trades' source window"
   ]
  },
  {
   "cell_type": "code",
   "execution_count": 39,
   "metadata": {
    "scrolled": true
   },
   "outputs": [
    {
     "data": {
      "text/html": [
       "<div>\n",
       "<style scoped>\n",
       "    .dataframe tbody tr th:only-of-type {\n",
       "        vertical-align: middle;\n",
       "    }\n",
       "\n",
       "    .dataframe tbody tr th {\n",
       "        vertical-align: top;\n",
       "    }\n",
       "\n",
       "    .dataframe thead th {\n",
       "        text-align: right;\n",
       "    }\n",
       "</style>\n",
       "<table border=\"1\" class=\"dataframe\">\n",
       "  <thead>\n",
       "    <tr style=\"text-align: right;\">\n",
       "      <th></th>\n",
       "      <th>security</th>\n",
       "      <th>quantity</th>\n",
       "      <th>price</th>\n",
       "      <th>traderID</th>\n",
       "      <th>time</th>\n",
       "    </tr>\n",
       "    <tr>\n",
       "      <th>tradeID</th>\n",
       "      <th></th>\n",
       "      <th></th>\n",
       "      <th></th>\n",
       "      <th></th>\n",
       "      <th></th>\n",
       "    </tr>\n",
       "  </thead>\n",
       "  <tbody>\n",
       "  </tbody>\n",
       "</table>\n",
       "</div>"
      ],
      "text/plain": [
       "Empty DataFrame\n",
       "Columns: [security, quantity, price, traderID, time]\n",
       "Index: []"
      ]
     },
     "execution_count": 39,
     "metadata": {},
     "output_type": "execute_result"
    }
   ],
   "source": [
    "w_trades2 = trades_project['trades_cq']['Trades'] \n",
    "w_trades2.get_events()"
   ]
  },
  {
   "cell_type": "code",
   "execution_count": null,
   "metadata": {},
   "outputs": [],
   "source": []
  },
  {
   "cell_type": "markdown",
   "metadata": {},
   "source": [
    "When you specify a streaming chart, it creates an independent subscriber to the associated window. Thus, you do not need to subscribe to that window on a separate line of code beforehand."
   ]
  },
  {
   "cell_type": "code",
   "execution_count": 40,
   "metadata": {},
   "outputs": [
    {
     "data": {
      "application/vnd.jupyter.widget-view+json": {
       "model_id": "4c4d445cf97a40f4ab6b405eb3ce70a3",
       "version_major": 2,
       "version_minor": 0
      },
      "text/plain": [
       "BarChart(children=(VBox(children=(HTML(value=\"<div style='font-size:12pt;text-align:center'>Total Quantity Sol…"
      ]
     },
     "metadata": {},
     "output_type": "display_data"
    }
   ],
   "source": [
    "from esppy.plotting import StreamingChart \n",
    "w_BySecurity=trades_project['trades_cq']['BySecurity'] \n",
    "\n",
    "collection = conn.getEventCollection(w_BySecurity)\n",
    "securityQuantity = visuals.createBarChart(collection,y=\"quantityTotal\",title=\"Total Quantity Sold By Security\")\n",
    "securityQuantity"
   ]
  },
  {
   "cell_type": "code",
   "execution_count": 41,
   "metadata": {},
   "outputs": [
    {
     "data": {
      "image/svg+xml": [
       "<?xml version=\"1.0\" encoding=\"UTF-8\" standalone=\"no\"?>\n",
       "<!DOCTYPE svg PUBLIC \"-//W3C//DTD SVG 1.1//EN\"\n",
       " \"http://www.w3.org/Graphics/SVG/1.1/DTD/svg11.dtd\">\n",
       "<!-- Generated by graphviz version 2.40.1 (20161225.0304)\n",
       " -->\n",
       "<!-- Title: %3 Pages: 1 -->\n",
       "<svg width=\"171.0pt\" height=\"152.0pt\"\n",
       " viewBox=\"0.00 0.00 171.00 152.00\" xmlns=\"http://www.w3.org/2000/svg\" xmlns:xlink=\"http://www.w3.org/1999/xlink\">\n",
       "<g id=\"graph0\" class=\"graph\" transform=\"scale(1 1) rotate(0) translate(4 148)\">\n",
       "<title>%3</title>\n",
       "<polygon fill=\"#ffffff\" stroke=\"transparent\" points=\"-4,4 -4,-148 167,-148 167,4 -4,4\"/>\n",
       "<!-- trades_proj.trades_cq.Trades -->\n",
       "<g id=\"node1\" class=\"node\">\n",
       "<title>trades_proj.trades_cq.Trades</title>\n",
       "<polygon fill=\"#c8f0ff\" stroke=\"#58a0d3\" stroke-width=\"2\" points=\"163,-144 0,-144 0,0 163,0 163,-144\"/>\n",
       "<text text-anchor=\"start\" x=\"58\" y=\"-120.8\" font-family=\"Helvetica,sans-Serif\" font-size=\"14.00\" fill=\"#000000\">Trades</text>\n",
       "<text text-anchor=\"start\" x=\"79.5\" y=\"-105.8\" font-family=\"Helvetica,sans-Serif\" font-size=\"14.00\" fill=\"#000000\"> </text>\n",
       "<text text-anchor=\"start\" x=\"18.5\" y=\"-91.8\" font-family=\"Helvetica,sans-Serif\" font-size=\"14.00\" fill=\"#000000\">🔑</text>\n",
       "<text text-anchor=\"start\" x=\"36.5\" y=\"-91.8\" font-family=\"Helvetica,sans-Serif\" font-size=\"14.00\" fill=\"#c49810\">tradeID : string</text>\n",
       "<text text-anchor=\"start\" x=\"26.5\" y=\"-75.8\" font-family=\"Helvetica,sans-Serif\" font-size=\"14.00\" fill=\"#808080\">security : string</text>\n",
       "<text text-anchor=\"start\" x=\"27.5\" y=\"-60.8\" font-family=\"Helvetica,sans-Serif\" font-size=\"14.00\" fill=\"#808080\">quantity : int32</text>\n",
       "<text text-anchor=\"start\" x=\"33\" y=\"-45.8\" font-family=\"Helvetica,sans-Serif\" font-size=\"14.00\" fill=\"#808080\">price : double</text>\n",
       "<text text-anchor=\"start\" x=\"27\" y=\"-30.8\" font-family=\"Helvetica,sans-Serif\" font-size=\"14.00\" fill=\"#808080\">traderID : int64</text>\n",
       "<text text-anchor=\"start\" x=\"36.5\" y=\"-15.8\" font-family=\"Helvetica,sans-Serif\" font-size=\"14.00\" fill=\"#808080\">time : stamp</text>\n",
       "</g>\n",
       "</g>\n",
       "</svg>\n"
      ],
      "text/html": [
       "<div>\n",
       "<style scoped>\n",
       "    .dataframe tbody tr th:only-of-type {\n",
       "        vertical-align: middle;\n",
       "    }\n",
       "\n",
       "    .dataframe tbody tr th {\n",
       "        vertical-align: top;\n",
       "    }\n",
       "\n",
       "    .dataframe thead th {\n",
       "        text-align: right;\n",
       "    }\n",
       "</style>\n",
       "<table border=\"1\" class=\"dataframe\">\n",
       "  <thead>\n",
       "    <tr style=\"text-align: right;\">\n",
       "      <th></th>\n",
       "      <th>security</th>\n",
       "      <th>quantity</th>\n",
       "      <th>price</th>\n",
       "      <th>traderID</th>\n",
       "      <th>time</th>\n",
       "    </tr>\n",
       "    <tr>\n",
       "      <th>tradeID</th>\n",
       "      <th></th>\n",
       "      <th></th>\n",
       "      <th></th>\n",
       "      <th></th>\n",
       "      <th></th>\n",
       "    </tr>\n",
       "  </thead>\n",
       "  <tbody>\n",
       "  </tbody>\n",
       "</table>\n",
       "</div>"
      ],
      "text/plain": [
       "Empty DataFrame\n",
       "Columns: [security, quantity, price, traderID, time]\n",
       "Index: []"
      ]
     },
     "execution_count": 41,
     "metadata": {},
     "output_type": "execute_result"
    }
   ],
   "source": [
    "w_trades2 = trades_project['trades_cq']['Trades']\n",
    "w_trades2.subscribe()\n",
    "w_trades2"
   ]
  },
  {
   "cell_type": "code",
   "execution_count": 42,
   "metadata": {},
   "outputs": [
    {
     "name": "stdout",
     "output_type": "stream",
     "text": [
      "<class 'pandas.core.frame.DataFrame'>\n",
      "Index: 0 entries\n",
      "Data columns (total 5 columns):\n",
      "security    0 non-null object\n",
      "quantity    0 non-null int32\n",
      "price       0 non-null float64\n",
      "traderID    0 non-null int64\n",
      "time        0 non-null datetime64[ns]\n",
      "dtypes: datetime64[ns](1), float64(1), int32(1), int64(1), object(1)\n",
      "memory usage: 0.0+ bytes\n"
     ]
    }
   ],
   "source": [
    "w_trades2.info()"
   ]
  },
  {
   "cell_type": "code",
   "execution_count": 43,
   "metadata": {},
   "outputs": [
    {
     "data": {
      "text/html": [
       "<div>\n",
       "<style scoped>\n",
       "    .dataframe tbody tr th:only-of-type {\n",
       "        vertical-align: middle;\n",
       "    }\n",
       "\n",
       "    .dataframe tbody tr th {\n",
       "        vertical-align: top;\n",
       "    }\n",
       "\n",
       "    .dataframe thead th {\n",
       "        text-align: right;\n",
       "    }\n",
       "</style>\n",
       "<table border=\"1\" class=\"dataframe\">\n",
       "  <thead>\n",
       "    <tr style=\"text-align: right;\">\n",
       "      <th></th>\n",
       "      <th>security</th>\n",
       "      <th>quantity</th>\n",
       "      <th>price</th>\n",
       "      <th>traderID</th>\n",
       "      <th>time</th>\n",
       "    </tr>\n",
       "    <tr>\n",
       "      <th>tradeID</th>\n",
       "      <th></th>\n",
       "      <th></th>\n",
       "      <th></th>\n",
       "      <th></th>\n",
       "      <th></th>\n",
       "    </tr>\n",
       "  </thead>\n",
       "  <tbody>\n",
       "  </tbody>\n",
       "</table>\n",
       "</div>"
      ],
      "text/plain": [
       "Empty DataFrame\n",
       "Columns: [security, quantity, price, traderID, time]\n",
       "Index: []"
      ]
     },
     "execution_count": 43,
     "metadata": {},
     "output_type": "execute_result"
    }
   ],
   "source": [
    "w_trades2.head()"
   ]
  },
  {
   "cell_type": "code",
   "execution_count": 44,
   "metadata": {},
   "outputs": [
    {
     "data": {
      "text/html": [
       "<div>\n",
       "<style scoped>\n",
       "    .dataframe tbody tr th:only-of-type {\n",
       "        vertical-align: middle;\n",
       "    }\n",
       "\n",
       "    .dataframe tbody tr th {\n",
       "        vertical-align: top;\n",
       "    }\n",
       "\n",
       "    .dataframe thead th {\n",
       "        text-align: right;\n",
       "    }\n",
       "</style>\n",
       "<table border=\"1\" class=\"dataframe\">\n",
       "  <thead>\n",
       "    <tr style=\"text-align: right;\">\n",
       "      <th></th>\n",
       "      <th>quantity</th>\n",
       "      <th>price</th>\n",
       "      <th>traderID</th>\n",
       "    </tr>\n",
       "  </thead>\n",
       "  <tbody>\n",
       "    <tr>\n",
       "      <th>count</th>\n",
       "      <td>0.0</td>\n",
       "      <td>0.0</td>\n",
       "      <td>0.0</td>\n",
       "    </tr>\n",
       "    <tr>\n",
       "      <th>mean</th>\n",
       "      <td>NaN</td>\n",
       "      <td>NaN</td>\n",
       "      <td>NaN</td>\n",
       "    </tr>\n",
       "    <tr>\n",
       "      <th>std</th>\n",
       "      <td>NaN</td>\n",
       "      <td>NaN</td>\n",
       "      <td>NaN</td>\n",
       "    </tr>\n",
       "    <tr>\n",
       "      <th>min</th>\n",
       "      <td>NaN</td>\n",
       "      <td>NaN</td>\n",
       "      <td>NaN</td>\n",
       "    </tr>\n",
       "    <tr>\n",
       "      <th>25%</th>\n",
       "      <td>NaN</td>\n",
       "      <td>NaN</td>\n",
       "      <td>NaN</td>\n",
       "    </tr>\n",
       "    <tr>\n",
       "      <th>50%</th>\n",
       "      <td>NaN</td>\n",
       "      <td>NaN</td>\n",
       "      <td>NaN</td>\n",
       "    </tr>\n",
       "    <tr>\n",
       "      <th>75%</th>\n",
       "      <td>NaN</td>\n",
       "      <td>NaN</td>\n",
       "      <td>NaN</td>\n",
       "    </tr>\n",
       "    <tr>\n",
       "      <th>max</th>\n",
       "      <td>NaN</td>\n",
       "      <td>NaN</td>\n",
       "      <td>NaN</td>\n",
       "    </tr>\n",
       "  </tbody>\n",
       "</table>\n",
       "</div>"
      ],
      "text/plain": [
       "       quantity  price  traderID\n",
       "count       0.0    0.0       0.0\n",
       "mean        NaN    NaN       NaN\n",
       "std         NaN    NaN       NaN\n",
       "min         NaN    NaN       NaN\n",
       "25%         NaN    NaN       NaN\n",
       "50%         NaN    NaN       NaN\n",
       "75%         NaN    NaN       NaN\n",
       "max         NaN    NaN       NaN"
      ]
     },
     "execution_count": 44,
     "metadata": {},
     "output_type": "execute_result"
    }
   ],
   "source": [
    "w_trades2.describe()"
   ]
  },
  {
   "cell_type": "code",
   "execution_count": 45,
   "metadata": {},
   "outputs": [
    {
     "data": {
      "application/vnd.jupyter.widget-view+json": {
       "model_id": "fb27b0dbd8084e14a79fdaffb15e22f0",
       "version_major": 2,
       "version_minor": 0
      },
      "text/plain": [
       "TimeSeries(children=(VBox(children=(HTML(value=\"<div style='font-size:12pt;text-align:center'>trades_proj/trad…"
      ]
     },
     "metadata": {},
     "output_type": "display_data"
    }
   ],
   "source": [
    "stream = conn.getEventStream(w_trades2)\n",
    "quantAndPrice = visuals.createTimeSeries(stream,time=\"time\",y=[\"quantity\",\"price\"])\n",
    "quantAndPrice"
   ]
  },
  {
   "cell_type": "code",
   "execution_count": null,
   "metadata": {},
   "outputs": [],
   "source": []
  }
 ],
 "metadata": {
  "kernelspec": {
   "display_name": "Python 3",
   "language": "python",
   "name": "python3"
  },
  "language_info": {
   "codemirror_mode": {
    "name": "ipython",
    "version": 3
   },
   "file_extension": ".py",
   "mimetype": "text/x-python",
   "name": "python",
   "nbconvert_exporter": "python",
   "pygments_lexer": "ipython3",
   "version": "3.7.5"
  }
 },
 "nbformat": 4,
 "nbformat_minor": 4
}
