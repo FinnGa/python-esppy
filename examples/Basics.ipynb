{
 "cells": [
  {
   "cell_type": "markdown",
   "metadata": {},
   "source": [
    "# SAS Event Stream Processing Python Interface\n",
    "\n",
    "ESPPy is a pure Python package to connect to a SAS Event Stream Processing (ESP) server using the REST interface and web sockets."
   ]
  },
  {
   "cell_type": "markdown",
   "metadata": {},
   "source": [
    "## Import the ESPPy Package and Create a Connection"
   ]
  },
  {
   "cell_type": "code",
   "execution_count": 1,
   "metadata": {
    "collapsed": false
   },
   "outputs": [],
   "source": [
    "import esppy"
   ]
  },
  {
   "cell_type": "code",
   "execution_count": 3,
   "metadata": {
    "collapsed": false
   },
   "outputs": [],
   "source": [
    "esppy.ESP?"
   ]
  },
  {
   "cell_type": "code",
   "execution_count": 3,
   "metadata": {
    "collapsed": false
   },
   "outputs": [
    {
     "data": {
      "text/plain": [
       "ESP('http://my-esp-server.com:8610')"
      ]
     },
     "execution_count": 3,
     "metadata": {},
     "output_type": "execute_result"
    }
   ],
   "source": [
    "esp = esppy.ESP('http://my-esp-server.com:8610')\n",
    "esp"
   ]
  },
  {
   "cell_type": "code",
   "execution_count": null,
   "metadata": {
    "collapsed": true
   },
   "outputs": [],
   "source": [
    "esp."
   ]
  },
  {
   "cell_type": "markdown",
   "metadata": {},
   "source": [
    "## Server Introspection"
   ]
  },
  {
   "cell_type": "code",
   "execution_count": 4,
   "metadata": {
    "collapsed": false
   },
   "outputs": [
    {
     "data": {
      "text/plain": [
       "{'analytics-license': True,\n",
       " 'engine': 'esp',\n",
       " 'http': 8610,\n",
       " 'pubsub': 8611,\n",
       " 'version': '5.2'}"
      ]
     },
     "execution_count": 4,
     "metadata": {},
     "output_type": "execute_result"
    }
   ],
   "source": [
    "esp.server_info"
   ]
  },
  {
   "cell_type": "code",
   "execution_count": 5,
   "metadata": {
    "collapsed": false
   },
   "outputs": [
    {
     "data": {
      "text/plain": [
       "{}"
      ]
     },
     "execution_count": 5,
     "metadata": {},
     "output_type": "execute_result"
    }
   ],
   "source": [
    "esp.get_projects()"
   ]
  },
  {
   "cell_type": "markdown",
   "metadata": {},
   "source": [
    "## Load a Project"
   ]
  },
  {
   "cell_type": "code",
   "execution_count": 6,
   "metadata": {
    "collapsed": false
   },
   "outputs": [
    {
     "name": "stdout",
     "output_type": "stream",
     "text": [
      "<engine>\n",
      "  <projects>\n",
      "    <project name='project' pubsub='auto' threads='1' use-tagged-token='true'>\n",
      "      <contqueries>\n",
      "        <contquery name='contquery' trace='w_data w_calculate'>\n",
      "          <windows>\n",
      "            <window-source name='w_data' insert-only='true'>\n",
      "              <schema>\n",
      "                <fields>\n",
      "                  <field name='id'   type='int64' key='true'/>\n",
      "                  <field name='time' type='double'/>\n",
      "                  <field name='x'    type='double'/>\n",
      "                  <field name='y'    type='double'/>\n",
      "                  <field name='z'    type='double'/>\n",
      "                </fields>\n",
      "              </schema>\n",
      "            </window-source>\n",
      "            <window-source name='w_request' insert-only='true'>\n",
      "              <schema>\n",
      "                <fields>\n",
      "                  <field name='req_id'  type='int64' key='true'/>\n",
      "                  <field name='req_key' type='string'/>\n",
      "                  <field name='req_val' type='string'/>\n",
      "                </fields>\n",
      "              </schema>\n",
      "            </window-source>\n",
      "            <window-calculate name='w_calculate' algorithm='Summary'>\n",
      "              <schema>\n",
      "                <fields>\n",
      "                  <field name='id'     type='int64' key='true'/>\n",
      "                  <field name='x'      type='double'/>\n",
      "                  <field name='mean_x' type='double'/>\n",
      "                  <field name='n_x'    type='int64'/>\n",
      "                </fields>\n",
      "              </schema>\n",
      "              <parameters>\n",
      "                <properties>\n",
      "                  <property name=\"windowLength\">5</property>\n",
      "                </properties>\n",
      "              </parameters>\n",
      "              <input-map>\n",
      "                <properties>\n",
      "                  <property name=\"input\">x</property>\n",
      "                </properties>\n",
      "              </input-map>\n",
      "              <output-map>\n",
      "                <properties>\n",
      "                  <property name=\"meanOut\">mean_x</property>\n",
      "                  <property name=\"nOut\">n_x</property>\n",
      "                </properties>\n",
      "              </output-map>\n",
      "            </window-calculate>\n",
      "            <window-copy name=\"w_copy\"/>\n",
      "          </windows>\n",
      "          <edges>\n",
      "            <edge source='w_data'    target='w_calculate' role='data'/>\n",
      "            <edge source='w_request' target='w_calculate' role='request'/>\n",
      "            <edge source='w_calculate'    target='w_copy' role='data'/>\n",
      "          </edges>\n",
      "        </contquery>\n",
      "      </contqueries>\n",
      "    </project>\n",
      "  </projects>\n",
      "</engine>\n"
     ]
    }
   ],
   "source": [
    "%%sh\n",
    "cat model_walking.xml"
   ]
  },
  {
   "cell_type": "markdown",
   "metadata": {},
   "source": [
    "Projects can be loaded from file paths, Python file objects, or URLs.  They can also be loaded from Python `Project` objects as we will see later in this notebook."
   ]
  },
  {
   "cell_type": "code",
   "execution_count": 7,
   "metadata": {
    "collapsed": false
   },
   "outputs": [
    {
     "data": {
      "image/svg+xml": [
       "<?xml version=\"1.0\" encoding=\"UTF-8\" standalone=\"no\"?>\n",
       "<!DOCTYPE svg PUBLIC \"-//W3C//DTD SVG 1.1//EN\"\n",
       " \"http://www.w3.org/Graphics/SVG/1.1/DTD/svg11.dtd\">\n",
       "<!-- Generated by graphviz version 2.38.0 (20140413.2041)\n",
       " -->\n",
       "<!-- Title: %3 Pages: 1 -->\n",
       "<svg width=\"465.0pt\" height=\"160.0pt\"\n",
       " viewBox=\"0.00 0.00 465.00 160.00\" xmlns=\"http://www.w3.org/2000/svg\" xmlns:xlink=\"http://www.w3.org/1999/xlink\">\n",
       "<g id=\"graph0\" class=\"graph\" transform=\"scale(1 1) rotate(0) translate(4 156)\">\n",
       "<title>%3</title>\n",
       "<polygon fill=\"white\" stroke=\"none\" points=\"-4,4 -4,-156 461,-156 461,4 -4,4\"/>\n",
       "<g id=\"clust1\" class=\"cluster\"><title>cluster_project</title>\n",
       "<path fill=\"#dadada\" stroke=\"#c0c0c0\" stroke-width=\"2\" d=\"M20,-8C20,-8 437,-8 437,-8 443,-8 449,-14 449,-20 449,-20 449,-132 449,-132 449,-138 443,-144 437,-144 437,-144 20,-144 20,-144 14,-144 8,-138 8,-132 8,-132 8,-20 8,-20 8,-14 14,-8 20,-8\"/>\n",
       "<text text-anchor=\"middle\" x=\"36.5\" y=\"-128.8\" font-family=\"Helvetica,sans-Serif\" font-size=\"14.00\">project</text>\n",
       "</g>\n",
       "<!-- project.contquery.w_calculate -->\n",
       "<g id=\"node1\" class=\"node\"><title>project.contquery.w_calculate</title>\n",
       "<polygon fill=\"#c8f0ff\" stroke=\"#58a0d3\" stroke-width=\"2\" points=\"298,-79.5 191,-79.5 191,-40.5 298,-40.5 298,-79.5\"/>\n",
       "<text text-anchor=\"middle\" x=\"244.5\" y=\"-56.3\" font-family=\"Helvetica,sans-Serif\" font-size=\"14.00\">w_calculate</text>\n",
       "</g>\n",
       "<!-- project.contquery.w_copy -->\n",
       "<g id=\"node2\" class=\"node\"><title>project.contquery.w_copy</title>\n",
       "<polygon fill=\"#c8f0ff\" stroke=\"#58a0d3\" stroke-width=\"2\" points=\"441,-79.5 359,-79.5 359,-40.5 441,-40.5 441,-79.5\"/>\n",
       "<text text-anchor=\"middle\" x=\"400\" y=\"-56.3\" font-family=\"Helvetica,sans-Serif\" font-size=\"14.00\">w_copy</text>\n",
       "</g>\n",
       "<!-- project.contquery.w_calculate&#45;&gt;project.contquery.w_copy -->\n",
       "<g id=\"edge1\" class=\"edge\"><title>project.contquery.w_calculate&#45;&gt;project.contquery.w_copy</title>\n",
       "<path fill=\"none\" stroke=\"black\" d=\"M298.326,-60C314.546,-60 332.35,-60 348.416,-60\"/>\n",
       "<polygon fill=\"black\" stroke=\"black\" points=\"348.689,-63.5001 358.688,-60 348.688,-56.5001 348.689,-63.5001\"/>\n",
       "<text text-anchor=\"middle\" x=\"328.5\" y=\"-63.8\" font-family=\"Times,serif\" font-style=\"italic\" font-size=\"14.00\">data</text>\n",
       "</g>\n",
       "<!-- project.contquery.w_data -->\n",
       "<g id=\"node3\" class=\"node\"><title>project.contquery.w_data</title>\n",
       "<polygon fill=\"#c8f0ff\" stroke=\"#58a0d3\" stroke-width=\"2\" points=\"105.5,-112.5 25.5,-112.5 25.5,-73.5 105.5,-73.5 105.5,-112.5\"/>\n",
       "<text text-anchor=\"middle\" x=\"65.5\" y=\"-89.3\" font-family=\"Helvetica,sans-Serif\" font-size=\"14.00\">w_data</text>\n",
       "</g>\n",
       "<!-- project.contquery.w_data&#45;&gt;project.contquery.w_calculate -->\n",
       "<g id=\"edge2\" class=\"edge\"><title>project.contquery.w_data&#45;&gt;project.contquery.w_calculate</title>\n",
       "<path fill=\"none\" stroke=\"black\" d=\"M105.782,-85.6762C127.802,-81.5707 155.784,-76.3539 180.765,-71.6964\"/>\n",
       "<polygon fill=\"black\" stroke=\"black\" points=\"181.707,-75.0812 190.896,-69.8076 180.424,-68.1997 181.707,-75.0812\"/>\n",
       "<text text-anchor=\"middle\" x=\"153\" y=\"-83.8\" font-family=\"Times,serif\" font-style=\"italic\" font-size=\"14.00\">data</text>\n",
       "</g>\n",
       "<!-- project.contquery.w_request -->\n",
       "<g id=\"node4\" class=\"node\"><title>project.contquery.w_request</title>\n",
       "<polygon fill=\"#c8f0ff\" stroke=\"#58a0d3\" stroke-width=\"2\" points=\"115,-55.5 16,-55.5 16,-16.5 115,-16.5 115,-55.5\"/>\n",
       "<text text-anchor=\"middle\" x=\"65.5\" y=\"-32.3\" font-family=\"Helvetica,sans-Serif\" font-size=\"14.00\">w_request</text>\n",
       "</g>\n",
       "<!-- project.contquery.w_request&#45;&gt;project.contquery.w_calculate -->\n",
       "<g id=\"edge3\" class=\"edge\"><title>project.contquery.w_request&#45;&gt;project.contquery.w_calculate</title>\n",
       "<path fill=\"none\" stroke=\"black\" d=\"M115.335,-42.6216C135.564,-45.3646 159.279,-48.5802 180.772,-51.4945\"/>\n",
       "<polygon fill=\"black\" stroke=\"black\" points=\"180.414,-54.978 190.794,-52.8534 181.355,-48.0414 180.414,-54.978\"/>\n",
       "<text text-anchor=\"middle\" x=\"153\" y=\"-54.8\" font-family=\"Times,serif\" font-style=\"italic\" font-size=\"14.00\">request</text>\n",
       "</g>\n",
       "</g>\n",
       "</svg>\n"
      ],
      "text/plain": [
       "Project(name='project')"
      ]
     },
     "execution_count": 7,
     "metadata": {},
     "output_type": "execute_result"
    }
   ],
   "source": [
    "walk = esp.load_project('model_walking.xml')\n",
    "walk"
   ]
  },
  {
   "cell_type": "code",
   "execution_count": 8,
   "metadata": {
    "collapsed": false
   },
   "outputs": [
    {
     "data": {
      "text/plain": [
       "\"Project(name='project')\""
      ]
     },
     "execution_count": 8,
     "metadata": {},
     "output_type": "execute_result"
    }
   ],
   "source": [
    "str(walk)"
   ]
  },
  {
   "cell_type": "code",
   "execution_count": 9,
   "metadata": {
    "collapsed": false
   },
   "outputs": [
    {
     "data": {
      "image/svg+xml": [
       "<?xml version=\"1.0\" encoding=\"UTF-8\" standalone=\"no\"?>\n",
       "<!DOCTYPE svg PUBLIC \"-//W3C//DTD SVG 1.1//EN\"\n",
       " \"http://www.w3.org/Graphics/SVG/1.1/DTD/svg11.dtd\">\n",
       "<!-- Generated by graphviz version 2.38.0 (20140413.2041)\n",
       " -->\n",
       "<!-- Title: %3 Pages: 1 -->\n",
       "<svg width=\"529pt\" height=\"310pt\"\n",
       " viewBox=\"0.00 0.00 529.00 310.00\" xmlns=\"http://www.w3.org/2000/svg\" xmlns:xlink=\"http://www.w3.org/1999/xlink\">\n",
       "<g id=\"graph0\" class=\"graph\" transform=\"scale(1 1) rotate(0) translate(4 306)\">\n",
       "<title>%3</title>\n",
       "<polygon fill=\"white\" stroke=\"none\" points=\"-4,4 -4,-306 525,-306 525,4 -4,4\"/>\n",
       "<g id=\"clust1\" class=\"cluster\"><title>cluster_project</title>\n",
       "<path fill=\"#dadada\" stroke=\"#c0c0c0\" stroke-width=\"2\" d=\"M20,-8C20,-8 501,-8 501,-8 507,-8 513,-14 513,-20 513,-20 513,-282 513,-282 513,-288 507,-294 501,-294 501,-294 20,-294 20,-294 14,-294 8,-288 8,-282 8,-282 8,-20 8,-20 8,-14 14,-8 20,-8\"/>\n",
       "<text text-anchor=\"middle\" x=\"36.5\" y=\"-278.8\" font-family=\"Helvetica,sans-Serif\" font-size=\"14.00\">project</text>\n",
       "</g>\n",
       "<!-- project.contquery.w_calculate -->\n",
       "<g id=\"node1\" class=\"node\"><title>project.contquery.w_calculate</title>\n",
       "<polygon fill=\"#c8f0ff\" stroke=\"#58a0d3\" stroke-width=\"2\" points=\"362,-170 225,-170 225,-56 362,-56 362,-170\"/>\n",
       "<text text-anchor=\"start\" x=\"258.5\" y=\"-146.8\" font-family=\"Helvetica,sans-Serif\" font-size=\"14.00\">w_calculate</text>\n",
       "<text text-anchor=\"start\" x=\"292\" y=\"-131.8\" font-family=\"Helvetica,sans-Serif\" font-size=\"14.00\"> </text>\n",
       "<text text-anchor=\"start\" x=\"259\" y=\"-117.8\" font-family=\"Helvetica,sans-Serif\" font-size=\"14.00\">🔑</text>\n",
       "<text text-anchor=\"start\" x=\"277\" y=\"-117.8\" font-family=\"Helvetica,sans-Serif\" font-size=\"14.00\" fill=\"#c49810\">id : int64</text>\n",
       "<text text-anchor=\"start\" x=\"264.5\" y=\"-101.8\" font-family=\"Helvetica,sans-Serif\" font-size=\"14.00\" fill=\"#808080\">x : double</text>\n",
       "<text text-anchor=\"start\" x=\"243.5\" y=\"-86.8\" font-family=\"Helvetica,sans-Serif\" font-size=\"14.00\" fill=\"#808080\">mean_x : double</text>\n",
       "<text text-anchor=\"start\" x=\"262.5\" y=\"-71.8\" font-family=\"Helvetica,sans-Serif\" font-size=\"14.00\" fill=\"#808080\">n_x : int64</text>\n",
       "</g>\n",
       "<!-- project.contquery.w_copy -->\n",
       "<g id=\"node2\" class=\"node\"><title>project.contquery.w_copy</title>\n",
       "<polygon fill=\"#c8f0ff\" stroke=\"#58a0d3\" stroke-width=\"2\" points=\"505,-140 423,-140 423,-86 505,-86 505,-140\"/>\n",
       "<text text-anchor=\"start\" x=\"441\" y=\"-116.8\" font-family=\"Helvetica,sans-Serif\" font-size=\"14.00\">w_copy</text>\n",
       "<text text-anchor=\"start\" x=\"462\" y=\"-101.8\" font-family=\"Helvetica,sans-Serif\" font-size=\"14.00\"> </text>\n",
       "</g>\n",
       "<!-- project.contquery.w_calculate&#45;&gt;project.contquery.w_copy -->\n",
       "<g id=\"edge1\" class=\"edge\"><title>project.contquery.w_calculate&#45;&gt;project.contquery.w_copy</title>\n",
       "<path fill=\"none\" stroke=\"black\" d=\"M362.065,-113C378.888,-113 396.637,-113 412.48,-113\"/>\n",
       "<polygon fill=\"black\" stroke=\"black\" points=\"412.587,-116.5 422.586,-113 412.586,-109.5 412.587,-116.5\"/>\n",
       "<text text-anchor=\"middle\" x=\"392.5\" y=\"-116.8\" font-family=\"Times,serif\" font-style=\"italic\" font-size=\"14.00\">data</text>\n",
       "</g>\n",
       "<!-- project.contquery.w_data -->\n",
       "<g id=\"node3\" class=\"node\"><title>project.contquery.w_data</title>\n",
       "<polygon fill=\"#c8f0ff\" stroke=\"#58a0d3\" stroke-width=\"2\" points=\"140,-262.5 25,-262.5 25,-133.5 140,-133.5 140,-262.5\"/>\n",
       "<text text-anchor=\"start\" x=\"61\" y=\"-238.8\" font-family=\"Helvetica,sans-Serif\" font-size=\"14.00\">w_data</text>\n",
       "<text text-anchor=\"start\" x=\"81\" y=\"-223.8\" font-family=\"Helvetica,sans-Serif\" font-size=\"14.00\"> </text>\n",
       "<text text-anchor=\"start\" x=\"48\" y=\"-209.8\" font-family=\"Helvetica,sans-Serif\" font-size=\"14.00\">🔑</text>\n",
       "<text text-anchor=\"start\" x=\"66\" y=\"-209.8\" font-family=\"Helvetica,sans-Serif\" font-size=\"14.00\" fill=\"#c49810\">id : int64</text>\n",
       "<text text-anchor=\"start\" x=\"43.5\" y=\"-193.8\" font-family=\"Helvetica,sans-Serif\" font-size=\"14.00\" fill=\"#808080\">time : double</text>\n",
       "<text text-anchor=\"start\" x=\"53.5\" y=\"-178.8\" font-family=\"Helvetica,sans-Serif\" font-size=\"14.00\" fill=\"#808080\">x : double</text>\n",
       "<text text-anchor=\"start\" x=\"53.5\" y=\"-163.8\" font-family=\"Helvetica,sans-Serif\" font-size=\"14.00\" fill=\"#808080\">y : double</text>\n",
       "<text text-anchor=\"start\" x=\"53.5\" y=\"-148.8\" font-family=\"Helvetica,sans-Serif\" font-size=\"14.00\" fill=\"#808080\">z : double</text>\n",
       "</g>\n",
       "<!-- project.contquery.w_data&#45;&gt;project.contquery.w_calculate -->\n",
       "<g id=\"edge2\" class=\"edge\"><title>project.contquery.w_data&#45;&gt;project.contquery.w_calculate</title>\n",
       "<path fill=\"none\" stroke=\"black\" d=\"M140.058,-174.998C163.213,-165.581 190.376,-154.534 215.309,-144.393\"/>\n",
       "<polygon fill=\"black\" stroke=\"black\" points=\"216.798,-147.566 224.743,-140.557 214.161,-141.082 216.798,-147.566\"/>\n",
       "<text text-anchor=\"middle\" x=\"187\" y=\"-166.8\" font-family=\"Times,serif\" font-style=\"italic\" font-size=\"14.00\">data</text>\n",
       "</g>\n",
       "<!-- project.contquery.w_request -->\n",
       "<g id=\"node4\" class=\"node\"><title>project.contquery.w_request</title>\n",
       "<polygon fill=\"#c8f0ff\" stroke=\"#58a0d3\" stroke-width=\"2\" points=\"149,-115.5 16,-115.5 16,-16.5 149,-16.5 149,-115.5\"/>\n",
       "<text text-anchor=\"start\" x=\"51.5\" y=\"-91.8\" font-family=\"Helvetica,sans-Serif\" font-size=\"14.00\">w_request</text>\n",
       "<text text-anchor=\"start\" x=\"81\" y=\"-76.8\" font-family=\"Helvetica,sans-Serif\" font-size=\"14.00\"> </text>\n",
       "<text text-anchor=\"start\" x=\"34.5\" y=\"-62.8\" font-family=\"Helvetica,sans-Serif\" font-size=\"14.00\">🔑</text>\n",
       "<text text-anchor=\"start\" x=\"52.5\" y=\"-62.8\" font-family=\"Helvetica,sans-Serif\" font-size=\"14.00\" fill=\"#c49810\">req_id : int64</text>\n",
       "<text text-anchor=\"start\" x=\"36.5\" y=\"-46.8\" font-family=\"Helvetica,sans-Serif\" font-size=\"14.00\" fill=\"#808080\">req_key : string</text>\n",
       "<text text-anchor=\"start\" x=\"38.5\" y=\"-31.8\" font-family=\"Helvetica,sans-Serif\" font-size=\"14.00\" fill=\"#808080\">req_val : string</text>\n",
       "</g>\n",
       "<!-- project.contquery.w_request&#45;&gt;project.contquery.w_calculate -->\n",
       "<g id=\"edge3\" class=\"edge\"><title>project.contquery.w_request&#45;&gt;project.contquery.w_calculate</title>\n",
       "<path fill=\"none\" stroke=\"black\" d=\"M149.055,-80.7421C169.922,-85.4346 193.206,-90.6707 214.843,-95.5365\"/>\n",
       "<polygon fill=\"black\" stroke=\"black\" points=\"214.13,-98.9634 224.654,-97.7427 215.665,-92.1339 214.13,-98.9634\"/>\n",
       "<text text-anchor=\"middle\" x=\"187\" y=\"-96.8\" font-family=\"Times,serif\" font-style=\"italic\" font-size=\"14.00\">request</text>\n",
       "</g>\n",
       "</g>\n",
       "</svg>\n"
      ],
      "text/plain": [
       "<graphviz.dot.Digraph at 0x7f6d5a2589b0>"
      ]
     },
     "execution_count": 9,
     "metadata": {},
     "output_type": "execute_result"
    }
   ],
   "source": [
    "walk.to_graph(schema=True)"
   ]
  },
  {
   "cell_type": "markdown",
   "metadata": {},
   "source": [
    "### Get References to Project Components"
   ]
  },
  {
   "cell_type": "code",
   "execution_count": 10,
   "metadata": {
    "collapsed": false
   },
   "outputs": [
    {
     "data": {
      "text/plain": [
       "{'contquery': ContinuousQuery(name='contquery', project='project')}"
      ]
     },
     "execution_count": 10,
     "metadata": {},
     "output_type": "execute_result"
    }
   ],
   "source": [
    "walk.queries"
   ]
  },
  {
   "cell_type": "code",
   "execution_count": 11,
   "metadata": {
    "collapsed": false
   },
   "outputs": [
    {
     "data": {
      "text/plain": [
       "{'w_request': SourceWindow(name='w_request', contquery='contquery', project='project'), 'w_calculate': CalculateWindow(name='w_calculate', contquery='contquery', project='project'), 'w_copy': CopyWindow(name='w_copy', contquery='contquery', project='project'), 'w_data': SourceWindow(name='w_data', contquery='contquery', project='project')}"
      ]
     },
     "execution_count": 11,
     "metadata": {},
     "output_type": "execute_result"
    }
   ],
   "source": [
    "walk.queries['contquery'].windows"
   ]
  },
  {
   "cell_type": "markdown",
   "metadata": {},
   "source": [
    "Specifying `queries` and `windows` is optional.  The `Project` and `ContinuousQuery` objects act like dictionaries so you can access the sub-objects directly using indexing. "
   ]
  },
  {
   "cell_type": "code",
   "execution_count": 12,
   "metadata": {
    "collapsed": true
   },
   "outputs": [],
   "source": [
    "dataw = walk.queries['contquery'].windows['w_data']\n",
    "calcw = walk['contquery']['w_calculate']\n",
    "copyw = walk['contquery']['w_copy']"
   ]
  },
  {
   "cell_type": "code",
   "execution_count": 13,
   "metadata": {
    "collapsed": false
   },
   "outputs": [
    {
     "data": {
      "text/plain": [
       "\"SourceWindow(name='w_data', contquery='contquery', project='project')\""
      ]
     },
     "execution_count": 13,
     "metadata": {},
     "output_type": "execute_result"
    }
   ],
   "source": [
    "str(dataw)"
   ]
  },
  {
   "cell_type": "code",
   "execution_count": 14,
   "metadata": {
    "collapsed": false
   },
   "outputs": [
    {
     "data": {
      "image/svg+xml": [
       "<?xml version=\"1.0\" encoding=\"UTF-8\" standalone=\"no\"?>\n",
       "<!DOCTYPE svg PUBLIC \"-//W3C//DTD SVG 1.1//EN\"\n",
       " \"http://www.w3.org/Graphics/SVG/1.1/DTD/svg11.dtd\">\n",
       "<!-- Generated by graphviz version 2.38.0 (20140413.2041)\n",
       " -->\n",
       "<!-- Title: %3 Pages: 1 -->\n",
       "<svg width=\"123pt\" height=\"137pt\"\n",
       " viewBox=\"0.00 0.00 123.00 137.00\" xmlns=\"http://www.w3.org/2000/svg\" xmlns:xlink=\"http://www.w3.org/1999/xlink\">\n",
       "<g id=\"graph0\" class=\"graph\" transform=\"scale(1 1) rotate(0) translate(4 133)\">\n",
       "<title>%3</title>\n",
       "<polygon fill=\"white\" stroke=\"none\" points=\"-4,4 -4,-133 119,-133 119,4 -4,4\"/>\n",
       "<!-- project.contquery.w_data -->\n",
       "<g id=\"node1\" class=\"node\"><title>project.contquery.w_data</title>\n",
       "<polygon fill=\"#c8f0ff\" stroke=\"#58a0d3\" stroke-width=\"2\" points=\"115,-129 0,-129 0,-0 115,-0 115,-129\"/>\n",
       "<text text-anchor=\"start\" x=\"36\" y=\"-105.3\" font-family=\"Helvetica,sans-Serif\" font-size=\"14.00\">w_data</text>\n",
       "<text text-anchor=\"start\" x=\"56\" y=\"-90.3\" font-family=\"Helvetica,sans-Serif\" font-size=\"14.00\"> </text>\n",
       "<text text-anchor=\"start\" x=\"23\" y=\"-76.3\" font-family=\"Helvetica,sans-Serif\" font-size=\"14.00\">🔑</text>\n",
       "<text text-anchor=\"start\" x=\"41\" y=\"-76.3\" font-family=\"Helvetica,sans-Serif\" font-size=\"14.00\" fill=\"#c49810\">id : int64</text>\n",
       "<text text-anchor=\"start\" x=\"18.5\" y=\"-60.3\" font-family=\"Helvetica,sans-Serif\" font-size=\"14.00\" fill=\"#808080\">time : double</text>\n",
       "<text text-anchor=\"start\" x=\"28.5\" y=\"-45.3\" font-family=\"Helvetica,sans-Serif\" font-size=\"14.00\" fill=\"#808080\">x : double</text>\n",
       "<text text-anchor=\"start\" x=\"28.5\" y=\"-30.3\" font-family=\"Helvetica,sans-Serif\" font-size=\"14.00\" fill=\"#808080\">y : double</text>\n",
       "<text text-anchor=\"start\" x=\"28.5\" y=\"-15.3\" font-family=\"Helvetica,sans-Serif\" font-size=\"14.00\" fill=\"#808080\">z : double</text>\n",
       "</g>\n",
       "</g>\n",
       "</svg>\n"
      ],
      "text/plain": [
       "<graphviz.dot.Digraph at 0x7f6d5a2bbe10>"
      ]
     },
     "execution_count": 14,
     "metadata": {},
     "output_type": "execute_result"
    }
   ],
   "source": [
    "dataw.to_graph()"
   ]
  },
  {
   "cell_type": "code",
   "execution_count": null,
   "metadata": {
    "collapsed": false
   },
   "outputs": [],
   "source": [
    "dataw."
   ]
  },
  {
   "cell_type": "markdown",
   "metadata": {},
   "source": [
    "## Event Generators"
   ]
  },
  {
   "cell_type": "code",
   "execution_count": 16,
   "metadata": {
    "collapsed": false
   },
   "outputs": [
    {
     "name": "stdout",
     "output_type": "stream",
     "text": [
      "I,N,1,0,0.69464,3.1735,7.5048\n",
      "I,N,2,0.030639,0.14982,3.4868,9.2755\n",
      "I,N,3,0.069763,-0.29965,1.9477,9.112\n",
      "I,N,4,0.099823,-1.6889,1.4165,10.12\n",
      "I,N,5,0.12982,-2.1793,0.95342,10.924\n",
      "I,N,6,0.15979,-2.3018,0.23155,10.651\n",
      "I,N,7,0.18982,-1.4165,1.185,11.073\n",
      "I,N,8,0.2204,-0.27241,2.2201,11.986\n",
      "I,N,9,0.24976,-0.61292,2.2201,11.986\n",
      "I,N,10,0.27972,1.3348,4.2495,11.414\n"
     ]
    }
   ],
   "source": [
    "%%sh\n",
    "head model_walking.csv"
   ]
  },
  {
   "cell_type": "code",
   "execution_count": 17,
   "metadata": {
    "collapsed": false
   },
   "outputs": [
    {
     "data": {
      "text/plain": [
       "EventGenerator(name='eg_qwr2u5krw1', publish_target='dfESP://my-esp-server.com:8611/project/contquery/w_data')"
      ]
     },
     "execution_count": 17,
     "metadata": {},
     "output_type": "execute_result"
    }
   ],
   "source": [
    "import os\n",
    "\n",
    "# Using a URL path means the file must be accesible on the server-side\n",
    "egen = dataw.create_event_generator('file:///%s' % os.path.abspath('model_walking.csv'))\n",
    "egen"
   ]
  },
  {
   "cell_type": "code",
   "execution_count": 18,
   "metadata": {
    "collapsed": true
   },
   "outputs": [],
   "source": [
    "egen.start(pause=200)"
   ]
  },
  {
   "cell_type": "markdown",
   "metadata": {},
   "source": [
    "## Streaming DataFrames"
   ]
  },
  {
   "cell_type": "code",
   "execution_count": 19,
   "metadata": {
    "collapsed": true
   },
   "outputs": [],
   "source": [
    "dataw.subscribe(limit=20)"
   ]
  },
  {
   "cell_type": "code",
   "execution_count": 20,
   "metadata": {
    "collapsed": false
   },
   "outputs": [
    {
     "data": {
      "image/svg+xml": [
       "<?xml version=\"1.0\" encoding=\"UTF-8\" standalone=\"no\"?>\n",
       "<!DOCTYPE svg PUBLIC \"-//W3C//DTD SVG 1.1//EN\"\n",
       " \"http://www.w3.org/Graphics/SVG/1.1/DTD/svg11.dtd\">\n",
       "<!-- Generated by graphviz version 2.38.0 (20140413.2041)\n",
       " -->\n",
       "<!-- Title: %3 Pages: 1 -->\n",
       "<svg width=\"123.0pt\" height=\"137.0pt\"\n",
       " viewBox=\"0.00 0.00 123.00 137.00\" xmlns=\"http://www.w3.org/2000/svg\" xmlns:xlink=\"http://www.w3.org/1999/xlink\">\n",
       "<g id=\"graph0\" class=\"graph\" transform=\"scale(1 1) rotate(0) translate(4 133)\">\n",
       "<title>%3</title>\n",
       "<polygon fill=\"white\" stroke=\"none\" points=\"-4,4 -4,-133 119,-133 119,4 -4,4\"/>\n",
       "<!-- project.contquery.w_data -->\n",
       "<g id=\"node1\" class=\"node\"><title>project.contquery.w_data</title>\n",
       "<polygon fill=\"#c8f0ff\" stroke=\"#58a0d3\" stroke-width=\"2\" points=\"115,-129 0,-129 0,-0 115,-0 115,-129\"/>\n",
       "<text text-anchor=\"start\" x=\"36\" y=\"-105.3\" font-family=\"Helvetica,sans-Serif\" font-size=\"14.00\">w_data</text>\n",
       "<text text-anchor=\"start\" x=\"56\" y=\"-90.3\" font-family=\"Helvetica,sans-Serif\" font-size=\"14.00\"> </text>\n",
       "<text text-anchor=\"start\" x=\"23\" y=\"-76.3\" font-family=\"Helvetica,sans-Serif\" font-size=\"14.00\">🔑</text>\n",
       "<text text-anchor=\"start\" x=\"41\" y=\"-76.3\" font-family=\"Helvetica,sans-Serif\" font-size=\"14.00\" fill=\"#c49810\">id : int64</text>\n",
       "<text text-anchor=\"start\" x=\"18.5\" y=\"-60.3\" font-family=\"Helvetica,sans-Serif\" font-size=\"14.00\" fill=\"#808080\">time : double</text>\n",
       "<text text-anchor=\"start\" x=\"28.5\" y=\"-45.3\" font-family=\"Helvetica,sans-Serif\" font-size=\"14.00\" fill=\"#808080\">x : double</text>\n",
       "<text text-anchor=\"start\" x=\"28.5\" y=\"-30.3\" font-family=\"Helvetica,sans-Serif\" font-size=\"14.00\" fill=\"#808080\">y : double</text>\n",
       "<text text-anchor=\"start\" x=\"28.5\" y=\"-15.3\" font-family=\"Helvetica,sans-Serif\" font-size=\"14.00\" fill=\"#808080\">z : double</text>\n",
       "</g>\n",
       "</g>\n",
       "</svg>\n"
      ],
      "text/html": [
       "<div>\n",
       "<style scoped>\n",
       "    .dataframe tbody tr th:only-of-type {\n",
       "        vertical-align: middle;\n",
       "    }\n",
       "\n",
       "    .dataframe tbody tr th {\n",
       "        vertical-align: top;\n",
       "    }\n",
       "\n",
       "    .dataframe thead th {\n",
       "        text-align: right;\n",
       "    }\n",
       "</style>\n",
       "<table border=\"1\" class=\"dataframe\">\n",
       "  <thead>\n",
       "    <tr style=\"text-align: right;\">\n",
       "      <th></th>\n",
       "      <th>time</th>\n",
       "      <th>x</th>\n",
       "      <th>y</th>\n",
       "      <th>z</th>\n",
       "    </tr>\n",
       "    <tr>\n",
       "      <th>id</th>\n",
       "      <th></th>\n",
       "      <th></th>\n",
       "      <th></th>\n",
       "      <th></th>\n",
       "    </tr>\n",
       "  </thead>\n",
       "  <tbody>\n",
       "    <tr>\n",
       "      <th>9</th>\n",
       "      <td>0.24976</td>\n",
       "      <td>-0.61292</td>\n",
       "      <td>2.2201</td>\n",
       "      <td>11.9860</td>\n",
       "    </tr>\n",
       "    <tr>\n",
       "      <th>10</th>\n",
       "      <td>0.27972</td>\n",
       "      <td>1.33480</td>\n",
       "      <td>4.2495</td>\n",
       "      <td>11.4140</td>\n",
       "    </tr>\n",
       "    <tr>\n",
       "      <th>11</th>\n",
       "      <td>0.31802</td>\n",
       "      <td>3.44590</td>\n",
       "      <td>7.5865</td>\n",
       "      <td>12.5990</td>\n",
       "    </tr>\n",
       "    <tr>\n",
       "      <th>12</th>\n",
       "      <td>0.34976</td>\n",
       "      <td>1.49820</td>\n",
       "      <td>4.9033</td>\n",
       "      <td>10.6920</td>\n",
       "    </tr>\n",
       "    <tr>\n",
       "      <th>13</th>\n",
       "      <td>0.37985</td>\n",
       "      <td>-1.79790</td>\n",
       "      <td>1.1169</td>\n",
       "      <td>9.9156</td>\n",
       "    </tr>\n",
       "  </tbody>\n",
       "</table>\n",
       "</div>"
      ],
      "text/plain": [
       "       time        x       y        z\n",
       "id                                   \n",
       "9   0.24976 -0.61292  2.2201  11.9860\n",
       "10  0.27972  1.33480  4.2495  11.4140\n",
       "11  0.31802  3.44590  7.5865  12.5990\n",
       "12  0.34976  1.49820  4.9033  10.6920\n",
       "13  0.37985 -1.79790  1.1169   9.9156"
      ]
     },
     "execution_count": 20,
     "metadata": {},
     "output_type": "execute_result"
    }
   ],
   "source": [
    "dataw"
   ]
  },
  {
   "cell_type": "markdown",
   "metadata": {},
   "source": [
    "### Using DataFrame Plotting Features"
   ]
  },
  {
   "cell_type": "code",
   "execution_count": 21,
   "metadata": {
    "collapsed": true
   },
   "outputs": [],
   "source": [
    "%matplotlib inline"
   ]
  },
  {
   "cell_type": "code",
   "execution_count": 22,
   "metadata": {
    "collapsed": false
   },
   "outputs": [
    {
     "data": {
      "text/plain": [
       "<matplotlib.axes._subplots.AxesSubplot at 0x7f6d5824ac50>"
      ]
     },
     "execution_count": 22,
     "metadata": {},
     "output_type": "execute_result"
    },
    {
     "data": {
      "image/png": "[encoded data removed]",
      "text/plain": [
       "<matplotlib.figure.Figure at 0x7f6d5824a278>"
      ]
     },
     "metadata": {},
     "output_type": "display_data"
    }
   ],
   "source": [
    "dataw.sort_values('time', ascending=True).plot('time', ['x', 'y', 'z'], figsize=(15, 6))"
   ]
  },
  {
   "cell_type": "code",
   "execution_count": 23,
   "metadata": {
    "collapsed": false
   },
   "outputs": [
    {
     "data": {
      "text/plain": [
       "<matplotlib.axes._subplots.AxesSubplot at 0x7f6d594fa860>"
      ]
     },
     "execution_count": 23,
     "metadata": {},
     "output_type": "execute_result"
    },
    {
     "data": {
      "image/png": "[encoded data removed]",
      "text/plain": [
       "<matplotlib.figure.Figure at 0x7f6d594ede10>"
      ]
     },
     "metadata": {},
     "output_type": "display_data"
    }
   ],
   "source": [
    "dataw.sort_values('time', ascending=True).plot('time', ['x', 'y', 'z'], figsize=(15, 6))"
   ]
  },
  {
   "cell_type": "markdown",
   "metadata": {},
   "source": [
    "## Streaming Figures"
   ]
  },
  {
   "cell_type": "code",
   "execution_count": 24,
   "metadata": {
    "collapsed": false
   },
   "outputs": [
    {
     "data": {
      "text/html": [
       "\n",
       "            <canvas id='chart_0ce2d537_4854_4ad1_b742_0f27ce5d43dd_canvas'\n",
       "                    style='width: 900px; height: 400px'></canvas>\n",
       "\n",
       "            <style type=\"text/css\">\n",
       "            .stream-plot-controls {\n",
       "                border: 1px solid #e0e0e0;\n",
       "                border-radius: 5px;\n",
       "                padding: 8px;\n",
       "                display: inline-block;\n",
       "            }\n",
       "            .stream-plot-control {\n",
       "                color: #909090;\n",
       "                font-size: 150%;\n",
       "                margin-right: 1em;\n",
       "                margin-left: 1em;\n",
       "            }\n",
       "            .fa-play.stream-plot-control:not([class*='enabled']):not([class*='disabled']):hover {\n",
       "                text-shadow: 0px 0px 15px #00c000;\n",
       "                color: #00c000;\n",
       "            }\n",
       "            .fa-pause.stream-plot-control:not([class*='enabled']):not([class*='disabled']):hover {\n",
       "                text-shadow: 0px 0px 15px #fdeb61;\n",
       "                color: #d37a2d;\n",
       "            }\n",
       "            .fa-stop.stream-plot-control:not([class*='enabled']):not([class*='disabled']):hover {\n",
       "                text-shadow: 0px 0px 15px #ff0000;\n",
       "                color: #ff0000;\n",
       "            }\n",
       "            .fa-play.stream-plot-control.enabled { color: #00c000; }\n",
       "            .fa-pause.stream-plot-control.enabled { color: #d37a2d; }\n",
       "            .fa-stop.stream-plot-control.enabled { color: #ff0000; }\n",
       "            .stream-plot-control.disabled { color: #d0d0d0; }\n",
       "            </style>\n",
       "\n",
       "            <div id=\"streaming-plot-chart_0ce2d537_4854_4ad1_b742_0f27ce5d43dd\"\n",
       "                 style=\"text-align: center; padding-top:10px; width: 900px\">\n",
       "            <div class=\"stream-plot-controls\" id=\"stream-plot-chart_0ce2d537_4854_4ad1_b742_0f27ce5d43dd\">\n",
       "              <i class=\"fa fa-play enabled stream-plot-control\"\n",
       "                 title=\"Stream data into figure\" aria-hidden=\"true\"\n",
       "                 style=\"cursor:pointer\" id=\"chart_0ce2d537_4854_4ad1_b742_0f27ce5d43dd-play\"></i>\n",
       "              <i class=\"fa fa-pause stream-plot-control\"\n",
       "                 title=\"Pause data updates\" aria-hidden=\"true\"\n",
       "                 style=\"cursor:pointer\" id=\"chart_0ce2d537_4854_4ad1_b742_0f27ce5d43dd-pause\"></i>\n",
       "              <i class=\"fa fa-stop stream-plot-control\"\n",
       "                 title=\"Shutdown data stream\" aria-hidden=\"true\"\n",
       "                 style=\"cursor:pointer\" id=\"chart_0ce2d537_4854_4ad1_b742_0f27ce5d43dd-stop\"></i>\n",
       "            </div>\n",
       "            </div>\n",
       "\n",
       "            <script language='javascript'>\n",
       "            <!--\n",
       "            requirejs.config({\n",
       "                paths: {\n",
       "                    Chart: ['//cdnjs.cloudflare.com/ajax/libs/Chart.js/2.7.0/Chart.min']\n",
       "                }\n",
       "            });\n",
       "\n",
       "            require(['jquery', 'Chart'], function($, Chart) {\n",
       "\n",
       "                var afterBuildTicks = function ( scale ) {\n",
       "                    return;\n",
       "                    scale.ticks.shift();\n",
       "                    scale.ticks.pop();\n",
       "                };\n",
       "\n",
       "                var generateLabels = function( chart ) {\n",
       "                    var data = chart.data;\n",
       "                    var labels = [];\n",
       "                    var ds_labels = [];\n",
       "                    var prev_key = '';\n",
       "\n",
       "                    if ( !Array.isArray(data.datasets) ) {\n",
       "                        return labels;\n",
       "                    }\n",
       "\n",
       "                    for ( var i=0; i < data.datasets.length; i++ ) {\n",
       "                        var dataset = data.datasets[i];\n",
       "                        var entry = {\n",
       "                            text: dataset.label,\n",
       "                            fillStyle: (!Array.isArray(dataset.backgroundColor) ?\n",
       "                                        dataset.backgroundColor :\n",
       "                                        dataset.backgroundColor[0]),\n",
       "                            hidden: !chart.isDatasetVisible(i),\n",
       "                            lineCap: dataset.borderCapStyle,\n",
       "                            lineDash: dataset.borderDash,\n",
       "                            lineDashOffset: dataset.borderDashOffset,\n",
       "                            lineJoin: dataset.borderJoinStyle,\n",
       "                            lineWidth: dataset.borderWidth,\n",
       "                            strokeStyle: dataset.borderColor,\n",
       "                            pointStyle: dataset.pointStyle,\n",
       "\n",
       "                            // Below is extra data used for toggling the datasets\n",
       "                            datasetIndex: i\n",
       "                        }\n",
       "\n",
       "                        if ( dataset._key && dataset._key.split('-')[0] === prev_key ) {\n",
       "                            ds_labels.push(entry);\n",
       "                        }\n",
       "                        else {\n",
       "                            ds_labels.sort(function(a, b) {\n",
       "                                if ( a.text < b.text ) return -1;\n",
       "                                if ( a.text > b.text ) return 1;\n",
       "                                return 0;\n",
       "                            });\n",
       "                            for ( var j=0; j < ds_labels.length; j++ ) {\n",
       "                                labels.push(ds_labels[j]);\n",
       "                            }\n",
       "                            prev_key = dataset._key.split('-')[0];\n",
       "                            ds_labels = [entry];\n",
       "                        }\n",
       "                    }\n",
       "\n",
       "                    ds_labels.sort(function(a, b) {\n",
       "                        if ( a.text < b.text ) return -1;\n",
       "                        if ( a.text > b.text ) return 1;\n",
       "                        return 0;\n",
       "                    });\n",
       "                    for ( var j=0; j < ds_labels.length; j++ ) {\n",
       "                        labels.push(ds_labels[j]);\n",
       "                    }\n",
       "\n",
       "                    return labels;\n",
       "                };\n",
       "\n",
       "                var auto_colors = function ( data ) {\n",
       "                    var ctx = document.getElementById('chart_0ce2d537_4854_4ad1_b742_0f27ce5d43dd_canvas').getContext('2d');\n",
       "                    var datasets = data.datasets;\n",
       "                    var Color = Chart.helpers.color;\n",
       "                    if ( !data.datasets || data.datasets.length == 0 ) {\n",
       "                        return data;\n",
       "                    }\n",
       "                    for ( var i=0; i < datasets.length; i++ ) {\n",
       "                        var ds = datasets[i];\n",
       "                        if ( ds.backgroundColor ) {\n",
       "                            if ( Array.isArray(ds.backgroundColor) ) {\n",
       "                                for ( var j=0; j < ds.backgroundColor.length; j++ ) {\n",
       "                                    var bgcolor = ds.backgroundColor[j];\n",
       "                                    if ( bgcolor.match(/^\\s*auto\\s*\\(.+\\)\\s*$/) ) {\n",
       "                                        bgcolor = bgcolor.replace(/^\\s*auto\\s*\\(\\s*(.+)\\s*\\)\\s*$/, '$1');\n",
       "                                        ds.backgroundColor[j] = Color(bgcolor).clearer(0.6).rgbString();\n",
       "                                    }\n",
       "                                    else if ( bgcolor.match(/^\\s*url\\s*\\(.+\\)\\s*$/) ) {\n",
       "                                        var img = new Image();\n",
       "                                        img.src = bgcolor.replace(/^\\s*url\\s*\\(\\s*(.+)\\s*\\)\\s*$/, '$1');\n",
       "                                        img.onload = function () {\n",
       "                                            ds.backgroundColor[j] = ctx.createPattern(img, 'repeat');\n",
       "                                        };\n",
       "                                    }\n",
       "                                }\n",
       "                            }\n",
       "                            else if ( ds.backgroundColor.match(/^\\s*auto\\s*\\(.+\\)\\s*$/) ) {\n",
       "                                var bgcolor = ds.backgroundColor.replace(/^\\s*auto\\s*\\(\\s*(.+)\\s*\\)\\s*$/, '$1');\n",
       "                                ds.backgroundColor = Color(bgcolor).clearer(0.6).rgbString();\n",
       "                            }\n",
       "                            else if ( ds.backgroundColor.match(/^\\s*url\\s*\\(.+\\)\\s*$/) ) {\n",
       "                                var img = new Image();\n",
       "                                img.src = ds.backgroundColor.replace(/^\\s*url\\s*\\(\\s*(.+)\\s*\\)\\s*$/, '$1');\n",
       "                                img.onload = function () {\n",
       "                                    ds.backgroundColor = ctx.createPattern(img, 'repeat');\n",
       "                                };\n",
       "                            }\n",
       "                        }\n",
       "                        if ( ds.borderColor ) {\n",
       "                            if ( Array.isArray(ds.borderColor) ) {\n",
       "                                for ( var j=0; j < ds.borderColor.length; j++ ) {\n",
       "                                    var fgcolor = ds.borderColor[j];\n",
       "                                    if ( fgcolor.match(/^\\s*auto\\s*\\(.+\\)\\s*$/) ) {\n",
       "                                        fgcolor = fg.replace(/^\\s*auto\\s*\\(\\s*(.*)\\s*\\)\\s*$/, '$1');\n",
       "                                        ds.borderColor[j] = Color(fgcolor).opaquer(1).rgbString();\n",
       "                                    }\n",
       "                                }\n",
       "                            } else if ( ds.borderColor.match(/^\\s*auto\\s*\\(.+\\)\\s*$/) ) {\n",
       "                                var fgcolor = ds.borderColor.replace(/^\\s*auto\\s*\\(\\s*(.*)\\s*\\)\\s*$/, '$1');\n",
       "                                ds.borderColor = Color(fgcolor).opaquer(1).rgbString();\n",
       "                            }\n",
       "                        }\n",
       "                    }\n",
       "                    return data;\n",
       "                };\n",
       "\n",
       "                var max_data = 20;\n",
       "                var ctx = document.getElementById('chart_0ce2d537_4854_4ad1_b742_0f27ce5d43dd_canvas').getContext('2d');\n",
       "                var chart = new Chart(ctx, {\n",
       "                    type: 'line',\n",
       "                    data: auto_colors({\"labels\": [], \"displayed_labels\": null, \"datasets\": [{\"type\": \"line\", \"spanGaps\": false, \"data\": [], \"label\": \"X\", \"_key\": \"ds00\", \"borderColor\": \"auto(#1f78b4)\", \"_y\": \"x\", \"pointRadius\": 0, \"showLine\": true, \"_x\": \"time\", \"fill\": false, \"_radius\": null, \"backgroundColor\": \"auto(#1f78b4)\"}, {\"type\": \"line\", \"spanGaps\": false, \"data\": [], \"label\": \"Y\", \"_key\": \"ds01\", \"borderColor\": \"auto(#ff7f00)\", \"_y\": \"y\", \"pointRadius\": 0, \"showLine\": true, \"_x\": \"time\", \"fill\": false, \"_radius\": null, \"backgroundColor\": \"auto(#ff7f00)\"}, {\"type\": \"line\", \"spanGaps\": false, \"data\": [], \"label\": \"Z\", \"_key\": \"ds02\", \"borderColor\": \"auto(#33a02c)\", \"_y\": \"z\", \"pointRadius\": 0, \"showLine\": true, \"_x\": \"time\", \"fill\": false, \"_radius\": null, \"backgroundColor\": \"auto(#33a02c)\"}]}),\n",
       "                    options: {\"legend\": {\"position\": \"right\", \"display\": true, \"labels\": {\"usePointStyle\": true}}, \"scales\": {\"yAxes\": [{\"ticks\": {\"min\": -16, \"max\": 16}}], \"xAxes\": [{\"ticks\": {}}]}, \"title\": {\"display\": false, \"text\": \"\"}, \"responsive\": true}\n",
       "                });\n",
       "\n",
       "                var set_display_labels = function (value, index, values) {\n",
       "                    if ( chart.data.displayed_labels && chart.data.displayed_labels[index] ) {\n",
       "                        return chart.data.displayed_labels[index];\n",
       "                    }\n",
       "                    return value;\n",
       "                };\n",
       "\n",
       "                if ( chart.options.scales && chart.options.scales.xAxes ) {\n",
       "                    chart.options.scales.xAxes[0].ticks.callback = set_display_labels;\n",
       "                }\n",
       "\n",
       "/*\n",
       "                var dynamic_x_axis = false;\n",
       "                if ( chart.config.type === 'line' || chart.config.type === 'area' ||\n",
       "                     chart.config.type === 'scatter' || chart.config.type === 'bubble' ) {\n",
       "                    if ( chart.options.scales.xAxes[0].ticks.min == null &&\n",
       "                         chart.options.scales.xAxes[0].ticks.max == null ) {\n",
       "                        dynamic_x_axis = true;\n",
       "                    }\n",
       "                }\n",
       "\n",
       "                if ( dynamic_x_axis && chart.options.scales && chart.options.scales.xAxes ) {\n",
       "                    chart.options.scales.xAxes[0].afterBuildTicks = afterBuildTicks;\n",
       "                }\n",
       "*/\n",
       "\n",
       "                var rotate_linear = function (labels, values, new_values) {\n",
       "                    Array.prototype.push.apply(values, new_values);\n",
       "                    while ( values.length > max_data ) {\n",
       "                        values.shift();\n",
       "                    }\n",
       "                    while ( values.length < labels.length ) {\n",
       "                        values.unshift(null);\n",
       "                    }\n",
       "                }\n",
       "\n",
       "                var rotate_category = function (labels, new_labels, values, new_values) {\n",
       "                    var idx;\n",
       "\n",
       "                    if ( !new_labels || new_labels.length == 0 ) return;\n",
       "                    if ( !new_values || new_values.length == 0 ) return;\n",
       "\n",
       "                    for ( var i=0; i < new_labels.length; i++ ) {\n",
       "                        idx = labels.indexOf(new_labels[i]);\n",
       "                        if ( idx === -1 ) {\n",
       "                            labels.push(new_labels[i]);\n",
       "                            values.push(new_values[i]);\n",
       "                        } else {\n",
       "                            values[idx] = new_values[i];\n",
       "                        }\n",
       "                    }\n",
       "\n",
       "                    while ( values.length > max_data ) {\n",
       "                        values.shift();\n",
       "                    }\n",
       "\n",
       "                    while ( values.length < labels.length ) {\n",
       "                        values.unshift(null);\n",
       "                    }\n",
       "                }\n",
       "\n",
       "                var comm = Jupyter.notebook.kernel.comm_manager.new_comm('chart_0ce2d537_4854_4ad1_b742_0f27ce5d43dd')\n",
       "\n",
       "                comm.on_msg(function(msg) {\n",
       "                    var data = auto_colors(msg.content.data);\n",
       "                    var key = null;\n",
       "                    var old_datasets = {};\n",
       "                    var new_datasets = {};\n",
       "                    var updated_datasets = {};\n",
       "\n",
       "                    if ( data.labels && data.datasets &&\n",
       "                         data.labels.length > 0 && data.datasets.length > 0 ) {\n",
       "\n",
       "                        // Categorize updatable and new datasets\n",
       "                        for ( var i=0; i < chart.data.datasets.length; i++ ) {\n",
       "                            old_datasets[chart.data.datasets[i]._key] = chart.data.datasets[i];\n",
       "                        }\n",
       "                        for ( var i=0; i < data.datasets.length; i++ ) {\n",
       "                            if ( old_datasets[data.datasets[i]._key] == null ) {\n",
       "                                new_datasets[data.datasets[i]._key] = data.datasets[i];\n",
       "                            } else {\n",
       "                                updated_datasets[data.datasets[i]._key] = data.datasets[i];\n",
       "                            }\n",
       "                        }\n",
       "\n",
       "                        if ( chart.config.type == 'doughnut' ||\n",
       "                             chart.config.type == 'pie' ||\n",
       "                             chart.config.type == 'bar' ||\n",
       "                             chart.config.type == 'horizontalBar' ) {\n",
       "\n",
       "                            // Update existing datasets\n",
       "                            for ( key in updated_datasets ) {\n",
       "                                rotate_category( chart.data.labels,\n",
       "                                                   data.labels,\n",
       "                                                   old_datasets[key].data,\n",
       "                                                   updated_datasets[key].data );\n",
       "                            }\n",
       "\n",
       "                            // Add new datasets\n",
       "                            for ( key in new_datasets ) {\n",
       "                                chart.data.datasets.push(new_datasets[key]);\n",
       "                                rotate_category( chart.data.labels,\n",
       "                                                   data.labels,\n",
       "                                                   new_datasets[key].data,\n",
       "                                                   new_datasets[key].data );\n",
       "                            }\n",
       "\n",
       "                            chart.data.displayed_labels = data.displayed_labels;\n",
       "\n",
       "                        } else {\n",
       "\n",
       "                            // Rotate labels\n",
       "                            Array.prototype.push.apply(chart.data.labels, data.labels);\n",
       "                            while ( chart.data.labels.length > max_data ) {\n",
       "                                chart.data.labels.shift();\n",
       "                            }\n",
       "\n",
       "                            // Update existing datasets\n",
       "                            for ( key in updated_datasets ) {\n",
       "                                rotate_linear( chart.data.labels,\n",
       "                                               old_datasets[key].data,\n",
       "                                               updated_datasets[key].data );\n",
       "                            }\n",
       "\n",
       "                            // Add new datasets\n",
       "                            for ( key in new_datasets ) {\n",
       "                                chart.data.datasets.push(new_datasets[key]);\n",
       "                                rotate_linear( chart.data.labels,\n",
       "                                               new_datasets[key].data,\n",
       "                                               [] );\n",
       "                            }\n",
       "\n",
       "                            // Shift stale datasets\n",
       "                            var nulls = [];\n",
       "                            for ( key in old_datasets ) {\n",
       "                                if ( updated_datasets[key] == null ) {\n",
       "                                    if ( nulls.length == 0 ) {\n",
       "                                        for ( var i=0; i < data.labels.length; i++ ) {\n",
       "                                            nulls.push(null);\n",
       "                                        }\n",
       "                                    }\n",
       "                                    rotate_linear( chart.data.labels,\n",
       "                                                   old_datasets[key].data,\n",
       "                                                   nulls );\n",
       "                                }\n",
       "                            }\n",
       "\n",
       "                            // Reset x-axis limits\n",
       "/*\n",
       "                            if ( dynamic_x_axis && chart.options.scales && chart.options.scales.xAxes ) {\n",
       "                                chart.options.scales.xAxes[0].ticks.min = chart.data.labels[Math.max(Math.min(chart.data.labels.length-1, 2), 0)];\n",
       "                                chart.options.scales.xAxes[0].ticks.max = chart.data.labels[Math.max(chart.data.labels.length-1, 0)];\n",
       "                            }\n",
       "*/\n",
       "                        }\n",
       "\n",
       "                        if ( chart.config.type == 'line' ) {\n",
       "                            chart.update(0);\n",
       "                        } else {\n",
       "                            chart.update(100 * 2);\n",
       "                        }\n",
       "                    }\n",
       "\n",
       "                    if ( data.command ) {\n",
       "                        if ( data.command == 'stop' ) {\n",
       "                            $('#chart_0ce2d537_4854_4ad1_b742_0f27ce5d43dd-play, #chart_0ce2d537_4854_4ad1_b742_0f27ce5d43dd-pause, #chart_0ce2d537_4854_4ad1_b742_0f27ce5d43dd-stop')\n",
       "                                .removeClass('enabled')\n",
       "                                .addClass('disabled')\n",
       "                                .css('cursor', 'default');\n",
       "                            $('#streaming-plot-chart_0ce2d537_4854_4ad1_b742_0f27ce5d43dd').hide().remove();\n",
       "                        }\n",
       "                    }\n",
       "\n",
       "                    // If plot doesn't exist anymore, stop data\n",
       "                    if ( $('#streaming-plot-chart_0ce2d537_4854_4ad1_b742_0f27ce5d43dd').length == 0 ) {\n",
       "                        comm.send({'command': 'stop'});\n",
       "                    }\n",
       "                });\n",
       "\n",
       "                comm.on_close(function() {\n",
       "                    comm.send({'command': 'stop'});\n",
       "                });\n",
       "\n",
       "                // Send message when plot is removed\n",
       "                $.event.special.destroyed = {\n",
       "                    remove: function(o) {\n",
       "                      if (o.handler) {\n",
       "                        o.handler()\n",
       "                      }\n",
       "                    }\n",
       "                }\n",
       "                $('#streaming-plot-chart_0ce2d537_4854_4ad1_b742_0f27ce5d43dd').bind('destroyed', function() {\n",
       "                    comm.send({'command': 'stop'});\n",
       "                });\n",
       "\n",
       "                var blink = function () {\n",
       "                  $('#chart_0ce2d537_4854_4ad1_b742_0f27ce5d43dd-pause.enabled').fadeOut(900).fadeIn(900, blink);\n",
       "                }\n",
       "\n",
       "                $('#chart_0ce2d537_4854_4ad1_b742_0f27ce5d43dd-play').click(function() {\n",
       "                  if ( $('#chart_0ce2d537_4854_4ad1_b742_0f27ce5d43dd-play').hasClass('disabled') ) return;\n",
       "                  if ( $('#chart_0ce2d537_4854_4ad1_b742_0f27ce5d43dd-play').hasClass('enabled') ) return;\n",
       "                  $('#chart_0ce2d537_4854_4ad1_b742_0f27ce5d43dd-pause').removeClass('enabled');\n",
       "                  $('#chart_0ce2d537_4854_4ad1_b742_0f27ce5d43dd-play').addClass('enabled');\n",
       "                  comm.send({'command': 'play'});\n",
       "                });\n",
       "\n",
       "                $('#chart_0ce2d537_4854_4ad1_b742_0f27ce5d43dd-pause').click(function() {\n",
       "                  if ( $('#chart_0ce2d537_4854_4ad1_b742_0f27ce5d43dd-pause').hasClass('disabled') ) return;\n",
       "                  if ( $('#chart_0ce2d537_4854_4ad1_b742_0f27ce5d43dd-pause').hasClass('enabled') ) {\n",
       "                    $('#chart_0ce2d537_4854_4ad1_b742_0f27ce5d43dd-play').click();\n",
       "                    return;\n",
       "                  }\n",
       "                  $('#chart_0ce2d537_4854_4ad1_b742_0f27ce5d43dd-play').removeClass('enabled');\n",
       "                  $('#chart_0ce2d537_4854_4ad1_b742_0f27ce5d43dd-pause').addClass('enabled');\n",
       "                  comm.send({'command': 'pause'});\n",
       "                  blink();\n",
       "                });\n",
       "\n",
       "                $('#chart_0ce2d537_4854_4ad1_b742_0f27ce5d43dd-stop').click(function() {\n",
       "                  if ( $('#chart_0ce2d537_4854_4ad1_b742_0f27ce5d43dd-stop').hasClass('disabled') ) return;\n",
       "                    $('#chart_0ce2d537_4854_4ad1_b742_0f27ce5d43dd-play, #chart_0ce2d537_4854_4ad1_b742_0f27ce5d43dd-pause, #chart_0ce2d537_4854_4ad1_b742_0f27ce5d43dd-stop')\n",
       "                    .removeClass('enabled')\n",
       "                    .addClass('disabled')\n",
       "                    .css('cursor', 'default');\n",
       "                  comm.send({'command': 'stop'});\n",
       "                  $('#streaming-plot-chart_0ce2d537_4854_4ad1_b742_0f27ce5d43dd').hide().remove();\n",
       "                });\n",
       "\n",
       "            });\n",
       "            //-->\n",
       "            </script>\n",
       "        "
      ],
      "text/plain": [
       "<esppy.plotting.StreamingChart at 0x7f6d598e74e0>"
      ]
     },
     "execution_count": 24,
     "metadata": {},
     "output_type": "execute_result"
    }
   ],
   "source": [
    "dataw.streaming_line('time', ['x', 'y', 'z'], \n",
    "                     label=['X', 'Y', 'Z'],\n",
    "                     y_range=(-16,16),\n",
    "                     max_data=20, steps=1000, interval=100)"
   ]
  },
  {
   "cell_type": "markdown",
   "metadata": {},
   "source": [
    "## Create a New Project Programmatically"
   ]
  },
  {
   "cell_type": "code",
   "execution_count": 25,
   "metadata": {
    "collapsed": false
   },
   "outputs": [
    {
     "data": {
      "image/svg+xml": [
       "<?xml version=\"1.0\" encoding=\"UTF-8\" standalone=\"no\"?>\n",
       "<!DOCTYPE svg PUBLIC \"-//W3C//DTD SVG 1.1//EN\"\n",
       " \"http://www.w3.org/Graphics/SVG/1.1/DTD/svg11.dtd\">\n",
       "<!-- Generated by graphviz version 2.38.0 (20140413.2041)\n",
       " -->\n",
       "<!-- Title: %3 Pages: 1 -->\n",
       "<svg width=\"73.0pt\" height=\"44.0pt\"\n",
       " viewBox=\"0.00 0.00 73.00 44.00\" xmlns=\"http://www.w3.org/2000/svg\" xmlns:xlink=\"http://www.w3.org/1999/xlink\">\n",
       "<g id=\"graph0\" class=\"graph\" transform=\"scale(1 1) rotate(0) translate(4 40)\">\n",
       "<title>%3</title>\n",
       "<polygon fill=\"white\" stroke=\"none\" points=\"-4,4 -4,-40 69,-40 69,4 -4,4\"/>\n",
       "<!-- kmeans -->\n",
       "<g id=\"node1\" class=\"node\"><title>kmeans</title>\n",
       "<path fill=\"#dadada\" stroke=\"#c0c0c0\" stroke-width=\"2\" d=\"M53,-36C53,-36 12,-36 12,-36 6,-36 0,-30 0,-24 0,-24 0,-12 0,-12 0,-6 6,-0 12,-0 12,-0 53,-0 53,-0 59,-0 65,-6 65,-12 65,-12 65,-24 65,-24 65,-30 59,-36 53,-36\"/>\n",
       "<text text-anchor=\"middle\" x=\"32.5\" y=\"-14.3\" font-family=\"Helvetica,sans-Serif\" font-size=\"14.00\">kmeans</text>\n",
       "</g>\n",
       "</g>\n",
       "</svg>\n"
      ],
      "text/plain": [
       "Project(name='kmeans')"
      ]
     },
     "execution_count": 25,
     "metadata": {},
     "output_type": "execute_result"
    }
   ],
   "source": [
    "proj = esp.create_project('kmeans')\n",
    "proj"
   ]
  },
  {
   "cell_type": "markdown",
   "metadata": {},
   "source": [
    "### Add a Source Window"
   ]
  },
  {
   "cell_type": "code",
   "execution_count": 26,
   "metadata": {
    "collapsed": false
   },
   "outputs": [
    {
     "data": {
      "image/svg+xml": [
       "<?xml version=\"1.0\" encoding=\"UTF-8\" standalone=\"no\"?>\n",
       "<!DOCTYPE svg PUBLIC \"-//W3C//DTD SVG 1.1//EN\"\n",
       " \"http://www.w3.org/Graphics/SVG/1.1/DTD/svg11.dtd\">\n",
       "<!-- Generated by graphviz version 2.38.0 (20140413.2041)\n",
       " -->\n",
       "<!-- Title: %3 Pages: 1 -->\n",
       "<svg width=\"120.0pt\" height=\"103.0pt\"\n",
       " viewBox=\"0.00 0.00 120.00 103.00\" xmlns=\"http://www.w3.org/2000/svg\" xmlns:xlink=\"http://www.w3.org/1999/xlink\">\n",
       "<g id=\"graph0\" class=\"graph\" transform=\"scale(1 1) rotate(0) translate(4 99)\">\n",
       "<title>%3</title>\n",
       "<polygon fill=\"white\" stroke=\"none\" points=\"-4,4 -4,-99 116,-99 116,4 -4,4\"/>\n",
       "<g id=\"clust1\" class=\"cluster\"><title>cluster_kmeans</title>\n",
       "<path fill=\"#dadada\" stroke=\"#c0c0c0\" stroke-width=\"2\" d=\"M20,-8C20,-8 92,-8 92,-8 98,-8 104,-14 104,-20 104,-20 104,-75 104,-75 104,-81 98,-87 92,-87 92,-87 20,-87 20,-87 14,-87 8,-81 8,-75 8,-75 8,-20 8,-20 8,-14 14,-8 20,-8\"/>\n",
       "<text text-anchor=\"middle\" x=\"40.5\" y=\"-71.8\" font-family=\"Helvetica,sans-Serif\" font-size=\"14.00\">kmeans</text>\n",
       "</g>\n",
       "<!-- kmeans.contquery.w_data -->\n",
       "<g id=\"node1\" class=\"node\"><title>kmeans.contquery.w_data</title>\n",
       "<polygon fill=\"#c8f0ff\" stroke=\"#58a0d3\" stroke-width=\"2\" points=\"96,-55.5 16,-55.5 16,-16.5 96,-16.5 96,-55.5\"/>\n",
       "<text text-anchor=\"middle\" x=\"56\" y=\"-32.3\" font-family=\"Helvetica,sans-Serif\" font-size=\"14.00\">w_data</text>\n",
       "</g>\n",
       "</g>\n",
       "</svg>\n"
      ],
      "text/plain": [
       "Project(name='kmeans')"
      ]
     },
     "execution_count": 26,
     "metadata": {},
     "output_type": "execute_result"
    }
   ],
   "source": [
    "src = esp.SourceWindow(schema=('id*:int64', 'x_c:double', 'y_c:double'),\n",
    "                       index_type='pi_EMPTY', insert_only=True)\n",
    "proj.windows['w_data'] = src\n",
    "proj"
   ]
  },
  {
   "cell_type": "markdown",
   "metadata": {},
   "source": [
    "### Add a Training Window"
   ]
  },
  {
   "cell_type": "code",
   "execution_count": null,
   "metadata": {
    "collapsed": false
   },
   "outputs": [],
   "source": [
    "esp.train."
   ]
  },
  {
   "cell_type": "code",
   "execution_count": 69,
   "metadata": {
    "collapsed": true
   },
   "outputs": [],
   "source": [
    "esp.train.KMEANS?"
   ]
  },
  {
   "cell_type": "code",
   "execution_count": 27,
   "metadata": {
    "collapsed": false
   },
   "outputs": [
    {
     "data": {
      "image/svg+xml": [
       "<?xml version=\"1.0\" encoding=\"UTF-8\" standalone=\"no\"?>\n",
       "<!DOCTYPE svg PUBLIC \"-//W3C//DTD SVG 1.1//EN\"\n",
       " \"http://www.w3.org/Graphics/SVG/1.1/DTD/svg11.dtd\">\n",
       "<!-- Generated by graphviz version 2.38.0 (20140413.2041)\n",
       " -->\n",
       "<!-- Title: %3 Pages: 1 -->\n",
       "<svg width=\"176.0pt\" height=\"160.0pt\"\n",
       " viewBox=\"0.00 0.00 176.00 160.00\" xmlns=\"http://www.w3.org/2000/svg\" xmlns:xlink=\"http://www.w3.org/1999/xlink\">\n",
       "<g id=\"graph0\" class=\"graph\" transform=\"scale(1 1) rotate(0) translate(4 156)\">\n",
       "<title>%3</title>\n",
       "<polygon fill=\"white\" stroke=\"none\" points=\"-4,4 -4,-156 172,-156 172,4 -4,4\"/>\n",
       "<g id=\"clust1\" class=\"cluster\"><title>cluster_kmeans</title>\n",
       "<path fill=\"#dadada\" stroke=\"#c0c0c0\" stroke-width=\"2\" d=\"M20,-8C20,-8 148,-8 148,-8 154,-8 160,-14 160,-20 160,-20 160,-132 160,-132 160,-138 154,-144 148,-144 148,-144 20,-144 20,-144 14,-144 8,-138 8,-132 8,-132 8,-20 8,-20 8,-14 14,-8 20,-8\"/>\n",
       "<text text-anchor=\"middle\" x=\"40.5\" y=\"-128.8\" font-family=\"Helvetica,sans-Serif\" font-size=\"14.00\">kmeans</text>\n",
       "</g>\n",
       "<!-- kmeans.contquery.w_data -->\n",
       "<g id=\"node1\" class=\"node\"><title>kmeans.contquery.w_data</title>\n",
       "<polygon fill=\"#c8f0ff\" stroke=\"#58a0d3\" stroke-width=\"2\" points=\"124,-112.5 44,-112.5 44,-73.5 124,-73.5 124,-112.5\"/>\n",
       "<text text-anchor=\"middle\" x=\"84\" y=\"-89.3\" font-family=\"Helvetica,sans-Serif\" font-size=\"14.00\">w_data</text>\n",
       "</g>\n",
       "<!-- kmeans.contquery.w_train_kmeans -->\n",
       "<g id=\"node2\" class=\"node\"><title>kmeans.contquery.w_train_kmeans</title>\n",
       "<polygon fill=\"#c8f0ff\" stroke=\"#58a0d3\" stroke-width=\"2\" points=\"152,-55.5 16,-55.5 16,-16.5 152,-16.5 152,-55.5\"/>\n",
       "<text text-anchor=\"middle\" x=\"84\" y=\"-32.3\" font-family=\"Helvetica,sans-Serif\" font-size=\"14.00\">w_train_kmeans</text>\n",
       "</g>\n",
       "</g>\n",
       "</svg>\n"
      ],
      "text/plain": [
       "Project(name='kmeans')"
      ]
     },
     "execution_count": 27,
     "metadata": {},
     "output_type": "execute_result"
    }
   ],
   "source": [
    "train = esp.train.KMEANS(\n",
    "    velocity=5, fadeOutFactor=0.05, nClusters=2, dampingFactor=0.8, \n",
    "    nInit=50, commitInterval=25, initSeed=1, disturbFactor=0.01,\n",
    "    input_map=dict(inputs=('x_c', 'y_c')))\n",
    "proj.windows['w_train_kmeans'] = train\n",
    "proj"
   ]
  },
  {
   "cell_type": "markdown",
   "metadata": {},
   "source": [
    "### Add a Scoring Window"
   ]
  },
  {
   "cell_type": "code",
   "execution_count": null,
   "metadata": {
    "collapsed": false
   },
   "outputs": [],
   "source": [
    "esp.score."
   ]
  },
  {
   "cell_type": "code",
   "execution_count": 9,
   "metadata": {
    "collapsed": true
   },
   "outputs": [],
   "source": [
    "esp.score.KMEANS?"
   ]
  },
  {
   "cell_type": "code",
   "execution_count": 28,
   "metadata": {
    "collapsed": false
   },
   "outputs": [
    {
     "data": {
      "text/plain": [
       "{'labelOut': 'int32', 'minDistanceOut': 'double', 'modelIdOut': 'int64'}"
      ]
     },
     "execution_count": 28,
     "metadata": {},
     "output_type": "execute_result"
    }
   ],
   "source": [
    "esp.score.KMEANS.output_map_types"
   ]
  },
  {
   "cell_type": "code",
   "execution_count": 29,
   "metadata": {
    "collapsed": false
   },
   "outputs": [
    {
     "data": {
      "image/svg+xml": [
       "<?xml version=\"1.0\" encoding=\"UTF-8\" standalone=\"no\"?>\n",
       "<!DOCTYPE svg PUBLIC \"-//W3C//DTD SVG 1.1//EN\"\n",
       " \"http://www.w3.org/Graphics/SVG/1.1/DTD/svg11.dtd\">\n",
       "<!-- Generated by graphviz version 2.38.0 (20140413.2041)\n",
       " -->\n",
       "<!-- Title: %3 Pages: 1 -->\n",
       "<svg width=\"182.0pt\" height=\"217.0pt\"\n",
       " viewBox=\"0.00 0.00 182.00 217.00\" xmlns=\"http://www.w3.org/2000/svg\" xmlns:xlink=\"http://www.w3.org/1999/xlink\">\n",
       "<g id=\"graph0\" class=\"graph\" transform=\"scale(1 1) rotate(0) translate(4 213)\">\n",
       "<title>%3</title>\n",
       "<polygon fill=\"white\" stroke=\"none\" points=\"-4,4 -4,-213 178,-213 178,4 -4,4\"/>\n",
       "<g id=\"clust1\" class=\"cluster\"><title>cluster_kmeans</title>\n",
       "<path fill=\"#dadada\" stroke=\"#c0c0c0\" stroke-width=\"2\" d=\"M20,-8C20,-8 154,-8 154,-8 160,-8 166,-14 166,-20 166,-20 166,-189 166,-189 166,-195 160,-201 154,-201 154,-201 20,-201 20,-201 14,-201 8,-195 8,-189 8,-189 8,-20 8,-20 8,-14 14,-8 20,-8\"/>\n",
       "<text text-anchor=\"middle\" x=\"40.5\" y=\"-185.8\" font-family=\"Helvetica,sans-Serif\" font-size=\"14.00\">kmeans</text>\n",
       "</g>\n",
       "<!-- kmeans.contquery.w_data -->\n",
       "<g id=\"node1\" class=\"node\"><title>kmeans.contquery.w_data</title>\n",
       "<polygon fill=\"#c8f0ff\" stroke=\"#58a0d3\" stroke-width=\"2\" points=\"127,-169.5 47,-169.5 47,-130.5 127,-130.5 127,-169.5\"/>\n",
       "<text text-anchor=\"middle\" x=\"87\" y=\"-146.3\" font-family=\"Helvetica,sans-Serif\" font-size=\"14.00\">w_data</text>\n",
       "</g>\n",
       "<!-- kmeans.contquery.w_score_kmeans -->\n",
       "<g id=\"node2\" class=\"node\"><title>kmeans.contquery.w_score_kmeans</title>\n",
       "<polygon fill=\"#c8f0ff\" stroke=\"#58a0d3\" stroke-width=\"2\" points=\"158,-112.5 16,-112.5 16,-73.5 158,-73.5 158,-112.5\"/>\n",
       "<text text-anchor=\"middle\" x=\"87\" y=\"-89.3\" font-family=\"Helvetica,sans-Serif\" font-size=\"14.00\">w_score_kmeans</text>\n",
       "</g>\n",
       "<!-- kmeans.contquery.w_train_kmeans -->\n",
       "<g id=\"node3\" class=\"node\"><title>kmeans.contquery.w_train_kmeans</title>\n",
       "<polygon fill=\"#c8f0ff\" stroke=\"#58a0d3\" stroke-width=\"2\" points=\"155,-55.5 19,-55.5 19,-16.5 155,-16.5 155,-55.5\"/>\n",
       "<text text-anchor=\"middle\" x=\"87\" y=\"-32.3\" font-family=\"Helvetica,sans-Serif\" font-size=\"14.00\">w_train_kmeans</text>\n",
       "</g>\n",
       "</g>\n",
       "</svg>\n"
      ],
      "text/plain": [
       "Project(name='kmeans')"
      ]
     },
     "execution_count": 29,
     "metadata": {},
     "output_type": "execute_result"
    }
   ],
   "source": [
    "score = esp.score.KMEANS(\n",
    "    schema=('id*:int64', 'x_c:double', 'y_c:double', 'min_dist:double', 'seg:int32', 'model_id:int64'),\n",
    "    input_map=dict(inputs=('x_c', 'y_c')),\n",
    "    output_map=dict(minDistanceOut='min_dist', labelOut='seg', modelIdOut='model_id')\n",
    ")\n",
    "proj.windows['w_score_kmeans'] = score\n",
    "proj"
   ]
  },
  {
   "cell_type": "markdown",
   "metadata": {},
   "source": [
    "### Make Connection Between Windows"
   ]
  },
  {
   "cell_type": "code",
   "execution_count": 30,
   "metadata": {
    "collapsed": false,
    "scrolled": true
   },
   "outputs": [
    {
     "data": {
      "image/svg+xml": [
       "<?xml version=\"1.0\" encoding=\"UTF-8\" standalone=\"no\"?>\n",
       "<!DOCTYPE svg PUBLIC \"-//W3C//DTD SVG 1.1//EN\"\n",
       " \"http://www.w3.org/Graphics/SVG/1.1/DTD/svg11.dtd\">\n",
       "<!-- Generated by graphviz version 2.38.0 (20140413.2041)\n",
       " -->\n",
       "<!-- Title: %3 Pages: 1 -->\n",
       "<svg width=\"529.0pt\" height=\"154.0pt\"\n",
       " viewBox=\"0.00 0.00 529.00 154.00\" xmlns=\"http://www.w3.org/2000/svg\" xmlns:xlink=\"http://www.w3.org/1999/xlink\">\n",
       "<g id=\"graph0\" class=\"graph\" transform=\"scale(1 1) rotate(0) translate(4 150)\">\n",
       "<title>%3</title>\n",
       "<polygon fill=\"white\" stroke=\"none\" points=\"-4,4 -4,-150 525,-150 525,4 -4,4\"/>\n",
       "<g id=\"clust1\" class=\"cluster\"><title>cluster_kmeans</title>\n",
       "<path fill=\"#dadada\" stroke=\"#c0c0c0\" stroke-width=\"2\" d=\"M20,-8C20,-8 501,-8 501,-8 507,-8 513,-14 513,-20 513,-20 513,-126 513,-126 513,-132 507,-138 501,-138 501,-138 20,-138 20,-138 14,-138 8,-132 8,-126 8,-126 8,-20 8,-20 8,-14 14,-8 20,-8\"/>\n",
       "<text text-anchor=\"middle\" x=\"40.5\" y=\"-122.8\" font-family=\"Helvetica,sans-Serif\" font-size=\"14.00\">kmeans</text>\n",
       "</g>\n",
       "<!-- kmeans.contquery.w_data -->\n",
       "<g id=\"node1\" class=\"node\"><title>kmeans.contquery.w_data</title>\n",
       "<polygon fill=\"#c8f0ff\" stroke=\"#58a0d3\" stroke-width=\"2\" points=\"96,-66.5 16,-66.5 16,-27.5 96,-27.5 96,-66.5\"/>\n",
       "<text text-anchor=\"middle\" x=\"56\" y=\"-43.3\" font-family=\"Helvetica,sans-Serif\" font-size=\"14.00\">w_data</text>\n",
       "</g>\n",
       "<!-- kmeans.contquery.w_score_kmeans -->\n",
       "<g id=\"node2\" class=\"node\"><title>kmeans.contquery.w_score_kmeans</title>\n",
       "<polygon fill=\"#c8f0ff\" stroke=\"#58a0d3\" stroke-width=\"2\" points=\"505,-73.5 363,-73.5 363,-34.5 505,-34.5 505,-73.5\"/>\n",
       "<text text-anchor=\"middle\" x=\"434\" y=\"-50.3\" font-family=\"Helvetica,sans-Serif\" font-size=\"14.00\">w_score_kmeans</text>\n",
       "</g>\n",
       "<!-- kmeans.contquery.w_data&#45;&gt;kmeans.contquery.w_score_kmeans -->\n",
       "<g id=\"edge1\" class=\"edge\"><title>kmeans.contquery.w_data&#45;&gt;kmeans.contquery.w_score_kmeans</title>\n",
       "<path fill=\"none\" stroke=\"black\" d=\"M96.4149,-45.5449C114.82,-44.9353 137.028,-44.2995 157,-44 217.438,-43.0936 232.594,-41.8454 293,-44 312.389,-44.6916 333.26,-45.9203 352.816,-47.2852\"/>\n",
       "<polygon fill=\"black\" stroke=\"black\" points=\"352.683,-50.7845 362.907,-48.0092 353.184,-43.8025 352.683,-50.7845\"/>\n",
       "<text text-anchor=\"middle\" x=\"225\" y=\"-47.8\" font-family=\"Times,serif\" font-style=\"italic\" font-size=\"14.00\">data</text>\n",
       "</g>\n",
       "<!-- kmeans.contquery.w_train_kmeans -->\n",
       "<g id=\"node3\" class=\"node\"><title>kmeans.contquery.w_train_kmeans</title>\n",
       "<polygon fill=\"#c8f0ff\" stroke=\"#58a0d3\" stroke-width=\"2\" points=\"293,-106.5 157,-106.5 157,-67.5 293,-67.5 293,-106.5\"/>\n",
       "<text text-anchor=\"middle\" x=\"225\" y=\"-83.3\" font-family=\"Helvetica,sans-Serif\" font-size=\"14.00\">w_train_kmeans</text>\n",
       "</g>\n",
       "<!-- kmeans.contquery.w_data&#45;&gt;kmeans.contquery.w_train_kmeans -->\n",
       "<g id=\"edge2\" class=\"edge\"><title>kmeans.contquery.w_data&#45;&gt;kmeans.contquery.w_train_kmeans</title>\n",
       "<path fill=\"none\" stroke=\"black\" d=\"M96.1541,-56.3782C111.447,-60.0411 129.535,-64.3736 147.218,-68.6092\"/>\n",
       "<polygon fill=\"black\" stroke=\"black\" points=\"146.44,-72.0218 156.981,-70.9475 148.071,-65.2143 146.44,-72.0218\"/>\n",
       "<text text-anchor=\"middle\" x=\"126.5\" y=\"-68.8\" font-family=\"Times,serif\" font-style=\"italic\" font-size=\"14.00\">data</text>\n",
       "</g>\n",
       "<!-- kmeans.contquery.w_train_kmeans&#45;&gt;kmeans.contquery.w_score_kmeans -->\n",
       "<g id=\"edge3\" class=\"edge\"><title>kmeans.contquery.w_train_kmeans&#45;&gt;kmeans.contquery.w_score_kmeans</title>\n",
       "<path fill=\"none\" stroke=\"black\" d=\"M293.207,-76.2858C312.294,-73.243 333.267,-69.8995 353.031,-66.7488\"/>\n",
       "<polygon fill=\"black\" stroke=\"black\" points=\"353.605,-70.2014 362.929,-65.1707 352.503,-63.2887 353.605,-70.2014\"/>\n",
       "<text text-anchor=\"middle\" x=\"328\" y=\"-75.8\" font-family=\"Times,serif\" font-style=\"italic\" font-size=\"14.00\">model</text>\n",
       "</g>\n",
       "</g>\n",
       "</svg>\n"
      ],
      "text/plain": [
       "Project(name='kmeans')"
      ]
     },
     "execution_count": 30,
     "metadata": {},
     "output_type": "execute_result"
    }
   ],
   "source": [
    "src.add_target(score, role='data')\n",
    "src.add_target(train, role='data')\n",
    "train.add_target(score, role='model')\n",
    "proj"
   ]
  },
  {
   "cell_type": "markdown",
   "metadata": {},
   "source": [
    "### Preview the Project's XML Definition"
   ]
  },
  {
   "cell_type": "code",
   "execution_count": 31,
   "metadata": {
    "collapsed": false
   },
   "outputs": [
    {
     "name": "stdout",
     "output_type": "stream",
     "text": [
      "<engine>\n",
      "  <projects>\n",
      "    <project name=\"kmeans\" pubsub=\"auto\" threads=\"1\">\n",
      "      <contqueries>\n",
      "        <contquery name=\"contquery\">\n",
      "          <windows>\n",
      "            <window-source index=\"pi_EMPTY\" insert-only=\"true\" name=\"w_data\">\n",
      "              <schema>\n",
      "                <fields>\n",
      "                  <field key=\"true\" name=\"id\" type=\"int64\" />\n",
      "                  <field key=\"false\" name=\"x_c\" type=\"double\" />\n",
      "                  <field key=\"false\" name=\"y_c\" type=\"double\" />\n",
      "                </fields>\n",
      "              </schema>\n",
      "            </window-source>\n",
      "            <window-score name=\"w_score_kmeans\">\n",
      "              <schema>\n",
      "                <fields>\n",
      "                  <field key=\"true\" name=\"id\" type=\"int64\" />\n",
      "                  <field key=\"false\" name=\"x_c\" type=\"double\" />\n",
      "                  <field key=\"false\" name=\"y_c\" type=\"double\" />\n",
      "                  <field key=\"false\" name=\"min_dist\" type=\"double\" />\n",
      "                  <field key=\"false\" name=\"seg\" type=\"int32\" />\n",
      "                  <field key=\"false\" name=\"model_id\" type=\"int64\" />\n",
      "                </fields>\n",
      "              </schema>\n",
      "              <models>\n",
      "                <online algorithm=\"KMEANS\">\n",
      "                  <input-map>\n",
      "                    <properties>\n",
      "                      <property name=\"inputs\">x_c,y_c</property>\n",
      "                    </properties>\n",
      "                  </input-map>\n",
      "                  <output-map>\n",
      "                    <properties>\n",
      "                      <property name=\"labelOut\">seg</property>\n",
      "                      <property name=\"minDistanceOut\">min_dist</property>\n",
      "                      <property name=\"modelIdOut\">model_id</property>\n",
      "                    </properties>\n",
      "                  </output-map>\n",
      "                </online>\n",
      "              </models>\n",
      "            </window-score>\n",
      "            <window-train algorithm=\"KMEANS\" name=\"w_train_kmeans\">\n",
      "              <parameters>\n",
      "                <properties>\n",
      "                  <property name=\"commitInterval\">25</property>\n",
      "                  <property name=\"dampingFactor\">0.8</property>\n",
      "                  <property name=\"disturbFactor\">0.01</property>\n",
      "                  <property name=\"fadeOutFactor\">0.05</property>\n",
      "                  <property name=\"initSeed\">1</property>\n",
      "                  <property name=\"nClusters\">2</property>\n",
      "                  <property name=\"nInit\">50</property>\n",
      "                  <property name=\"velocity\">5</property>\n",
      "                </properties>\n",
      "              </parameters>\n",
      "              <input-map>\n",
      "                <properties>\n",
      "                  <property name=\"inputs\">x_c,y_c</property>\n",
      "                </properties>\n",
      "              </input-map>\n",
      "            </window-train>\n",
      "          </windows>\n",
      "          <edges>\n",
      "            <edge role=\"data\" source=\"w_data\" target=\"w_score_kmeans\" />\n",
      "            <edge role=\"data\" source=\"w_data\" target=\"w_train_kmeans\" />\n",
      "            <edge role=\"model\" source=\"w_train_kmeans\" target=\"w_score_kmeans\" />\n",
      "          </edges>\n",
      "        </contquery>\n",
      "      </contqueries>\n",
      "    </project>\n",
      "  </projects>\n",
      "</engine>\n",
      "\n"
     ]
    }
   ],
   "source": [
    "print(proj.to_xml(pretty=True))"
   ]
  },
  {
   "cell_type": "markdown",
   "metadata": {},
   "source": [
    "### Display a Graph of the Project"
   ]
  },
  {
   "cell_type": "code",
   "execution_count": 32,
   "metadata": {
    "collapsed": false
   },
   "outputs": [
    {
     "data": {
      "image/svg+xml": [
       "<?xml version=\"1.0\" encoding=\"UTF-8\" standalone=\"no\"?>\n",
       "<!DOCTYPE svg PUBLIC \"-//W3C//DTD SVG 1.1//EN\"\n",
       " \"http://www.w3.org/Graphics/SVG/1.1/DTD/svg11.dtd\">\n",
       "<!-- Generated by graphviz version 2.38.0 (20140413.2041)\n",
       " -->\n",
       "<!-- Title: %3 Pages: 1 -->\n",
       "<svg width=\"558pt\" height=\"207pt\"\n",
       " viewBox=\"0.00 0.00 558.00 207.00\" xmlns=\"http://www.w3.org/2000/svg\" xmlns:xlink=\"http://www.w3.org/1999/xlink\">\n",
       "<g id=\"graph0\" class=\"graph\" transform=\"scale(1 1) rotate(0) translate(4 203)\">\n",
       "<title>%3</title>\n",
       "<polygon fill=\"white\" stroke=\"none\" points=\"-4,4 -4,-203 554,-203 554,4 -4,4\"/>\n",
       "<g id=\"clust1\" class=\"cluster\"><title>cluster_kmeans</title>\n",
       "<path fill=\"#dadada\" stroke=\"#c0c0c0\" stroke-width=\"2\" d=\"M20,-8C20,-8 530,-8 530,-8 536,-8 542,-14 542,-20 542,-20 542,-179 542,-179 542,-185 536,-191 530,-191 530,-191 20,-191 20,-191 14,-191 8,-185 8,-179 8,-179 8,-20 8,-20 8,-14 14,-8 20,-8\"/>\n",
       "<text text-anchor=\"middle\" x=\"40.5\" y=\"-175.8\" font-family=\"Helvetica,sans-Serif\" font-size=\"14.00\">kmeans</text>\n",
       "</g>\n",
       "<!-- kmeans.contquery.w_data -->\n",
       "<g id=\"node1\" class=\"node\"><title>kmeans.contquery.w_data</title>\n",
       "<polygon fill=\"#c8f0ff\" stroke=\"#58a0d3\" stroke-width=\"2\" points=\"125,-132.5 16,-132.5 16,-33.5 125,-33.5 125,-132.5\"/>\n",
       "<text text-anchor=\"start\" x=\"49\" y=\"-108.8\" font-family=\"Helvetica,sans-Serif\" font-size=\"14.00\">w_data</text>\n",
       "<text text-anchor=\"start\" x=\"69\" y=\"-93.8\" font-family=\"Helvetica,sans-Serif\" font-size=\"14.00\"> </text>\n",
       "<text text-anchor=\"start\" x=\"36\" y=\"-79.8\" font-family=\"Helvetica,sans-Serif\" font-size=\"14.00\">🔑</text>\n",
       "<text text-anchor=\"start\" x=\"54\" y=\"-79.8\" font-family=\"Helvetica,sans-Serif\" font-size=\"14.00\" fill=\"#c49810\">id : int64</text>\n",
       "<text text-anchor=\"start\" x=\"34.5\" y=\"-63.8\" font-family=\"Helvetica,sans-Serif\" font-size=\"14.00\" fill=\"#808080\">x_c : double</text>\n",
       "<text text-anchor=\"start\" x=\"34.5\" y=\"-48.8\" font-family=\"Helvetica,sans-Serif\" font-size=\"14.00\" fill=\"#808080\">y_c : double</text>\n",
       "</g>\n",
       "<!-- kmeans.contquery.w_score_kmeans -->\n",
       "<g id=\"node2\" class=\"node\"><title>kmeans.contquery.w_score_kmeans</title>\n",
       "<polygon fill=\"#c8f0ff\" stroke=\"#58a0d3\" stroke-width=\"2\" points=\"534,-160 392,-160 392,-16 534,-16 534,-160\"/>\n",
       "<text text-anchor=\"start\" x=\"410\" y=\"-136.8\" font-family=\"Helvetica,sans-Serif\" font-size=\"14.00\">w_score_kmeans</text>\n",
       "<text text-anchor=\"start\" x=\"461\" y=\"-121.8\" font-family=\"Helvetica,sans-Serif\" font-size=\"14.00\"> </text>\n",
       "<text text-anchor=\"start\" x=\"428\" y=\"-107.8\" font-family=\"Helvetica,sans-Serif\" font-size=\"14.00\">🔑</text>\n",
       "<text text-anchor=\"start\" x=\"446\" y=\"-107.8\" font-family=\"Helvetica,sans-Serif\" font-size=\"14.00\" fill=\"#c49810\">id : int64</text>\n",
       "<text text-anchor=\"start\" x=\"426.5\" y=\"-91.8\" font-family=\"Helvetica,sans-Serif\" font-size=\"14.00\" fill=\"#808080\">x_c : double</text>\n",
       "<text text-anchor=\"start\" x=\"426.5\" y=\"-76.8\" font-family=\"Helvetica,sans-Serif\" font-size=\"14.00\" fill=\"#808080\">y_c : double</text>\n",
       "<text text-anchor=\"start\" x=\"411.5\" y=\"-61.8\" font-family=\"Helvetica,sans-Serif\" font-size=\"14.00\" fill=\"#808080\">min_dist : double</text>\n",
       "<text text-anchor=\"start\" x=\"431.5\" y=\"-46.8\" font-family=\"Helvetica,sans-Serif\" font-size=\"14.00\" fill=\"#808080\">seg : int32</text>\n",
       "<text text-anchor=\"start\" x=\"414.5\" y=\"-31.8\" font-family=\"Helvetica,sans-Serif\" font-size=\"14.00\" fill=\"#808080\">model_id : int64</text>\n",
       "</g>\n",
       "<!-- kmeans.contquery.w_data&#45;&gt;kmeans.contquery.w_score_kmeans -->\n",
       "<g id=\"edge1\" class=\"edge\"><title>kmeans.contquery.w_data&#45;&gt;kmeans.contquery.w_score_kmeans</title>\n",
       "<path fill=\"none\" stroke=\"black\" d=\"M125.027,-77.3535C144.233,-75.5848 166.065,-73.8689 186,-73 246.387,-70.368 261.642,-69.7757 322,-73 341.435,-74.0382 362.324,-75.8816 381.882,-77.9289\"/>\n",
       "<polygon fill=\"black\" stroke=\"black\" points=\"381.656,-81.4247 391.973,-79.0149 382.405,-74.4649 381.656,-81.4247\"/>\n",
       "<text text-anchor=\"middle\" x=\"254\" y=\"-76.8\" font-family=\"Times,serif\" font-style=\"italic\" font-size=\"14.00\">data</text>\n",
       "</g>\n",
       "<!-- kmeans.contquery.w_train_kmeans -->\n",
       "<g id=\"node3\" class=\"node\"><title>kmeans.contquery.w_train_kmeans</title>\n",
       "<polygon fill=\"#c8f0ff\" stroke=\"#58a0d3\" stroke-width=\"2\" points=\"322,-151 186,-151 186,-97 322,-97 322,-151\"/>\n",
       "<text text-anchor=\"start\" x=\"204\" y=\"-127.8\" font-family=\"Helvetica,sans-Serif\" font-size=\"14.00\">w_train_kmeans</text>\n",
       "<text text-anchor=\"start\" x=\"252\" y=\"-112.8\" font-family=\"Helvetica,sans-Serif\" font-size=\"14.00\"> </text>\n",
       "</g>\n",
       "<!-- kmeans.contquery.w_data&#45;&gt;kmeans.contquery.w_train_kmeans -->\n",
       "<g id=\"edge2\" class=\"edge\"><title>kmeans.contquery.w_data&#45;&gt;kmeans.contquery.w_train_kmeans</title>\n",
       "<path fill=\"none\" stroke=\"black\" d=\"M125.465,-95.1903C141.275,-98.7619 158.879,-102.738 175.835,-106.569\"/>\n",
       "<polygon fill=\"black\" stroke=\"black\" points=\"175.2,-110.013 185.725,-108.803 176.742,-103.185 175.2,-110.013\"/>\n",
       "<text text-anchor=\"middle\" x=\"155.5\" y=\"-107.8\" font-family=\"Times,serif\" font-style=\"italic\" font-size=\"14.00\">data</text>\n",
       "</g>\n",
       "<!-- kmeans.contquery.w_train_kmeans&#45;&gt;kmeans.contquery.w_score_kmeans -->\n",
       "<g id=\"edge3\" class=\"edge\"><title>kmeans.contquery.w_train_kmeans&#45;&gt;kmeans.contquery.w_score_kmeans</title>\n",
       "<path fill=\"none\" stroke=\"black\" d=\"M322.207,-112.312C341.294,-108.992 362.267,-105.345 382.031,-101.908\"/>\n",
       "<polygon fill=\"black\" stroke=\"black\" points=\"382.677,-105.348 391.929,-100.186 381.478,-98.4514 382.677,-105.348\"/>\n",
       "<text text-anchor=\"middle\" x=\"357\" y=\"-111.8\" font-family=\"Times,serif\" font-style=\"italic\" font-size=\"14.00\">model</text>\n",
       "</g>\n",
       "</g>\n",
       "</svg>\n"
      ],
      "text/plain": [
       "<graphviz.dot.Digraph at 0x7f6d58d9e358>"
      ]
     },
     "execution_count": 32,
     "metadata": {},
     "output_type": "execute_result"
    }
   ],
   "source": [
    "proj.to_graph(schema=True)"
   ]
  },
  {
   "cell_type": "markdown",
   "metadata": {},
   "source": [
    "## Load the Project into the Server"
   ]
  },
  {
   "cell_type": "code",
   "execution_count": 33,
   "metadata": {
    "collapsed": false
   },
   "outputs": [],
   "source": [
    "esp.load_project(proj);"
   ]
  },
  {
   "cell_type": "code",
   "execution_count": 34,
   "metadata": {
    "collapsed": false
   },
   "outputs": [
    {
     "data": {
      "text/plain": [
       "{'kmeans': Project(name='kmeans'), 'project': Project(name='project')}"
      ]
     },
     "execution_count": 34,
     "metadata": {},
     "output_type": "execute_result"
    }
   ],
   "source": [
    "esp.get_projects()"
   ]
  },
  {
   "cell_type": "markdown",
   "metadata": {},
   "source": [
    "### Publish Events to Source Window"
   ]
  },
  {
   "cell_type": "code",
   "execution_count": 35,
   "metadata": {
    "collapsed": false
   },
   "outputs": [
    {
     "name": "stdout",
     "output_type": "stream",
     "text": [
      "i,n,0,0.5908967210216602,1.6751986326790076\n",
      "i,n,1,19.043415721883388,18.371355627504236\n",
      "i,n,2,-0.012273367464207865,-0.4540492269435668\n",
      "i,n,3,17.97874517980503,21.65120582597203\n",
      "i,n,4,1.1659924204397523,-1.2409508065225885\n",
      "i,n,5,0.8546216190275081,-0.25882119862607184\n",
      "i,n,6,20.190217162336587,22.50997309914134\n",
      "i,n,7,-0.25895458090747875,1.4976085871983391\n",
      "i,n,8,22.29022654822051,16.914962015510373\n",
      "i,n,9,20.77677573497869,19.816778938696523\n"
     ]
    }
   ],
   "source": [
    "%%sh\n",
    "head basics.csv"
   ]
  },
  {
   "cell_type": "markdown",
   "metadata": {},
   "source": [
    "Use pandas to transform data before publishing it.  Notice that the DataFrame can contain additional columns, and columns out-of-order.  Only the columns in the DataFrame that match the columns in the window schema are uploaded."
   ]
  },
  {
   "cell_type": "code",
   "execution_count": 36,
   "metadata": {
    "collapsed": false
   },
   "outputs": [
    {
     "data": {
      "text/html": [
       "<div>\n",
       "<style scoped>\n",
       "    .dataframe tbody tr th:only-of-type {\n",
       "        vertical-align: middle;\n",
       "    }\n",
       "\n",
       "    .dataframe tbody tr th {\n",
       "        vertical-align: top;\n",
       "    }\n",
       "\n",
       "    .dataframe thead th {\n",
       "        text-align: right;\n",
       "    }\n",
       "</style>\n",
       "<table border=\"1\" class=\"dataframe\">\n",
       "  <thead>\n",
       "    <tr style=\"text-align: right;\">\n",
       "      <th></th>\n",
       "      <th>y_c</th>\n",
       "      <th>extra</th>\n",
       "      <th>x_c</th>\n",
       "      <th>opcode</th>\n",
       "      <th>opmode</th>\n",
       "    </tr>\n",
       "    <tr>\n",
       "      <th>id</th>\n",
       "      <th></th>\n",
       "      <th></th>\n",
       "      <th></th>\n",
       "      <th></th>\n",
       "      <th></th>\n",
       "    </tr>\n",
       "  </thead>\n",
       "  <tbody>\n",
       "    <tr>\n",
       "      <th>0</th>\n",
       "      <td>1.675199</td>\n",
       "      <td>3.155449</td>\n",
       "      <td>0.590897</td>\n",
       "      <td>i</td>\n",
       "      <td>n</td>\n",
       "    </tr>\n",
       "    <tr>\n",
       "      <th>1</th>\n",
       "      <td>18.371356</td>\n",
       "      <td>700.158390</td>\n",
       "      <td>19.043416</td>\n",
       "      <td>i</td>\n",
       "      <td>n</td>\n",
       "    </tr>\n",
       "    <tr>\n",
       "      <th>2</th>\n",
       "      <td>-0.454049</td>\n",
       "      <td>0.206311</td>\n",
       "      <td>-0.012273</td>\n",
       "      <td>i</td>\n",
       "      <td>n</td>\n",
       "    </tr>\n",
       "    <tr>\n",
       "      <th>3</th>\n",
       "      <td>21.651206</td>\n",
       "      <td>792.009992</td>\n",
       "      <td>17.978745</td>\n",
       "      <td>i</td>\n",
       "      <td>n</td>\n",
       "    </tr>\n",
       "    <tr>\n",
       "      <th>4</th>\n",
       "      <td>-1.240951</td>\n",
       "      <td>2.899497</td>\n",
       "      <td>1.165992</td>\n",
       "      <td>i</td>\n",
       "      <td>n</td>\n",
       "    </tr>\n",
       "  </tbody>\n",
       "</table>\n",
       "</div>"
      ],
      "text/plain": [
       "          y_c       extra        x_c opcode opmode\n",
       "id                                                \n",
       "0    1.675199    3.155449   0.590897      i      n\n",
       "1   18.371356  700.158390  19.043416      i      n\n",
       "2   -0.454049    0.206311  -0.012273      i      n\n",
       "3   21.651206  792.009992  17.978745      i      n\n",
       "4   -1.240951    2.899497   1.165992      i      n"
      ]
     },
     "execution_count": 36,
     "metadata": {},
     "output_type": "execute_result"
    }
   ],
   "source": [
    "import pandas as pd\n",
    "\n",
    "df = pd.read_csv('basics.csv', header=None, names=['opcode', 'opmode', 'id', 'x_c', 'y_c'])\n",
    "\n",
    "df['extra'] = df['x_c']**2 + df['y_c']**2\n",
    "df = df[['id', 'y_c', 'extra', 'x_c', 'opcode', 'opmode']]\n",
    "df = df.set_index('id')\n",
    "\n",
    "df.head()"
   ]
  },
  {
   "cell_type": "code",
   "execution_count": 37,
   "metadata": {
    "collapsed": false
   },
   "outputs": [],
   "source": [
    "src.publish_events(df, pause=200)"
   ]
  },
  {
   "cell_type": "code",
   "execution_count": 38,
   "metadata": {
    "collapsed": false
   },
   "outputs": [],
   "source": [
    "src.subscribe()\n",
    "score.subscribe()"
   ]
  },
  {
   "cell_type": "code",
   "execution_count": 39,
   "metadata": {
    "collapsed": false
   },
   "outputs": [
    {
     "data": {
      "text/html": [
       "<div>\n",
       "<style scoped>\n",
       "    .dataframe tbody tr th:only-of-type {\n",
       "        vertical-align: middle;\n",
       "    }\n",
       "\n",
       "    .dataframe tbody tr th {\n",
       "        vertical-align: top;\n",
       "    }\n",
       "\n",
       "    .dataframe thead th {\n",
       "        text-align: right;\n",
       "    }\n",
       "</style>\n",
       "<table border=\"1\" class=\"dataframe\">\n",
       "  <thead>\n",
       "    <tr style=\"text-align: right;\">\n",
       "      <th></th>\n",
       "      <th>x_c</th>\n",
       "      <th>y_c</th>\n",
       "    </tr>\n",
       "    <tr>\n",
       "      <th>id</th>\n",
       "      <th></th>\n",
       "      <th></th>\n",
       "    </tr>\n",
       "  </thead>\n",
       "  <tbody>\n",
       "    <tr>\n",
       "      <th>7</th>\n",
       "      <td>-0.258955</td>\n",
       "      <td>1.497609</td>\n",
       "    </tr>\n",
       "    <tr>\n",
       "      <th>8</th>\n",
       "      <td>22.290227</td>\n",
       "      <td>16.914962</td>\n",
       "    </tr>\n",
       "    <tr>\n",
       "      <th>9</th>\n",
       "      <td>20.776776</td>\n",
       "      <td>19.816779</td>\n",
       "    </tr>\n",
       "    <tr>\n",
       "      <th>10</th>\n",
       "      <td>20.325394</td>\n",
       "      <td>19.877868</td>\n",
       "    </tr>\n",
       "    <tr>\n",
       "      <th>11</th>\n",
       "      <td>17.925022</td>\n",
       "      <td>20.062600</td>\n",
       "    </tr>\n",
       "    <tr>\n",
       "      <th>12</th>\n",
       "      <td>-1.183328</td>\n",
       "      <td>0.720395</td>\n",
       "    </tr>\n",
       "    <tr>\n",
       "      <th>13</th>\n",
       "      <td>3.126014</td>\n",
       "      <td>8.954400</td>\n",
       "    </tr>\n",
       "  </tbody>\n",
       "</table>\n",
       "</div>"
      ],
      "text/plain": [
       "          x_c        y_c\n",
       "id                      \n",
       "7   -0.258955   1.497609\n",
       "8   22.290227  16.914962\n",
       "9   20.776776  19.816779\n",
       "10  20.325394  19.877868\n",
       "11  17.925022  20.062600\n",
       "12  -1.183328   0.720395\n",
       "13   3.126014   8.954400"
      ]
     },
     "execution_count": 39,
     "metadata": {},
     "output_type": "execute_result"
    }
   ],
   "source": [
    "src.tail(10)"
   ]
  },
  {
   "cell_type": "code",
   "execution_count": 42,
   "metadata": {
    "collapsed": false
   },
   "outputs": [
    {
     "data": {
      "text/html": [
       "<div>\n",
       "<style scoped>\n",
       "    .dataframe tbody tr th:only-of-type {\n",
       "        vertical-align: middle;\n",
       "    }\n",
       "\n",
       "    .dataframe tbody tr th {\n",
       "        vertical-align: top;\n",
       "    }\n",
       "\n",
       "    .dataframe thead th {\n",
       "        text-align: right;\n",
       "    }\n",
       "</style>\n",
       "<table border=\"1\" class=\"dataframe\">\n",
       "  <thead>\n",
       "    <tr style=\"text-align: right;\">\n",
       "      <th></th>\n",
       "      <th>x_c</th>\n",
       "      <th>y_c</th>\n",
       "      <th>min_dist</th>\n",
       "      <th>seg</th>\n",
       "      <th>model_id</th>\n",
       "    </tr>\n",
       "    <tr>\n",
       "      <th>id</th>\n",
       "      <th></th>\n",
       "      <th></th>\n",
       "      <th></th>\n",
       "      <th></th>\n",
       "      <th></th>\n",
       "    </tr>\n",
       "  </thead>\n",
       "  <tbody>\n",
       "    <tr>\n",
       "      <th>50</th>\n",
       "      <td>20.390504</td>\n",
       "      <td>20.534352</td>\n",
       "      <td>11.498755</td>\n",
       "      <td>1</td>\n",
       "      <td>0</td>\n",
       "    </tr>\n",
       "    <tr>\n",
       "      <th>51</th>\n",
       "      <td>-1.218502</td>\n",
       "      <td>-2.952991</td>\n",
       "      <td>11.705346</td>\n",
       "      <td>0</td>\n",
       "      <td>0</td>\n",
       "    </tr>\n",
       "    <tr>\n",
       "      <th>52</th>\n",
       "      <td>1.254811</td>\n",
       "      <td>0.259024</td>\n",
       "      <td>7.651725</td>\n",
       "      <td>0</td>\n",
       "      <td>0</td>\n",
       "    </tr>\n",
       "    <tr>\n",
       "      <th>53</th>\n",
       "      <td>1.799438</td>\n",
       "      <td>-2.049997</td>\n",
       "      <td>9.309078</td>\n",
       "      <td>0</td>\n",
       "      <td>0</td>\n",
       "    </tr>\n",
       "    <tr>\n",
       "      <th>54</th>\n",
       "      <td>20.029238</td>\n",
       "      <td>22.914597</td>\n",
       "      <td>13.106119</td>\n",
       "      <td>1</td>\n",
       "      <td>0</td>\n",
       "    </tr>\n",
       "  </tbody>\n",
       "</table>\n",
       "</div>"
      ],
      "text/plain": [
       "          x_c        y_c   min_dist  seg  model_id\n",
       "id                                                \n",
       "50  20.390504  20.534352  11.498755    1         0\n",
       "51  -1.218502  -2.952991  11.705346    0         0\n",
       "52   1.254811   0.259024   7.651725    0         0\n",
       "53   1.799438  -2.049997   9.309078    0         0\n",
       "54  20.029238  22.914597  13.106119    1         0"
      ]
     },
     "execution_count": 42,
     "metadata": {},
     "output_type": "execute_result"
    }
   ],
   "source": [
    "score.tail(10)"
   ]
  },
  {
   "cell_type": "markdown",
   "metadata": {},
   "source": [
    "## Plot the Streaming Data"
   ]
  },
  {
   "cell_type": "markdown",
   "metadata": {},
   "source": [
    "This function is used to generate the legend and colors for each of the `x_c` / `y_c` data points."
   ]
  },
  {
   "cell_type": "code",
   "execution_count": 43,
   "metadata": {
    "collapsed": true
   },
   "outputs": [],
   "source": [
    "class_map = dict(\n",
    "    seg=dict(\n",
    "        class_label={0: 'Class 1', 1: 'Class 2'},\n",
    "        class_color={0: '#68b0e3b2', 1: '#d37a2db2'},\n",
    "    )   \n",
    ")\n",
    "\n",
    "# Alternatively\n",
    "def class_map_func(event):\n",
    "    seg = event['seg']\n",
    "    return dict(\n",
    "        class_label=seg.map({0: 'Class 1', 1: 'Class 2'}),\n",
    "        class_color=seg.map({0: '#68b0e3b2', 1: '#d37a2db2'}),\n",
    "    )"
   ]
  },
  {
   "cell_type": "markdown",
   "metadata": {},
   "source": [
    "Start the streaming scatter plot."
   ]
  },
  {
   "cell_type": "code",
   "execution_count": 44,
   "metadata": {
    "collapsed": false
   },
   "outputs": [],
   "source": [
    "left_total = 0\n",
    "right_total = 0\n",
    "def map_left_right(event):\n",
    "    global left_total, right_total\n",
    "    out = dict(type=[], total=[])\n",
    "    for rec in event.to_records(index=False):\n",
    "        if r[0]:\n",
    "            left_total += 1\n",
    "            out['type'].append('left')\n",
    "            out['total'].append(left_total)\n",
    "        if r[1]:\n",
    "            right_total += 1\n",
    "            out['type'].append('right')\n",
    "            out['total'].append(right_total)\n",
    "    return"
   ]
  },
  {
   "cell_type": "code",
   "execution_count": 45,
   "metadata": {
    "collapsed": false
   },
   "outputs": [
    {
     "data": {
      "text/html": [
       "\n",
       "            <canvas id='chart_647f4e9b_6da3_4249_91df_12b5ee12f113_canvas'\n",
       "                    style='width: 900px; height: 400px'></canvas>\n",
       "\n",
       "            <style type=\"text/css\">\n",
       "            .stream-plot-controls {\n",
       "                border: 1px solid #e0e0e0;\n",
       "                border-radius: 5px;\n",
       "                padding: 8px;\n",
       "                display: inline-block;\n",
       "            }\n",
       "            .stream-plot-control {\n",
       "                color: #909090;\n",
       "                font-size: 150%;\n",
       "                margin-right: 1em;\n",
       "                margin-left: 1em;\n",
       "            }\n",
       "            .fa-play.stream-plot-control:not([class*='enabled']):not([class*='disabled']):hover {\n",
       "                text-shadow: 0px 0px 15px #00c000;\n",
       "                color: #00c000;\n",
       "            }\n",
       "            .fa-pause.stream-plot-control:not([class*='enabled']):not([class*='disabled']):hover {\n",
       "                text-shadow: 0px 0px 15px #fdeb61;\n",
       "                color: #d37a2d;\n",
       "            }\n",
       "            .fa-stop.stream-plot-control:not([class*='enabled']):not([class*='disabled']):hover {\n",
       "                text-shadow: 0px 0px 15px #ff0000;\n",
       "                color: #ff0000;\n",
       "            }\n",
       "            .fa-play.stream-plot-control.enabled { color: #00c000; }\n",
       "            .fa-pause.stream-plot-control.enabled { color: #d37a2d; }\n",
       "            .fa-stop.stream-plot-control.enabled { color: #ff0000; }\n",
       "            .stream-plot-control.disabled { color: #d0d0d0; }\n",
       "            </style>\n",
       "\n",
       "            <div id=\"streaming-plot-chart_647f4e9b_6da3_4249_91df_12b5ee12f113\"\n",
       "                 style=\"text-align: center; padding-top:10px; width: 900px\">\n",
       "            <div class=\"stream-plot-controls\" id=\"stream-plot-chart_647f4e9b_6da3_4249_91df_12b5ee12f113\">\n",
       "              <i class=\"fa fa-play enabled stream-plot-control\"\n",
       "                 title=\"Stream data into figure\" aria-hidden=\"true\"\n",
       "                 style=\"cursor:pointer\" id=\"chart_647f4e9b_6da3_4249_91df_12b5ee12f113-play\"></i>\n",
       "              <i class=\"fa fa-pause stream-plot-control\"\n",
       "                 title=\"Pause data updates\" aria-hidden=\"true\"\n",
       "                 style=\"cursor:pointer\" id=\"chart_647f4e9b_6da3_4249_91df_12b5ee12f113-pause\"></i>\n",
       "              <i class=\"fa fa-stop stream-plot-control\"\n",
       "                 title=\"Shutdown data stream\" aria-hidden=\"true\"\n",
       "                 style=\"cursor:pointer\" id=\"chart_647f4e9b_6da3_4249_91df_12b5ee12f113-stop\"></i>\n",
       "            </div>\n",
       "            </div>\n",
       "\n",
       "            <script language='javascript'>\n",
       "            <!--\n",
       "            requirejs.config({\n",
       "                paths: {\n",
       "                    Chart: ['//cdnjs.cloudflare.com/ajax/libs/Chart.js/2.7.0/Chart.min']\n",
       "                }\n",
       "            });\n",
       "\n",
       "            require(['jquery', 'Chart'], function($, Chart) {\n",
       "\n",
       "                var afterBuildTicks = function ( scale ) {\n",
       "                    return;\n",
       "                    scale.ticks.shift();\n",
       "                    scale.ticks.pop();\n",
       "                };\n",
       "\n",
       "                var generateLabels = function( chart ) {\n",
       "                    var data = chart.data;\n",
       "                    var labels = [];\n",
       "                    var ds_labels = [];\n",
       "                    var prev_key = '';\n",
       "\n",
       "                    if ( !Array.isArray(data.datasets) ) {\n",
       "                        return labels;\n",
       "                    }\n",
       "\n",
       "                    for ( var i=0; i < data.datasets.length; i++ ) {\n",
       "                        var dataset = data.datasets[i];\n",
       "                        var entry = {\n",
       "                            text: dataset.label,\n",
       "                            fillStyle: (!Array.isArray(dataset.backgroundColor) ?\n",
       "                                        dataset.backgroundColor :\n",
       "                                        dataset.backgroundColor[0]),\n",
       "                            hidden: !chart.isDatasetVisible(i),\n",
       "                            lineCap: dataset.borderCapStyle,\n",
       "                            lineDash: dataset.borderDash,\n",
       "                            lineDashOffset: dataset.borderDashOffset,\n",
       "                            lineJoin: dataset.borderJoinStyle,\n",
       "                            lineWidth: dataset.borderWidth,\n",
       "                            strokeStyle: dataset.borderColor,\n",
       "                            pointStyle: dataset.pointStyle,\n",
       "\n",
       "                            // Below is extra data used for toggling the datasets\n",
       "                            datasetIndex: i\n",
       "                        }\n",
       "\n",
       "                        if ( dataset._key && dataset._key.split('-')[0] === prev_key ) {\n",
       "                            ds_labels.push(entry);\n",
       "                        }\n",
       "                        else {\n",
       "                            ds_labels.sort(function(a, b) {\n",
       "                                if ( a.text < b.text ) return -1;\n",
       "                                if ( a.text > b.text ) return 1;\n",
       "                                return 0;\n",
       "                            });\n",
       "                            for ( var j=0; j < ds_labels.length; j++ ) {\n",
       "                                labels.push(ds_labels[j]);\n",
       "                            }\n",
       "                            prev_key = dataset._key.split('-')[0];\n",
       "                            ds_labels = [entry];\n",
       "                        }\n",
       "                    }\n",
       "\n",
       "                    ds_labels.sort(function(a, b) {\n",
       "                        if ( a.text < b.text ) return -1;\n",
       "                        if ( a.text > b.text ) return 1;\n",
       "                        return 0;\n",
       "                    });\n",
       "                    for ( var j=0; j < ds_labels.length; j++ ) {\n",
       "                        labels.push(ds_labels[j]);\n",
       "                    }\n",
       "\n",
       "                    return labels;\n",
       "                };\n",
       "\n",
       "                var auto_colors = function ( data ) {\n",
       "                    var ctx = document.getElementById('chart_647f4e9b_6da3_4249_91df_12b5ee12f113_canvas').getContext('2d');\n",
       "                    var datasets = data.datasets;\n",
       "                    var Color = Chart.helpers.color;\n",
       "                    if ( !data.datasets || data.datasets.length == 0 ) {\n",
       "                        return data;\n",
       "                    }\n",
       "                    for ( var i=0; i < datasets.length; i++ ) {\n",
       "                        var ds = datasets[i];\n",
       "                        if ( ds.backgroundColor ) {\n",
       "                            if ( Array.isArray(ds.backgroundColor) ) {\n",
       "                                for ( var j=0; j < ds.backgroundColor.length; j++ ) {\n",
       "                                    var bgcolor = ds.backgroundColor[j];\n",
       "                                    if ( bgcolor.match(/^\\s*auto\\s*\\(.+\\)\\s*$/) ) {\n",
       "                                        bgcolor = bgcolor.replace(/^\\s*auto\\s*\\(\\s*(.+)\\s*\\)\\s*$/, '$1');\n",
       "                                        ds.backgroundColor[j] = Color(bgcolor).clearer(0.6).rgbString();\n",
       "                                    }\n",
       "                                    else if ( bgcolor.match(/^\\s*url\\s*\\(.+\\)\\s*$/) ) {\n",
       "                                        var img = new Image();\n",
       "                                        img.src = bgcolor.replace(/^\\s*url\\s*\\(\\s*(.+)\\s*\\)\\s*$/, '$1');\n",
       "                                        img.onload = function () {\n",
       "                                            ds.backgroundColor[j] = ctx.createPattern(img, 'repeat');\n",
       "                                        };\n",
       "                                    }\n",
       "                                }\n",
       "                            }\n",
       "                            else if ( ds.backgroundColor.match(/^\\s*auto\\s*\\(.+\\)\\s*$/) ) {\n",
       "                                var bgcolor = ds.backgroundColor.replace(/^\\s*auto\\s*\\(\\s*(.+)\\s*\\)\\s*$/, '$1');\n",
       "                                ds.backgroundColor = Color(bgcolor).clearer(0.6).rgbString();\n",
       "                            }\n",
       "                            else if ( ds.backgroundColor.match(/^\\s*url\\s*\\(.+\\)\\s*$/) ) {\n",
       "                                var img = new Image();\n",
       "                                img.src = ds.backgroundColor.replace(/^\\s*url\\s*\\(\\s*(.+)\\s*\\)\\s*$/, '$1');\n",
       "                                img.onload = function () {\n",
       "                                    ds.backgroundColor = ctx.createPattern(img, 'repeat');\n",
       "                                };\n",
       "                            }\n",
       "                        }\n",
       "                        if ( ds.borderColor ) {\n",
       "                            if ( Array.isArray(ds.borderColor) ) {\n",
       "                                for ( var j=0; j < ds.borderColor.length; j++ ) {\n",
       "                                    var fgcolor = ds.borderColor[j];\n",
       "                                    if ( fgcolor.match(/^\\s*auto\\s*\\(.+\\)\\s*$/) ) {\n",
       "                                        fgcolor = fg.replace(/^\\s*auto\\s*\\(\\s*(.*)\\s*\\)\\s*$/, '$1');\n",
       "                                        ds.borderColor[j] = Color(fgcolor).opaquer(1).rgbString();\n",
       "                                    }\n",
       "                                }\n",
       "                            } else if ( ds.borderColor.match(/^\\s*auto\\s*\\(.+\\)\\s*$/) ) {\n",
       "                                var fgcolor = ds.borderColor.replace(/^\\s*auto\\s*\\(\\s*(.*)\\s*\\)\\s*$/, '$1');\n",
       "                                ds.borderColor = Color(fgcolor).opaquer(1).rgbString();\n",
       "                            }\n",
       "                        }\n",
       "                    }\n",
       "                    return data;\n",
       "                };\n",
       "\n",
       "                var max_data = 35;\n",
       "                var ctx = document.getElementById('chart_647f4e9b_6da3_4249_91df_12b5ee12f113_canvas').getContext('2d');\n",
       "                var chart = new Chart(ctx, {\n",
       "                    type: 'scatter',\n",
       "                    data: auto_colors({\"labels\": [20.390504, -1.218502, 1.254811, 1.799438, 20.029238, 1.758955, -0.399935, -0.227882, -8.32139, 0.339488, 1.495719, 20.302691, 21.258914, 0.346646, 11.227181, 1.630317, 20.441177, 20.247112, -1.75539, 18.746671, 19.973171, 18.948372, 20.775433, 0.631942, 21.130736, 20.126781, 20.729814, -0.386941, 17.789819, 21.076541], \"displayed_labels\": null, \"datasets\": [{\"type\": \"scatter\", \"borderColor\": \"#d37a2db2\", \"_key\": \"ds00-Class 2\", \"_y\": \"y_c\", \"pointRadius\": 15, \"label\": \"Class 2\", \"backgroundColor\": \"#d37a2db2\", \"showLine\": false, \"_x\": \"x_c\", \"_radius\": null, \"data\": [{\"x\": 20.390504, \"y\": 20.534352}, null, null, null, {\"x\": 20.029238, \"y\": 22.914597}, null, null, null, null, null, null, {\"x\": 20.302691, \"y\": 20.566994}, {\"x\": 21.258914, \"y\": 20.823834}, null, null, null, {\"x\": 20.441177, \"y\": 23.336311}, {\"x\": 20.247112, \"y\": 21.950957}, null, {\"x\": 18.746671, \"y\": 20.435761}, {\"x\": 19.973171, \"y\": 20.472298}, {\"x\": 18.948372, \"y\": 21.494872}, {\"x\": 20.775433, \"y\": 20.093768}, null, {\"x\": 21.130736, \"y\": 19.050049}, {\"x\": 20.126781, \"y\": 17.562858}, {\"x\": 20.729814, \"y\": 18.696442}, null, {\"x\": 17.789819, \"y\": 20.385942}, {\"x\": 21.076541, \"y\": 20.518005}]}, {\"type\": \"scatter\", \"borderColor\": \"#68b0e3b2\", \"_key\": \"ds00-Class 1\", \"_y\": \"y_c\", \"pointRadius\": 15, \"label\": \"Class 1\", \"backgroundColor\": \"#68b0e3b2\", \"showLine\": false, \"_x\": \"x_c\", \"_radius\": null, \"data\": [null, {\"x\": -1.218502, \"y\": -2.952991}, {\"x\": 1.254811, \"y\": 0.259024}, {\"x\": 1.799438, \"y\": -2.049997}, null, {\"x\": 1.758955, \"y\": 1.037675}, {\"x\": -0.399935, \"y\": -1.16577}, {\"x\": -0.227882, \"y\": 1.257459}, {\"x\": -8.32139, \"y\": -4.328505}, {\"x\": 0.339488, \"y\": -0.080691}, {\"x\": 1.495719, \"y\": -1.119334}, null, null, {\"x\": 0.346646, \"y\": 0.684714}, {\"x\": 11.227181, \"y\": 4.790127}, {\"x\": 1.630317, \"y\": -0.12631}, null, null, {\"x\": -1.75539, \"y\": -0.435286}, null, null, null, null, {\"x\": 0.631942, \"y\": 1.590953}, null, null, null, {\"x\": -0.386941, \"y\": -0.39144}, null, null]}]}),\n",
       "                    options: {\"legend\": {\"position\": \"right\", \"display\": true, \"labels\": {\"usePointStyle\": true}}, \"scales\": {\"yAxes\": [{\"ticks\": {\"min\": -15, \"max\": 30}, \"scaleLabel\": {\"display\": true, \"labelString\": \"Y\"}}], \"xAxes\": [{\"ticks\": {\"min\": -15, \"max\": 30}, \"scaleLabel\": {\"display\": true, \"labelString\": \"X\"}}]}, \"title\": {\"display\": false, \"text\": \"\"}, \"responsive\": true}\n",
       "                });\n",
       "\n",
       "                var set_display_labels = function (value, index, values) {\n",
       "                    if ( chart.data.displayed_labels && chart.data.displayed_labels[index] ) {\n",
       "                        return chart.data.displayed_labels[index];\n",
       "                    }\n",
       "                    return value;\n",
       "                };\n",
       "\n",
       "                if ( chart.options.scales && chart.options.scales.xAxes ) {\n",
       "                    chart.options.scales.xAxes[0].ticks.callback = set_display_labels;\n",
       "                }\n",
       "\n",
       "/*\n",
       "                var dynamic_x_axis = false;\n",
       "                if ( chart.config.type === 'line' || chart.config.type === 'area' ||\n",
       "                     chart.config.type === 'scatter' || chart.config.type === 'bubble' ) {\n",
       "                    if ( chart.options.scales.xAxes[0].ticks.min == null &&\n",
       "                         chart.options.scales.xAxes[0].ticks.max == null ) {\n",
       "                        dynamic_x_axis = true;\n",
       "                    }\n",
       "                }\n",
       "\n",
       "                if ( dynamic_x_axis && chart.options.scales && chart.options.scales.xAxes ) {\n",
       "                    chart.options.scales.xAxes[0].afterBuildTicks = afterBuildTicks;\n",
       "                }\n",
       "*/\n",
       "\n",
       "                var rotate_linear = function (labels, values, new_values) {\n",
       "                    Array.prototype.push.apply(values, new_values);\n",
       "                    while ( values.length > max_data ) {\n",
       "                        values.shift();\n",
       "                    }\n",
       "                    while ( values.length < labels.length ) {\n",
       "                        values.unshift(null);\n",
       "                    }\n",
       "                }\n",
       "\n",
       "                var rotate_category = function (labels, new_labels, values, new_values) {\n",
       "                    var idx;\n",
       "\n",
       "                    if ( !new_labels || new_labels.length == 0 ) return;\n",
       "                    if ( !new_values || new_values.length == 0 ) return;\n",
       "\n",
       "                    for ( var i=0; i < new_labels.length; i++ ) {\n",
       "                        idx = labels.indexOf(new_labels[i]);\n",
       "                        if ( idx === -1 ) {\n",
       "                            labels.push(new_labels[i]);\n",
       "                            values.push(new_values[i]);\n",
       "                        } else {\n",
       "                            values[idx] = new_values[i];\n",
       "                        }\n",
       "                    }\n",
       "\n",
       "                    while ( values.length > max_data ) {\n",
       "                        values.shift();\n",
       "                    }\n",
       "\n",
       "                    while ( values.length < labels.length ) {\n",
       "                        values.unshift(null);\n",
       "                    }\n",
       "                }\n",
       "\n",
       "                var comm = Jupyter.notebook.kernel.comm_manager.new_comm('chart_647f4e9b_6da3_4249_91df_12b5ee12f113')\n",
       "\n",
       "                comm.on_msg(function(msg) {\n",
       "                    var data = auto_colors(msg.content.data);\n",
       "                    var key = null;\n",
       "                    var old_datasets = {};\n",
       "                    var new_datasets = {};\n",
       "                    var updated_datasets = {};\n",
       "\n",
       "                    if ( data.labels && data.datasets &&\n",
       "                         data.labels.length > 0 && data.datasets.length > 0 ) {\n",
       "\n",
       "                        // Categorize updatable and new datasets\n",
       "                        for ( var i=0; i < chart.data.datasets.length; i++ ) {\n",
       "                            old_datasets[chart.data.datasets[i]._key] = chart.data.datasets[i];\n",
       "                        }\n",
       "                        for ( var i=0; i < data.datasets.length; i++ ) {\n",
       "                            if ( old_datasets[data.datasets[i]._key] == null ) {\n",
       "                                new_datasets[data.datasets[i]._key] = data.datasets[i];\n",
       "                            } else {\n",
       "                                updated_datasets[data.datasets[i]._key] = data.datasets[i];\n",
       "                            }\n",
       "                        }\n",
       "\n",
       "                        if ( chart.config.type == 'doughnut' ||\n",
       "                             chart.config.type == 'pie' ||\n",
       "                             chart.config.type == 'bar' ||\n",
       "                             chart.config.type == 'horizontalBar' ) {\n",
       "\n",
       "                            // Update existing datasets\n",
       "                            for ( key in updated_datasets ) {\n",
       "                                rotate_category( chart.data.labels,\n",
       "                                                   data.labels,\n",
       "                                                   old_datasets[key].data,\n",
       "                                                   updated_datasets[key].data );\n",
       "                            }\n",
       "\n",
       "                            // Add new datasets\n",
       "                            for ( key in new_datasets ) {\n",
       "                                chart.data.datasets.push(new_datasets[key]);\n",
       "                                rotate_category( chart.data.labels,\n",
       "                                                   data.labels,\n",
       "                                                   new_datasets[key].data,\n",
       "                                                   new_datasets[key].data );\n",
       "                            }\n",
       "\n",
       "                            chart.data.displayed_labels = data.displayed_labels;\n",
       "\n",
       "                        } else {\n",
       "\n",
       "                            // Rotate labels\n",
       "                            Array.prototype.push.apply(chart.data.labels, data.labels);\n",
       "                            while ( chart.data.labels.length > max_data ) {\n",
       "                                chart.data.labels.shift();\n",
       "                            }\n",
       "\n",
       "                            // Update existing datasets\n",
       "                            for ( key in updated_datasets ) {\n",
       "                                rotate_linear( chart.data.labels,\n",
       "                                               old_datasets[key].data,\n",
       "                                               updated_datasets[key].data );\n",
       "                            }\n",
       "\n",
       "                            // Add new datasets\n",
       "                            for ( key in new_datasets ) {\n",
       "                                chart.data.datasets.push(new_datasets[key]);\n",
       "                                rotate_linear( chart.data.labels,\n",
       "                                               new_datasets[key].data,\n",
       "                                               [] );\n",
       "                            }\n",
       "\n",
       "                            // Shift stale datasets\n",
       "                            var nulls = [];\n",
       "                            for ( key in old_datasets ) {\n",
       "                                if ( updated_datasets[key] == null ) {\n",
       "                                    if ( nulls.length == 0 ) {\n",
       "                                        for ( var i=0; i < data.labels.length; i++ ) {\n",
       "                                            nulls.push(null);\n",
       "                                        }\n",
       "                                    }\n",
       "                                    rotate_linear( chart.data.labels,\n",
       "                                                   old_datasets[key].data,\n",
       "                                                   nulls );\n",
       "                                }\n",
       "                            }\n",
       "\n",
       "                            // Reset x-axis limits\n",
       "/*\n",
       "                            if ( dynamic_x_axis && chart.options.scales && chart.options.scales.xAxes ) {\n",
       "                                chart.options.scales.xAxes[0].ticks.min = chart.data.labels[Math.max(Math.min(chart.data.labels.length-1, 2), 0)];\n",
       "                                chart.options.scales.xAxes[0].ticks.max = chart.data.labels[Math.max(chart.data.labels.length-1, 0)];\n",
       "                            }\n",
       "*/\n",
       "                        }\n",
       "\n",
       "                        if ( chart.config.type == 'line' ) {\n",
       "                            chart.update(0);\n",
       "                        } else {\n",
       "                            chart.update(200 * 2);\n",
       "                        }\n",
       "                    }\n",
       "\n",
       "                    if ( data.command ) {\n",
       "                        if ( data.command == 'stop' ) {\n",
       "                            $('#chart_647f4e9b_6da3_4249_91df_12b5ee12f113-play, #chart_647f4e9b_6da3_4249_91df_12b5ee12f113-pause, #chart_647f4e9b_6da3_4249_91df_12b5ee12f113-stop')\n",
       "                                .removeClass('enabled')\n",
       "                                .addClass('disabled')\n",
       "                                .css('cursor', 'default');\n",
       "                            $('#streaming-plot-chart_647f4e9b_6da3_4249_91df_12b5ee12f113').hide().remove();\n",
       "                        }\n",
       "                    }\n",
       "\n",
       "                    // If plot doesn't exist anymore, stop data\n",
       "                    if ( $('#streaming-plot-chart_647f4e9b_6da3_4249_91df_12b5ee12f113').length == 0 ) {\n",
       "                        comm.send({'command': 'stop'});\n",
       "                    }\n",
       "                });\n",
       "\n",
       "                comm.on_close(function() {\n",
       "                    comm.send({'command': 'stop'});\n",
       "                });\n",
       "\n",
       "                // Send message when plot is removed\n",
       "                $.event.special.destroyed = {\n",
       "                    remove: function(o) {\n",
       "                      if (o.handler) {\n",
       "                        o.handler()\n",
       "                      }\n",
       "                    }\n",
       "                }\n",
       "                $('#streaming-plot-chart_647f4e9b_6da3_4249_91df_12b5ee12f113').bind('destroyed', function() {\n",
       "                    comm.send({'command': 'stop'});\n",
       "                });\n",
       "\n",
       "                var blink = function () {\n",
       "                  $('#chart_647f4e9b_6da3_4249_91df_12b5ee12f113-pause.enabled').fadeOut(900).fadeIn(900, blink);\n",
       "                }\n",
       "\n",
       "                $('#chart_647f4e9b_6da3_4249_91df_12b5ee12f113-play').click(function() {\n",
       "                  if ( $('#chart_647f4e9b_6da3_4249_91df_12b5ee12f113-play').hasClass('disabled') ) return;\n",
       "                  if ( $('#chart_647f4e9b_6da3_4249_91df_12b5ee12f113-play').hasClass('enabled') ) return;\n",
       "                  $('#chart_647f4e9b_6da3_4249_91df_12b5ee12f113-pause').removeClass('enabled');\n",
       "                  $('#chart_647f4e9b_6da3_4249_91df_12b5ee12f113-play').addClass('enabled');\n",
       "                  comm.send({'command': 'play'});\n",
       "                });\n",
       "\n",
       "                $('#chart_647f4e9b_6da3_4249_91df_12b5ee12f113-pause').click(function() {\n",
       "                  if ( $('#chart_647f4e9b_6da3_4249_91df_12b5ee12f113-pause').hasClass('disabled') ) return;\n",
       "                  if ( $('#chart_647f4e9b_6da3_4249_91df_12b5ee12f113-pause').hasClass('enabled') ) {\n",
       "                    $('#chart_647f4e9b_6da3_4249_91df_12b5ee12f113-play').click();\n",
       "                    return;\n",
       "                  }\n",
       "                  $('#chart_647f4e9b_6da3_4249_91df_12b5ee12f113-play').removeClass('enabled');\n",
       "                  $('#chart_647f4e9b_6da3_4249_91df_12b5ee12f113-pause').addClass('enabled');\n",
       "                  comm.send({'command': 'pause'});\n",
       "                  blink();\n",
       "                });\n",
       "\n",
       "                $('#chart_647f4e9b_6da3_4249_91df_12b5ee12f113-stop').click(function() {\n",
       "                  if ( $('#chart_647f4e9b_6da3_4249_91df_12b5ee12f113-stop').hasClass('disabled') ) return;\n",
       "                    $('#chart_647f4e9b_6da3_4249_91df_12b5ee12f113-play, #chart_647f4e9b_6da3_4249_91df_12b5ee12f113-pause, #chart_647f4e9b_6da3_4249_91df_12b5ee12f113-stop')\n",
       "                    .removeClass('enabled')\n",
       "                    .addClass('disabled')\n",
       "                    .css('cursor', 'default');\n",
       "                  comm.send({'command': 'stop'});\n",
       "                  $('#streaming-plot-chart_647f4e9b_6da3_4249_91df_12b5ee12f113').hide().remove();\n",
       "                });\n",
       "\n",
       "            });\n",
       "            //-->\n",
       "            </script>\n",
       "        "
      ],
      "text/plain": [
       "<esppy.plotting.StreamingChart at 0x7f6d595ceba8>"
      ]
     },
     "execution_count": 45,
     "metadata": {},
     "output_type": "execute_result"
    }
   ],
   "source": [
    "score.streaming_scatter('x_c', 'y_c', var_generator=class_map_func,\n",
    "                        label='var(class_label)', fill_color='var(class_color)',\n",
    "                        color='var(class_color)', point_radius=15,\n",
    "                        y_range=(-15,30), x_range=(-15,30), \n",
    "                        max_data=35, steps=1000, interval=200,\n",
    "                        x_axis_label='X', y_axis_label='Y')"
   ]
  },
  {
   "cell_type": "markdown",
   "metadata": {
    "collapsed": true
   },
   "source": [
    "## Client-side Transformers"
   ]
  },
  {
   "cell_type": "markdown",
   "metadata": {},
   "source": [
    "Transformers can be any DataFrame operation."
   ]
  },
  {
   "cell_type": "code",
   "execution_count": 46,
   "metadata": {
    "collapsed": true
   },
   "outputs": [],
   "source": [
    "score.add_event_transformer('abs')\n",
    "score.add_event_transformer('clip', upper=20)"
   ]
  },
  {
   "cell_type": "markdown",
   "metadata": {},
   "source": [
    "Or, they can be functions that can do any arbitrary operation."
   ]
  },
  {
   "cell_type": "code",
   "execution_count": 47,
   "metadata": {
    "collapsed": true
   },
   "outputs": [],
   "source": [
    "def dist_group(event):\n",
    "    event['dist_group'] = event['min_dist'] > 10\n",
    "    return event\n",
    "\n",
    "score.add_event_transformer(dist_group)"
   ]
  },
  {
   "cell_type": "code",
   "execution_count": 48,
   "metadata": {
    "collapsed": false
   },
   "outputs": [
    {
     "data": {
      "text/html": [
       "<div>\n",
       "<style scoped>\n",
       "    .dataframe tbody tr th:only-of-type {\n",
       "        vertical-align: middle;\n",
       "    }\n",
       "\n",
       "    .dataframe tbody tr th {\n",
       "        vertical-align: top;\n",
       "    }\n",
       "\n",
       "    .dataframe thead th {\n",
       "        text-align: right;\n",
       "    }\n",
       "</style>\n",
       "<table border=\"1\" class=\"dataframe\">\n",
       "  <thead>\n",
       "    <tr style=\"text-align: right;\">\n",
       "      <th></th>\n",
       "      <th>x_c</th>\n",
       "      <th>y_c</th>\n",
       "      <th>min_dist</th>\n",
       "      <th>seg</th>\n",
       "      <th>model_id</th>\n",
       "      <th>dist_group</th>\n",
       "    </tr>\n",
       "    <tr>\n",
       "      <th>id</th>\n",
       "      <th></th>\n",
       "      <th></th>\n",
       "      <th></th>\n",
       "      <th></th>\n",
       "      <th></th>\n",
       "      <th></th>\n",
       "    </tr>\n",
       "  </thead>\n",
       "  <tbody>\n",
       "    <tr>\n",
       "      <th>50</th>\n",
       "      <td>20.000000</td>\n",
       "      <td>20.000000</td>\n",
       "      <td>11.498755</td>\n",
       "      <td>1.0</td>\n",
       "      <td>0.0</td>\n",
       "      <td>True</td>\n",
       "    </tr>\n",
       "    <tr>\n",
       "      <th>51</th>\n",
       "      <td>1.218502</td>\n",
       "      <td>2.952991</td>\n",
       "      <td>11.705346</td>\n",
       "      <td>0.0</td>\n",
       "      <td>0.0</td>\n",
       "      <td>True</td>\n",
       "    </tr>\n",
       "    <tr>\n",
       "      <th>52</th>\n",
       "      <td>1.254811</td>\n",
       "      <td>0.259024</td>\n",
       "      <td>7.651725</td>\n",
       "      <td>0.0</td>\n",
       "      <td>0.0</td>\n",
       "      <td>False</td>\n",
       "    </tr>\n",
       "    <tr>\n",
       "      <th>53</th>\n",
       "      <td>1.799438</td>\n",
       "      <td>2.049997</td>\n",
       "      <td>9.309078</td>\n",
       "      <td>0.0</td>\n",
       "      <td>0.0</td>\n",
       "      <td>False</td>\n",
       "    </tr>\n",
       "    <tr>\n",
       "      <th>54</th>\n",
       "      <td>20.000000</td>\n",
       "      <td>20.000000</td>\n",
       "      <td>13.106119</td>\n",
       "      <td>1.0</td>\n",
       "      <td>0.0</td>\n",
       "      <td>True</td>\n",
       "    </tr>\n",
       "    <tr>\n",
       "      <th>55</th>\n",
       "      <td>1.758955</td>\n",
       "      <td>1.037675</td>\n",
       "      <td>6.729057</td>\n",
       "      <td>0.0</td>\n",
       "      <td>0.0</td>\n",
       "      <td>False</td>\n",
       "    </tr>\n",
       "    <tr>\n",
       "      <th>56</th>\n",
       "      <td>0.399935</td>\n",
       "      <td>1.165770</td>\n",
       "      <td>9.805200</td>\n",
       "      <td>0.0</td>\n",
       "      <td>0.0</td>\n",
       "      <td>False</td>\n",
       "    </tr>\n",
       "    <tr>\n",
       "      <th>57</th>\n",
       "      <td>0.227882</td>\n",
       "      <td>1.257459</td>\n",
       "      <td>7.993497</td>\n",
       "      <td>0.0</td>\n",
       "      <td>0.0</td>\n",
       "      <td>False</td>\n",
       "    </tr>\n",
       "    <tr>\n",
       "      <th>58</th>\n",
       "      <td>8.321390</td>\n",
       "      <td>4.328505</td>\n",
       "      <td>17.816560</td>\n",
       "      <td>0.0</td>\n",
       "      <td>0.0</td>\n",
       "      <td>True</td>\n",
       "    </tr>\n",
       "    <tr>\n",
       "      <th>59</th>\n",
       "      <td>0.339488</td>\n",
       "      <td>0.080691</td>\n",
       "      <td>8.502137</td>\n",
       "      <td>0.0</td>\n",
       "      <td>0.0</td>\n",
       "      <td>False</td>\n",
       "    </tr>\n",
       "  </tbody>\n",
       "</table>\n",
       "</div>"
      ],
      "text/plain": [
       "          x_c        y_c   min_dist  seg  model_id  dist_group\n",
       "id                                                            \n",
       "50  20.000000  20.000000  11.498755  1.0       0.0        True\n",
       "51   1.218502   2.952991  11.705346  0.0       0.0        True\n",
       "52   1.254811   0.259024   7.651725  0.0       0.0       False\n",
       "53   1.799438   2.049997   9.309078  0.0       0.0       False\n",
       "54  20.000000  20.000000  13.106119  1.0       0.0        True\n",
       "55   1.758955   1.037675   6.729057  0.0       0.0       False\n",
       "56   0.399935   1.165770   9.805200  0.0       0.0       False\n",
       "57   0.227882   1.257459   7.993497  0.0       0.0       False\n",
       "58   8.321390   4.328505  17.816560  0.0       0.0        True\n",
       "59   0.339488   0.080691   8.502137  0.0       0.0       False"
      ]
     },
     "execution_count": 48,
     "metadata": {},
     "output_type": "execute_result"
    }
   ],
   "source": [
    "score.head(10)"
   ]
  },
  {
   "cell_type": "code",
   "execution_count": null,
   "metadata": {
    "collapsed": true
   },
   "outputs": [],
   "source": []
  },
  {
   "cell_type": "code",
   "execution_count": null,
   "metadata": {
    "collapsed": true
   },
   "outputs": [],
   "source": []
  }
 ],
 "metadata": {
  "kernelspec": {
   "display_name": "Python 3",
   "language": "python",
   "name": "python3"
  },
  "language_info": {
   "codemirror_mode": {
    "name": "ipython",
    "version": 3
   },
   "file_extension": ".py",
   "mimetype": "text/x-python",
   "name": "python",
   "nbconvert_exporter": "python",
   "pygments_lexer": "ipython3",
   "version": "3.5.4"
  }
 },
 "nbformat": 4,
 "nbformat_minor": 0
}
