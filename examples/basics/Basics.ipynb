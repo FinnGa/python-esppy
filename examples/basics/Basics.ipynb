{
 "cells": [
  {
   "cell_type": "markdown",
   "metadata": {},
   "source": [
    "# SAS Event Stream Processing Python Interface\n",
    "\n",
    "ESPPy is a pure Python package to connect to a SAS Event Stream Processing (ESP) server using the REST interface and web sockets."
   ]
  },
  {
   "cell_type": "markdown",
   "metadata": {},
   "source": [
    "## Import the ESPPy Package and Create a Connection"
   ]
  },
  {
   "cell_type": "code",
   "execution_count": 1,
   "metadata": {
    "collapsed": false,
    "jupyter": {
     "outputs_hidden": false
    }
   },
   "outputs": [],
   "source": [
    "import esppy\n",
    "from esppy.espapi.visuals import Visuals"
   ]
  },
  {
   "cell_type": "markdown",
   "metadata": {},
   "source": [
    "Set the server_url to point to your ESP server"
   ]
  },
  {
   "cell_type": "code",
   "execution_count": 2,
   "metadata": {},
   "outputs": [],
   "source": [
    "server_url = \"http://<host>:<port>\""
   ]
  },
  {
   "cell_type": "code",
   "execution_count": 3,
   "metadata": {
    "collapsed": false,
    "jupyter": {
     "outputs_hidden": false
    }
   },
   "outputs": [
    {
     "data": {
      "text/plain": [
       "\u001b[0;31mInit signature:\u001b[0m\n",
       "\u001b[0mesppy\u001b[0m\u001b[0;34m.\u001b[0m\u001b[0mESP\u001b[0m\u001b[0;34m(\u001b[0m\u001b[0;34m\u001b[0m\n",
       "\u001b[0;34m\u001b[0m    \u001b[0mhostname\u001b[0m\u001b[0;34m=\u001b[0m\u001b[0;32mNone\u001b[0m\u001b[0;34m,\u001b[0m\u001b[0;34m\u001b[0m\n",
       "\u001b[0;34m\u001b[0m    \u001b[0mport\u001b[0m\u001b[0;34m=\u001b[0m\u001b[0;32mNone\u001b[0m\u001b[0;34m,\u001b[0m\u001b[0;34m\u001b[0m\n",
       "\u001b[0;34m\u001b[0m    \u001b[0musername\u001b[0m\u001b[0;34m=\u001b[0m\u001b[0;32mNone\u001b[0m\u001b[0;34m,\u001b[0m\u001b[0;34m\u001b[0m\n",
       "\u001b[0;34m\u001b[0m    \u001b[0mpassword\u001b[0m\u001b[0;34m=\u001b[0m\u001b[0;32mNone\u001b[0m\u001b[0;34m,\u001b[0m\u001b[0;34m\u001b[0m\n",
       "\u001b[0;34m\u001b[0m    \u001b[0mprotocol\u001b[0m\u001b[0;34m=\u001b[0m\u001b[0;32mNone\u001b[0m\u001b[0;34m,\u001b[0m\u001b[0;34m\u001b[0m\n",
       "\u001b[0;34m\u001b[0m    \u001b[0mca_bundle\u001b[0m\u001b[0;34m=\u001b[0m\u001b[0;32mNone\u001b[0m\u001b[0;34m,\u001b[0m\u001b[0;34m\u001b[0m\n",
       "\u001b[0;34m\u001b[0m    \u001b[0mauthinfo\u001b[0m\u001b[0;34m=\u001b[0m\u001b[0;32mNone\u001b[0m\u001b[0;34m,\u001b[0m\u001b[0;34m\u001b[0m\n",
       "\u001b[0;34m\u001b[0m    \u001b[0mauth_obj\u001b[0m\u001b[0;34m=\u001b[0m\u001b[0;32mNone\u001b[0m\u001b[0;34m,\u001b[0m\u001b[0;34m\u001b[0m\n",
       "\u001b[0;34m\u001b[0m\u001b[0;34m)\u001b[0m\u001b[0;34m\u001b[0m\u001b[0;34m\u001b[0m\u001b[0m\n",
       "\u001b[0;31mDocstring:\u001b[0m     \n",
       "ESP Connection\n",
       "\n",
       "Parameters\n",
       "----------\n",
       "hostname : string, optional\n",
       "    Hostname of ESP server or ESP connection URL\n",
       "port : int, optional\n",
       "    Port number of ESP server.  This is not needed if\n",
       "    a URL is used in the first parameter.\n",
       "username : string, optional\n",
       "    Username for authentication\n",
       "password : string, optional\n",
       "    Password for authentication.  If a password is specified,\n",
       "    without a username, this is assumed to be an OAUTH token.\n",
       "protocol : string, optional\n",
       "    The protocol to use: http or https.  This is not\n",
       "    needed if a URL is used in the first parameter.\n",
       "ca_bundle : string, optional\n",
       "    Path to the certificate bundle if using SSL\n",
       "authinfo : string, optional\n",
       "    Path to the authinfo file containing authentication\n",
       "    information.\n",
       "\n",
       "Attributes\n",
       "----------\n",
       "metadata : dict\n",
       "    ESP engine metadata\n",
       "server_info : dict\n",
       "    ESP server information\n",
       "connector_info : dict\n",
       "    Information about ESP connectors\n",
       "api_docs : dict\n",
       "    Swagger JSON documentation\n",
       "\n",
       "Examples\n",
       "--------\n",
       "Start ESP connection\n",
       "\n",
       ">>> esp = esppy.ESP('http://esp-host.com:8080')\n",
       ">>> esp.server_info\n",
       "{ ... }\n",
       "\n",
       "Create a project from a definition file\n",
       "\n",
       ">>> proj = esp.load_project('/path/to/model.xml')\n",
       ">>> proj.start()\n",
       "\u001b[0;31mFile:\u001b[0m           ~/work/python/esppy7.1/esppy/connection.py\n",
       "\u001b[0;31mType:\u001b[0m           type\n",
       "\u001b[0;31mSubclasses:\u001b[0m     \n"
      ]
     },
     "metadata": {},
     "output_type": "display_data"
    }
   ],
   "source": [
    "esppy.ESP?"
   ]
  },
  {
   "cell_type": "code",
   "execution_count": 4,
   "metadata": {
    "collapsed": false,
    "jupyter": {
     "outputs_hidden": false
    }
   },
   "outputs": [
    {
     "data": {
      "text/plain": [
       "ESP('http://espsrv01:7777')"
      ]
     },
     "execution_count": 4,
     "metadata": {},
     "output_type": "execute_result"
    }
   ],
   "source": [
    "esp = esppy.ESP(server_url)\n",
    "esp"
   ]
  },
  {
   "cell_type": "markdown",
   "metadata": {},
   "source": [
    "Tab-completion will show all of the methods and attributes on the ESP object."
   ]
  },
  {
   "cell_type": "code",
   "execution_count": 5,
   "metadata": {},
   "outputs": [],
   "source": [
    "# esp."
   ]
  },
  {
   "cell_type": "markdown",
   "metadata": {},
   "source": [
    "## Create the server connection and visuals"
   ]
  },
  {
   "cell_type": "code",
   "execution_count": 6,
   "metadata": {},
   "outputs": [],
   "source": [
    "conn = esp.createServerConnection()\n",
    "visuals = Visuals()"
   ]
  },
  {
   "cell_type": "markdown",
   "metadata": {},
   "source": [
    "## Server Introspection"
   ]
  },
  {
   "cell_type": "code",
   "execution_count": 7,
   "metadata": {
    "collapsed": false,
    "jupyter": {
     "outputs_hidden": false
    }
   },
   "outputs": [
    {
     "data": {
      "text/plain": [
       "{'version': '7.1',\n",
       " 'engine': 'fc93e451-b86e-4128-8716-2268248d8da9',\n",
       " 'analytics-license': True,\n",
       " 'primary-server': True,\n",
       " 'pubsub': 7778,\n",
       " 'http': 7777,\n",
       " 'loglevel': 'common.http=debug,server.connection=debug',\n",
       " 'nocleanup': None}"
      ]
     },
     "execution_count": 7,
     "metadata": {},
     "output_type": "execute_result"
    }
   ],
   "source": [
    "esp.server_info"
   ]
  },
  {
   "cell_type": "code",
   "execution_count": 8,
   "metadata": {
    "collapsed": false,
    "jupyter": {
     "outputs_hidden": false
    }
   },
   "outputs": [
    {
     "data": {
      "text/plain": [
       "{'primary': Project(name='primary'), 'secondary': Project(name='secondary')}"
      ]
     },
     "execution_count": 8,
     "metadata": {},
     "output_type": "execute_result"
    }
   ],
   "source": [
    "esp.get_projects()"
   ]
  },
  {
   "cell_type": "markdown",
   "metadata": {},
   "source": [
    "## Load a Project"
   ]
  },
  {
   "cell_type": "code",
   "execution_count": 9,
   "metadata": {
    "collapsed": false,
    "jupyter": {
     "outputs_hidden": false
    }
   },
   "outputs": [
    {
     "name": "stdout",
     "output_type": "stream",
     "text": [
      "<engine>\n",
      "  <projects>\n",
      "    <project name='project' pubsub='auto' threads='1' use-tagged-token='true'>\n",
      "      <contqueries>\n",
      "        <contquery name='contquery' trace='w_data w_calculate'>\n",
      "          <windows>\n",
      "            <window-source name='w_data' insert-only='true'>\n",
      "              <schema>\n",
      "                <fields>\n",
      "                  <field name='id'   type='int64' key='true'/>\n",
      "                  <field name='time' type='double'/>\n",
      "                  <field name='x'    type='double'/>\n",
      "                  <field name='y'    type='double'/>\n",
      "                  <field name='z'    type='double'/>\n",
      "                </fields>\n",
      "              </schema>\n",
      "            </window-source>\n",
      "            <window-source name='w_request' insert-only='true'>\n",
      "              <schema>\n",
      "                <fields>\n",
      "                  <field name='req_id'  type='int64' key='true'/>\n",
      "                  <field name='req_key' type='string'/>\n",
      "                  <field name='req_val' type='string'/>\n",
      "                </fields>\n",
      "              </schema>\n",
      "            </window-source>\n",
      "            <window-calculate name='w_calculate' algorithm='Summary'>\n",
      "              <schema>\n",
      "                <fields>\n",
      "                  <field name='id'     type='int64' key='true'/>\n",
      "                  <field name='x'      type='double'/>\n",
      "                  <field name='mean_x' type='double'/>\n",
      "                  <field name='n_x'    type='int64'/>\n",
      "                </fields>\n",
      "              </schema>\n",
      "              <parameters>\n",
      "                <properties>\n",
      "                  <property name=\"windowLength\">5</property>\n",
      "                </properties>\n",
      "              </parameters>\n",
      "              <input-map>\n",
      "                <properties>\n",
      "                  <property name=\"input\">x</property>\n",
      "                </properties>\n",
      "              </input-map>\n",
      "              <output-map>\n",
      "                <properties>\n",
      "                  <property name=\"meanOut\">mean_x</property>\n",
      "                  <property name=\"nOut\">n_x</property>\n",
      "                </properties>\n",
      "              </output-map>\n",
      "            </window-calculate>\n",
      "            <window-copy name=\"w_copy\">\n",
      "                <retention type=\"bytime_sliding\">60 seconds</retention>\n",
      "            </window-copy>\n",
      "          </windows>\n",
      "          <edges>\n",
      "            <edge source='w_data'    target='w_calculate' role='data'/>\n",
      "            <edge source='w_request' target='w_calculate' role='request'/>\n",
      "            <edge source='w_calculate'    target='w_copy' role='data'/>\n",
      "          </edges>\n",
      "        </contquery>\n",
      "      </contqueries>\n",
      "    </project>\n",
      "  </projects>\n",
      "</engine>\n"
     ]
    }
   ],
   "source": [
    "%%sh\n",
    "cat model_walking.xml"
   ]
  },
  {
   "cell_type": "markdown",
   "metadata": {},
   "source": [
    "Projects can be loaded from file paths, Python file objects, or URLs.  They can also be loaded from Python `Project` objects as we will see later in this notebook."
   ]
  },
  {
   "cell_type": "code",
   "execution_count": 10,
   "metadata": {
    "collapsed": false,
    "jupyter": {
     "outputs_hidden": false
    }
   },
   "outputs": [
    {
     "data": {
      "image/svg+xml": [
       "<?xml version=\"1.0\" encoding=\"UTF-8\" standalone=\"no\"?>\n",
       "<!DOCTYPE svg PUBLIC \"-//W3C//DTD SVG 1.1//EN\"\n",
       " \"http://www.w3.org/Graphics/SVG/1.1/DTD/svg11.dtd\">\n",
       "<!-- Generated by graphviz version 2.40.1 (20161225.0304)\n",
       " -->\n",
       "<!-- Title: %3 Pages: 1 -->\n",
       "<svg width=\"596.0pt\" height=\"160.0pt\"\n",
       " viewBox=\"0.00 0.00 596.00 160.00\" xmlns=\"http://www.w3.org/2000/svg\" xmlns:xlink=\"http://www.w3.org/1999/xlink\">\n",
       "<g id=\"graph0\" class=\"graph\" transform=\"scale(1 1) rotate(0) translate(4 156)\">\n",
       "<title>%3</title>\n",
       "<polygon fill=\"#ffffff\" stroke=\"transparent\" points=\"-4,4 -4,-156 592,-156 592,4 -4,4\"/>\n",
       "<g id=\"clust1\" class=\"cluster\">\n",
       "<title>cluster_project</title>\n",
       "<path fill=\"#dadada\" stroke=\"#c0c0c0\" stroke-width=\"2\" d=\"M20,-8C20,-8 568,-8 568,-8 574,-8 580,-14 580,-20 580,-20 580,-132 580,-132 580,-138 574,-144 568,-144 568,-144 20,-144 20,-144 14,-144 8,-138 8,-132 8,-132 8,-20 8,-20 8,-14 14,-8 20,-8\"/>\n",
       "<text text-anchor=\"middle\" x=\"41\" y=\"-128.8\" font-family=\"Helvetica,sans-Serif\" font-size=\"14.00\" fill=\"#000000\">project</text>\n",
       "</g>\n",
       "<!-- project.contquery.w_calculate -->\n",
       "<g id=\"node1\" class=\"node\">\n",
       "<title>project.contquery.w_calculate</title>\n",
       "<polygon fill=\"#c8f0ff\" stroke=\"#58a0d3\" stroke-width=\"2\" points=\"376,-82.5 256,-82.5 256,-43.5 376,-43.5 376,-82.5\"/>\n",
       "<text text-anchor=\"middle\" x=\"316\" y=\"-59.3\" font-family=\"Helvetica,sans-Serif\" font-size=\"14.00\" fill=\"#000000\">w_calculate</text>\n",
       "</g>\n",
       "<!-- project.contquery.w_copy -->\n",
       "<g id=\"node2\" class=\"node\">\n",
       "<title>project.contquery.w_copy</title>\n",
       "<polygon fill=\"#c8f0ff\" stroke=\"#58a0d3\" stroke-width=\"2\" points=\"572,-82.5 482,-82.5 482,-43.5 572,-43.5 572,-82.5\"/>\n",
       "<text text-anchor=\"middle\" x=\"527\" y=\"-59.3\" font-family=\"Helvetica,sans-Serif\" font-size=\"14.00\" fill=\"#000000\">w_copy</text>\n",
       "</g>\n",
       "<!-- project.contquery.w_calculate&#45;&gt;project.contquery.w_copy -->\n",
       "<g id=\"edge1\" class=\"edge\">\n",
       "<title>project.contquery.w_calculate&#45;&gt;project.contquery.w_copy</title>\n",
       "<path fill=\"none\" stroke=\"#000000\" d=\"M376.1818,-63C406.2551,-63 442.3942,-63 471.7563,-63\"/>\n",
       "<polygon fill=\"#000000\" stroke=\"#000000\" points=\"471.8384,-66.5001 481.8384,-63 471.8383,-59.5001 471.8384,-66.5001\"/>\n",
       "<text text-anchor=\"middle\" x=\"429\" y=\"-66.8\" font-family=\"Times,serif\" font-style=\"italic\" font-size=\"14.00\" fill=\"#000000\">data</text>\n",
       "</g>\n",
       "<!-- project.contquery.w_data -->\n",
       "<g id=\"node3\" class=\"node\">\n",
       "<title>project.contquery.w_data</title>\n",
       "<polygon fill=\"#c8f0ff\" stroke=\"#58a0d3\" stroke-width=\"2\" points=\"115.5,-112.5 27.5,-112.5 27.5,-73.5 115.5,-73.5 115.5,-112.5\"/>\n",
       "<text text-anchor=\"middle\" x=\"71.5\" y=\"-89.3\" font-family=\"Helvetica,sans-Serif\" font-size=\"14.00\" fill=\"#000000\">w_data</text>\n",
       "</g>\n",
       "<!-- project.contquery.w_data&#45;&gt;project.contquery.w_calculate -->\n",
       "<g id=\"edge2\" class=\"edge\">\n",
       "<title>project.contquery.w_data&#45;&gt;project.contquery.w_calculate</title>\n",
       "<path fill=\"none\" stroke=\"#000000\" d=\"M115.7771,-87.5672C152.0095,-83.1215 203.9252,-76.7515 245.8127,-71.6119\"/>\n",
       "<polygon fill=\"#000000\" stroke=\"#000000\" points=\"246.4557,-75.0594 255.955,-70.3675 245.6031,-68.1115 246.4557,-75.0594\"/>\n",
       "<text text-anchor=\"middle\" x=\"191.5\" y=\"-84.8\" font-family=\"Times,serif\" font-style=\"italic\" font-size=\"14.00\" fill=\"#000000\">data</text>\n",
       "</g>\n",
       "<!-- project.contquery.w_request -->\n",
       "<g id=\"node4\" class=\"node\">\n",
       "<title>project.contquery.w_request</title>\n",
       "<polygon fill=\"#c8f0ff\" stroke=\"#58a0d3\" stroke-width=\"2\" points=\"127,-55.5 16,-55.5 16,-16.5 127,-16.5 127,-55.5\"/>\n",
       "<text text-anchor=\"middle\" x=\"71.5\" y=\"-32.3\" font-family=\"Helvetica,sans-Serif\" font-size=\"14.00\" fill=\"#000000\">w_request</text>\n",
       "</g>\n",
       "<!-- project.contquery.w_request&#45;&gt;project.contquery.w_calculate -->\n",
       "<g id=\"edge3\" class=\"edge\">\n",
       "<title>project.contquery.w_request&#45;&gt;project.contquery.w_calculate</title>\n",
       "<path fill=\"none\" stroke=\"#000000\" d=\"M127.2868,-42.1605C162.3282,-46.0301 207.8369,-51.0556 245.3842,-55.2019\"/>\n",
       "<polygon fill=\"#000000\" stroke=\"#000000\" points=\"245.4243,-58.7276 255.7481,-56.3464 246.1927,-51.7699 245.4243,-58.7276\"/>\n",
       "<text text-anchor=\"middle\" x=\"191.5\" y=\"-55.8\" font-family=\"Times,serif\" font-style=\"italic\" font-size=\"14.00\" fill=\"#000000\">request</text>\n",
       "</g>\n",
       "</g>\n",
       "</svg>\n"
      ],
      "text/plain": [
       "Project(name='project')"
      ]
     },
     "execution_count": 10,
     "metadata": {},
     "output_type": "execute_result"
    }
   ],
   "source": [
    "walk = esp.load_project('model_walking.xml')\n",
    "walk"
   ]
  },
  {
   "cell_type": "code",
   "execution_count": 11,
   "metadata": {
    "collapsed": false,
    "jupyter": {
     "outputs_hidden": false
    }
   },
   "outputs": [
    {
     "data": {
      "text/plain": [
       "\"Project(name='project')\""
      ]
     },
     "execution_count": 11,
     "metadata": {},
     "output_type": "execute_result"
    }
   ],
   "source": [
    "str(walk)"
   ]
  },
  {
   "cell_type": "code",
   "execution_count": 12,
   "metadata": {
    "collapsed": false,
    "jupyter": {
     "outputs_hidden": false
    }
   },
   "outputs": [
    {
     "data": {
      "image/svg+xml": [
       "<?xml version=\"1.0\" encoding=\"UTF-8\" standalone=\"no\"?>\n",
       "<!DOCTYPE svg PUBLIC \"-//W3C//DTD SVG 1.1//EN\"\n",
       " \"http://www.w3.org/Graphics/SVG/1.1/DTD/svg11.dtd\">\n",
       "<!-- Generated by graphviz version 2.40.1 (20161225.0304)\n",
       " -->\n",
       "<!-- Title: %3 Pages: 1 -->\n",
       "<svg width=\"669pt\" height=\"310pt\"\n",
       " viewBox=\"0.00 0.00 669.00 310.00\" xmlns=\"http://www.w3.org/2000/svg\" xmlns:xlink=\"http://www.w3.org/1999/xlink\">\n",
       "<g id=\"graph0\" class=\"graph\" transform=\"scale(1 1) rotate(0) translate(4 306)\">\n",
       "<title>%3</title>\n",
       "<polygon fill=\"#ffffff\" stroke=\"transparent\" points=\"-4,4 -4,-306 665,-306 665,4 -4,4\"/>\n",
       "<g id=\"clust1\" class=\"cluster\">\n",
       "<title>cluster_project</title>\n",
       "<path fill=\"#dadada\" stroke=\"#c0c0c0\" stroke-width=\"2\" d=\"M20,-8C20,-8 641,-8 641,-8 647,-8 653,-14 653,-20 653,-20 653,-282 653,-282 653,-288 647,-294 641,-294 641,-294 20,-294 20,-294 14,-294 8,-288 8,-282 8,-282 8,-20 8,-20 8,-14 14,-8 20,-8\"/>\n",
       "<text text-anchor=\"middle\" x=\"41\" y=\"-278.8\" font-family=\"Helvetica,sans-Serif\" font-size=\"14.00\" fill=\"#000000\">project</text>\n",
       "</g>\n",
       "<!-- project.contquery.w_calculate -->\n",
       "<g id=\"node1\" class=\"node\">\n",
       "<title>project.contquery.w_calculate</title>\n",
       "<polygon fill=\"#c8f0ff\" stroke=\"#58a0d3\" stroke-width=\"2\" points=\"449,-172 293,-172 293,-58 449,-58 449,-172\"/>\n",
       "<text text-anchor=\"start\" x=\"329\" y=\"-148.8\" font-family=\"Helvetica,sans-Serif\" font-size=\"14.00\" fill=\"#000000\">w_calculate</text>\n",
       "<text text-anchor=\"start\" x=\"368.5\" y=\"-133.8\" font-family=\"Helvetica,sans-Serif\" font-size=\"14.00\" fill=\"#000000\"> </text>\n",
       "<text text-anchor=\"start\" x=\"330.5\" y=\"-119.8\" font-family=\"Helvetica,sans-Serif\" font-size=\"14.00\" fill=\"#000000\">🔑</text>\n",
       "<text text-anchor=\"start\" x=\"348.5\" y=\"-119.8\" font-family=\"Helvetica,sans-Serif\" font-size=\"14.00\" fill=\"#c49810\">id : int64</text>\n",
       "<text text-anchor=\"start\" x=\"335.5\" y=\"-103.8\" font-family=\"Helvetica,sans-Serif\" font-size=\"14.00\" fill=\"#808080\">x : double</text>\n",
       "<text text-anchor=\"start\" x=\"311\" y=\"-88.8\" font-family=\"Helvetica,sans-Serif\" font-size=\"14.00\" fill=\"#808080\">mean_x : double</text>\n",
       "<text text-anchor=\"start\" x=\"333.5\" y=\"-73.8\" font-family=\"Helvetica,sans-Serif\" font-size=\"14.00\" fill=\"#808080\">n_x : int64</text>\n",
       "</g>\n",
       "<!-- project.contquery.w_copy -->\n",
       "<g id=\"node2\" class=\"node\">\n",
       "<title>project.contquery.w_copy</title>\n",
       "<polygon fill=\"#c8f0ff\" stroke=\"#58a0d3\" stroke-width=\"2\" points=\"645,-142 555,-142 555,-88 645,-88 645,-142\"/>\n",
       "<text text-anchor=\"start\" x=\"573\" y=\"-118.8\" font-family=\"Helvetica,sans-Serif\" font-size=\"14.00\" fill=\"#000000\">w_copy</text>\n",
       "<text text-anchor=\"start\" x=\"597.5\" y=\"-103.8\" font-family=\"Helvetica,sans-Serif\" font-size=\"14.00\" fill=\"#000000\"> </text>\n",
       "</g>\n",
       "<!-- project.contquery.w_calculate&#45;&gt;project.contquery.w_copy -->\n",
       "<g id=\"edge1\" class=\"edge\">\n",
       "<title>project.contquery.w_calculate&#45;&gt;project.contquery.w_copy</title>\n",
       "<path fill=\"none\" stroke=\"#000000\" d=\"M449.1683,-115C480.5565,-115 516.0084,-115 544.6519,-115\"/>\n",
       "<polygon fill=\"#000000\" stroke=\"#000000\" points=\"544.8766,-118.5001 554.8766,-115 544.8765,-111.5001 544.8766,-118.5001\"/>\n",
       "<text text-anchor=\"middle\" x=\"502\" y=\"-118.8\" font-family=\"Times,serif\" font-style=\"italic\" font-size=\"14.00\" fill=\"#000000\">data</text>\n",
       "</g>\n",
       "<!-- project.contquery.w_data -->\n",
       "<g id=\"node3\" class=\"node\">\n",
       "<title>project.contquery.w_data</title>\n",
       "<polygon fill=\"#c8f0ff\" stroke=\"#58a0d3\" stroke-width=\"2\" points=\"155.5,-262.5 24.5,-262.5 24.5,-133.5 155.5,-133.5 155.5,-262.5\"/>\n",
       "<text text-anchor=\"start\" x=\"64.5\" y=\"-238.8\" font-family=\"Helvetica,sans-Serif\" font-size=\"14.00\" fill=\"#000000\">w_data</text>\n",
       "<text text-anchor=\"start\" x=\"88\" y=\"-223.8\" font-family=\"Helvetica,sans-Serif\" font-size=\"14.00\" fill=\"#000000\"> </text>\n",
       "<text text-anchor=\"start\" x=\"50\" y=\"-209.8\" font-family=\"Helvetica,sans-Serif\" font-size=\"14.00\" fill=\"#000000\">🔑</text>\n",
       "<text text-anchor=\"start\" x=\"68\" y=\"-209.8\" font-family=\"Helvetica,sans-Serif\" font-size=\"14.00\" fill=\"#c49810\">id : int64</text>\n",
       "<text text-anchor=\"start\" x=\"43\" y=\"-193.8\" font-family=\"Helvetica,sans-Serif\" font-size=\"14.00\" fill=\"#808080\">time : double</text>\n",
       "<text text-anchor=\"start\" x=\"55\" y=\"-178.8\" font-family=\"Helvetica,sans-Serif\" font-size=\"14.00\" fill=\"#808080\">x : double</text>\n",
       "<text text-anchor=\"start\" x=\"55\" y=\"-163.8\" font-family=\"Helvetica,sans-Serif\" font-size=\"14.00\" fill=\"#808080\">y : double</text>\n",
       "<text text-anchor=\"start\" x=\"55.5\" y=\"-148.8\" font-family=\"Helvetica,sans-Serif\" font-size=\"14.00\" fill=\"#808080\">z : double</text>\n",
       "</g>\n",
       "<!-- project.contquery.w_data&#45;&gt;project.contquery.w_calculate -->\n",
       "<g id=\"edge2\" class=\"edge\">\n",
       "<title>project.contquery.w_data&#45;&gt;project.contquery.w_calculate</title>\n",
       "<path fill=\"none\" stroke=\"#000000\" d=\"M155.5274,-178.6449C193.5123,-167.4252 241.8367,-153.1514 283.0913,-140.9659\"/>\n",
       "<polygon fill=\"#000000\" stroke=\"#000000\" points=\"284.2691,-144.2676 292.868,-138.0781 282.2861,-137.5543 284.2691,-144.2676\"/>\n",
       "<text text-anchor=\"middle\" x=\"228.5\" y=\"-167.8\" font-family=\"Times,serif\" font-style=\"italic\" font-size=\"14.00\" fill=\"#000000\">data</text>\n",
       "</g>\n",
       "<!-- project.contquery.w_request -->\n",
       "<g id=\"node4\" class=\"node\">\n",
       "<title>project.contquery.w_request</title>\n",
       "<polygon fill=\"#c8f0ff\" stroke=\"#58a0d3\" stroke-width=\"2\" points=\"164,-115.5 16,-115.5 16,-16.5 164,-16.5 164,-115.5\"/>\n",
       "<text text-anchor=\"start\" x=\"52.5\" y=\"-91.8\" font-family=\"Helvetica,sans-Serif\" font-size=\"14.00\" fill=\"#000000\">w_request</text>\n",
       "<text text-anchor=\"start\" x=\"87.5\" y=\"-76.8\" font-family=\"Helvetica,sans-Serif\" font-size=\"14.00\" fill=\"#000000\"> </text>\n",
       "<text text-anchor=\"start\" x=\"34\" y=\"-62.8\" font-family=\"Helvetica,sans-Serif\" font-size=\"14.00\" fill=\"#000000\">🔑</text>\n",
       "<text text-anchor=\"start\" x=\"52\" y=\"-62.8\" font-family=\"Helvetica,sans-Serif\" font-size=\"14.00\" fill=\"#c49810\">req_id : int64</text>\n",
       "<text text-anchor=\"start\" x=\"34.5\" y=\"-46.8\" font-family=\"Helvetica,sans-Serif\" font-size=\"14.00\" fill=\"#808080\">req_key : string</text>\n",
       "<text text-anchor=\"start\" x=\"36.5\" y=\"-31.8\" font-family=\"Helvetica,sans-Serif\" font-size=\"14.00\" fill=\"#808080\">req_val : string</text>\n",
       "</g>\n",
       "<!-- project.contquery.w_request&#45;&gt;project.contquery.w_calculate -->\n",
       "<g id=\"edge3\" class=\"edge\">\n",
       "<title>project.contquery.w_request&#45;&gt;project.contquery.w_calculate</title>\n",
       "<path fill=\"none\" stroke=\"#000000\" d=\"M164.197,-78.9383C200.6173,-85.2891 244.7499,-92.9849 282.8769,-99.6333\"/>\n",
       "<polygon fill=\"#000000\" stroke=\"#000000\" points=\"282.4919,-103.1189 292.9445,-101.3889 283.6945,-96.223 282.4919,-103.1189\"/>\n",
       "<text text-anchor=\"middle\" x=\"228.5\" y=\"-97.8\" font-family=\"Times,serif\" font-style=\"italic\" font-size=\"14.00\" fill=\"#000000\">request</text>\n",
       "</g>\n",
       "</g>\n",
       "</svg>\n"
      ],
      "text/plain": [
       "<graphviz.dot.Digraph at 0x7f80b1484990>"
      ]
     },
     "execution_count": 12,
     "metadata": {},
     "output_type": "execute_result"
    }
   ],
   "source": [
    "walk.to_graph(schema=True)"
   ]
  },
  {
   "cell_type": "markdown",
   "metadata": {},
   "source": [
    "### Get References to Project Components"
   ]
  },
  {
   "cell_type": "code",
   "execution_count": 13,
   "metadata": {
    "collapsed": false,
    "jupyter": {
     "outputs_hidden": false
    }
   },
   "outputs": [
    {
     "data": {
      "text/plain": [
       "{'contquery': ContinuousQuery(name='contquery', project='project')}"
      ]
     },
     "execution_count": 13,
     "metadata": {},
     "output_type": "execute_result"
    }
   ],
   "source": [
    "walk.queries"
   ]
  },
  {
   "cell_type": "code",
   "execution_count": 14,
   "metadata": {
    "collapsed": false,
    "jupyter": {
     "outputs_hidden": false
    }
   },
   "outputs": [
    {
     "data": {
      "text/plain": [
       "{'w_data': SourceWindow(name='w_data', contquery='contquery', project='project'), 'w_request': SourceWindow(name='w_request', contquery='contquery', project='project'), 'w_calculate': CalculateWindow(name='w_calculate', contquery='contquery', project='project'), 'w_copy': CopyWindow(name='w_copy', contquery='contquery', project='project')}"
      ]
     },
     "execution_count": 14,
     "metadata": {},
     "output_type": "execute_result"
    }
   ],
   "source": [
    "walk.queries['contquery'].windows"
   ]
  },
  {
   "cell_type": "markdown",
   "metadata": {},
   "source": [
    "Specifying `queries` and `windows` is optional.  The `Project` and `ContinuousQuery` objects act like dictionaries so you can access the sub-objects directly using indexing. "
   ]
  },
  {
   "cell_type": "code",
   "execution_count": 15,
   "metadata": {},
   "outputs": [],
   "source": [
    "dataw = walk.queries['contquery'].windows['w_data']\n",
    "calcw = walk['contquery']['w_calculate']\n",
    "copyw = walk['contquery']['w_copy']"
   ]
  },
  {
   "cell_type": "code",
   "execution_count": 16,
   "metadata": {
    "collapsed": false,
    "jupyter": {
     "outputs_hidden": false
    }
   },
   "outputs": [
    {
     "data": {
      "text/plain": [
       "\"SourceWindow(name='w_data', contquery='contquery', project='project')\""
      ]
     },
     "execution_count": 16,
     "metadata": {},
     "output_type": "execute_result"
    }
   ],
   "source": [
    "str(dataw)"
   ]
  },
  {
   "cell_type": "code",
   "execution_count": 17,
   "metadata": {
    "collapsed": false,
    "jupyter": {
     "outputs_hidden": false
    }
   },
   "outputs": [
    {
     "data": {
      "image/svg+xml": [
       "<?xml version=\"1.0\" encoding=\"UTF-8\" standalone=\"no\"?>\n",
       "<!DOCTYPE svg PUBLIC \"-//W3C//DTD SVG 1.1//EN\"\n",
       " \"http://www.w3.org/Graphics/SVG/1.1/DTD/svg11.dtd\">\n",
       "<!-- Generated by graphviz version 2.40.1 (20161225.0304)\n",
       " -->\n",
       "<!-- Title: %3 Pages: 1 -->\n",
       "<svg width=\"139pt\" height=\"137pt\"\n",
       " viewBox=\"0.00 0.00 139.00 137.00\" xmlns=\"http://www.w3.org/2000/svg\" xmlns:xlink=\"http://www.w3.org/1999/xlink\">\n",
       "<g id=\"graph0\" class=\"graph\" transform=\"scale(1 1) rotate(0) translate(4 133)\">\n",
       "<title>%3</title>\n",
       "<polygon fill=\"#ffffff\" stroke=\"transparent\" points=\"-4,4 -4,-133 135,-133 135,4 -4,4\"/>\n",
       "<!-- project.contquery.w_data -->\n",
       "<g id=\"node1\" class=\"node\">\n",
       "<title>project.contquery.w_data</title>\n",
       "<polygon fill=\"#c8f0ff\" stroke=\"#58a0d3\" stroke-width=\"2\" points=\"131,-129 0,-129 0,0 131,0 131,-129\"/>\n",
       "<text text-anchor=\"start\" x=\"40\" y=\"-105.3\" font-family=\"Helvetica,sans-Serif\" font-size=\"14.00\" fill=\"#000000\">w_data</text>\n",
       "<text text-anchor=\"start\" x=\"63.5\" y=\"-90.3\" font-family=\"Helvetica,sans-Serif\" font-size=\"14.00\" fill=\"#000000\"> </text>\n",
       "<text text-anchor=\"start\" x=\"25.5\" y=\"-76.3\" font-family=\"Helvetica,sans-Serif\" font-size=\"14.00\" fill=\"#000000\">🔑</text>\n",
       "<text text-anchor=\"start\" x=\"43.5\" y=\"-76.3\" font-family=\"Helvetica,sans-Serif\" font-size=\"14.00\" fill=\"#c49810\">id : int64</text>\n",
       "<text text-anchor=\"start\" x=\"18.5\" y=\"-60.3\" font-family=\"Helvetica,sans-Serif\" font-size=\"14.00\" fill=\"#808080\">time : double</text>\n",
       "<text text-anchor=\"start\" x=\"30.5\" y=\"-45.3\" font-family=\"Helvetica,sans-Serif\" font-size=\"14.00\" fill=\"#808080\">x : double</text>\n",
       "<text text-anchor=\"start\" x=\"30.5\" y=\"-30.3\" font-family=\"Helvetica,sans-Serif\" font-size=\"14.00\" fill=\"#808080\">y : double</text>\n",
       "<text text-anchor=\"start\" x=\"31\" y=\"-15.3\" font-family=\"Helvetica,sans-Serif\" font-size=\"14.00\" fill=\"#808080\">z : double</text>\n",
       "</g>\n",
       "</g>\n",
       "</svg>\n"
      ],
      "text/plain": [
       "<graphviz.dot.Digraph at 0x7f80b14bc6d0>"
      ]
     },
     "execution_count": 17,
     "metadata": {},
     "output_type": "execute_result"
    }
   ],
   "source": [
    "dataw.to_graph()"
   ]
  },
  {
   "cell_type": "code",
   "execution_count": 18,
   "metadata": {
    "collapsed": false,
    "jupyter": {
     "outputs_hidden": false
    }
   },
   "outputs": [],
   "source": [
    "# dataw."
   ]
  },
  {
   "cell_type": "markdown",
   "metadata": {},
   "source": [
    "## Event Generators"
   ]
  },
  {
   "cell_type": "code",
   "execution_count": 19,
   "metadata": {
    "collapsed": false,
    "jupyter": {
     "outputs_hidden": false
    }
   },
   "outputs": [
    {
     "name": "stdout",
     "output_type": "stream",
     "text": [
      "I,N,1,0,0.69464,3.1735,7.5048\n",
      "I,N,2,0.030639,0.14982,3.4868,9.2755\n",
      "I,N,3,0.069763,-0.29965,1.9477,9.112\n",
      "I,N,4,0.099823,-1.6889,1.4165,10.12\n",
      "I,N,5,0.12982,-2.1793,0.95342,10.924\n",
      "I,N,6,0.15979,-2.3018,0.23155,10.651\n",
      "I,N,7,0.18982,-1.4165,1.185,11.073\n",
      "I,N,8,0.2204,-0.27241,2.2201,11.986\n",
      "I,N,9,0.24976,-0.61292,2.2201,11.986\n",
      "I,N,10,0.27972,1.3348,4.2495,11.414\n"
     ]
    }
   ],
   "source": [
    "%%sh\n",
    "head model_walking.csv"
   ]
  },
  {
   "cell_type": "code",
   "execution_count": 20,
   "metadata": {
    "collapsed": false,
    "jupyter": {
     "outputs_hidden": false
    }
   },
   "outputs": [
    {
     "data": {
      "text/plain": [
       "EventGenerator(name='eg_sbw3zz0tw1', publish_target='dfESP://espsrv01:7778/project/contquery/w_data')"
      ]
     },
     "execution_count": 20,
     "metadata": {},
     "output_type": "execute_result"
    }
   ],
   "source": [
    "import os\n",
    "\n",
    "# Using a URL path means the file must be accesible on the server-side\n",
    "egen = dataw.create_event_generator('file:///%s' % os.path.abspath('model_walking.csv'))\n",
    "egen"
   ]
  },
  {
   "cell_type": "code",
   "execution_count": 21,
   "metadata": {},
   "outputs": [],
   "source": [
    "egen.start(pause=200)"
   ]
  },
  {
   "cell_type": "markdown",
   "metadata": {},
   "source": [
    "## Streaming DataFrames"
   ]
  },
  {
   "cell_type": "code",
   "execution_count": 22,
   "metadata": {},
   "outputs": [],
   "source": [
    "dataw.subscribe(limit=20)"
   ]
  },
  {
   "cell_type": "markdown",
   "metadata": {},
   "source": [
    "You may have to wait a couple of seconds for the data to show up here.  If you execute the cell repeatedly, it will show the new events added each time."
   ]
  },
  {
   "cell_type": "code",
   "execution_count": 23,
   "metadata": {
    "collapsed": false,
    "jupyter": {
     "outputs_hidden": false
    }
   },
   "outputs": [
    {
     "data": {
      "image/svg+xml": [
       "<?xml version=\"1.0\" encoding=\"UTF-8\" standalone=\"no\"?>\n",
       "<!DOCTYPE svg PUBLIC \"-//W3C//DTD SVG 1.1//EN\"\n",
       " \"http://www.w3.org/Graphics/SVG/1.1/DTD/svg11.dtd\">\n",
       "<!-- Generated by graphviz version 2.40.1 (20161225.0304)\n",
       " -->\n",
       "<!-- Title: %3 Pages: 1 -->\n",
       "<svg width=\"139.0pt\" height=\"137.0pt\"\n",
       " viewBox=\"0.00 0.00 139.00 137.00\" xmlns=\"http://www.w3.org/2000/svg\" xmlns:xlink=\"http://www.w3.org/1999/xlink\">\n",
       "<g id=\"graph0\" class=\"graph\" transform=\"scale(1 1) rotate(0) translate(4 133)\">\n",
       "<title>%3</title>\n",
       "<polygon fill=\"#ffffff\" stroke=\"transparent\" points=\"-4,4 -4,-133 135,-133 135,4 -4,4\"/>\n",
       "<!-- project.contquery.w_data -->\n",
       "<g id=\"node1\" class=\"node\">\n",
       "<title>project.contquery.w_data</title>\n",
       "<polygon fill=\"#c8f0ff\" stroke=\"#58a0d3\" stroke-width=\"2\" points=\"131,-129 0,-129 0,0 131,0 131,-129\"/>\n",
       "<text text-anchor=\"start\" x=\"40\" y=\"-105.3\" font-family=\"Helvetica,sans-Serif\" font-size=\"14.00\" fill=\"#000000\">w_data</text>\n",
       "<text text-anchor=\"start\" x=\"63.5\" y=\"-90.3\" font-family=\"Helvetica,sans-Serif\" font-size=\"14.00\" fill=\"#000000\"> </text>\n",
       "<text text-anchor=\"start\" x=\"25.5\" y=\"-76.3\" font-family=\"Helvetica,sans-Serif\" font-size=\"14.00\" fill=\"#000000\">🔑</text>\n",
       "<text text-anchor=\"start\" x=\"43.5\" y=\"-76.3\" font-family=\"Helvetica,sans-Serif\" font-size=\"14.00\" fill=\"#c49810\">id : int64</text>\n",
       "<text text-anchor=\"start\" x=\"18.5\" y=\"-60.3\" font-family=\"Helvetica,sans-Serif\" font-size=\"14.00\" fill=\"#808080\">time : double</text>\n",
       "<text text-anchor=\"start\" x=\"30.5\" y=\"-45.3\" font-family=\"Helvetica,sans-Serif\" font-size=\"14.00\" fill=\"#808080\">x : double</text>\n",
       "<text text-anchor=\"start\" x=\"30.5\" y=\"-30.3\" font-family=\"Helvetica,sans-Serif\" font-size=\"14.00\" fill=\"#808080\">y : double</text>\n",
       "<text text-anchor=\"start\" x=\"31\" y=\"-15.3\" font-family=\"Helvetica,sans-Serif\" font-size=\"14.00\" fill=\"#808080\">z : double</text>\n",
       "</g>\n",
       "</g>\n",
       "</svg>\n"
      ],
      "text/html": [
       "<div>\n",
       "<style scoped>\n",
       "    .dataframe tbody tr th:only-of-type {\n",
       "        vertical-align: middle;\n",
       "    }\n",
       "\n",
       "    .dataframe tbody tr th {\n",
       "        vertical-align: top;\n",
       "    }\n",
       "\n",
       "    .dataframe thead th {\n",
       "        text-align: right;\n",
       "    }\n",
       "</style>\n",
       "<table border=\"1\" class=\"dataframe\">\n",
       "  <thead>\n",
       "    <tr style=\"text-align: right;\">\n",
       "      <th></th>\n",
       "      <th>time</th>\n",
       "      <th>x</th>\n",
       "      <th>y</th>\n",
       "      <th>z</th>\n",
       "    </tr>\n",
       "    <tr>\n",
       "      <th>id</th>\n",
       "      <th></th>\n",
       "      <th></th>\n",
       "      <th></th>\n",
       "      <th></th>\n",
       "    </tr>\n",
       "  </thead>\n",
       "  <tbody>\n",
       "  </tbody>\n",
       "</table>\n",
       "</div>"
      ],
      "text/plain": [
       "Empty DataFrame\n",
       "Columns: [time, x, y, z]\n",
       "Index: []"
      ]
     },
     "execution_count": 23,
     "metadata": {},
     "output_type": "execute_result"
    }
   ],
   "source": [
    "dataw"
   ]
  },
  {
   "cell_type": "markdown",
   "metadata": {},
   "source": [
    "### Using DataFrame Plotting Features"
   ]
  },
  {
   "cell_type": "code",
   "execution_count": 24,
   "metadata": {},
   "outputs": [],
   "source": [
    "%matplotlib inline"
   ]
  },
  {
   "cell_type": "code",
   "execution_count": 25,
   "metadata": {
    "collapsed": false,
    "jupyter": {
     "outputs_hidden": false
    }
   },
   "outputs": [
    {
     "name": "stderr",
     "output_type": "stream",
     "text": [
      "/mnt/data/share/install/anaconda3/envs/esp/lib/python3.7/site-packages/pandas/plotting/_matplotlib/core.py:1085: UserWarning:\n",
      "\n",
      "Attempting to set identical left == right == 0.0 results in singular transformations; automatically expanding.\n",
      "\n"
     ]
    },
    {
     "data": {
      "text/plain": [
       "<matplotlib.axes._subplots.AxesSubplot at 0x7f80b1513110>"
      ]
     },
     "execution_count": 25,
     "metadata": {},
     "output_type": "execute_result"
    },
    {
     "data": {
      "image/png": "[encoded data removed]",
      "text/plain": [
       "<Figure size 1080x432 with 1 Axes>"
      ]
     },
     "metadata": {
      "needs_background": "light"
     },
     "output_type": "display_data"
    }
   ],
   "source": [
    "dataw.sort_values('time', ascending=True).plot('time', ['x', 'y', 'z'], figsize=(15, 6))"
   ]
  },
  {
   "cell_type": "code",
   "execution_count": 26,
   "metadata": {
    "collapsed": false,
    "jupyter": {
     "outputs_hidden": false
    }
   },
   "outputs": [
    {
     "data": {
      "text/plain": [
       "<matplotlib.axes._subplots.AxesSubplot at 0x7f80b159aad0>"
      ]
     },
     "execution_count": 26,
     "metadata": {},
     "output_type": "execute_result"
    },
    {
     "data": {
      "image/png": "[encoded data removed]",
      "text/plain": [
       "<Figure size 1080x432 with 1 Axes>"
      ]
     },
     "metadata": {
      "needs_background": "light"
     },
     "output_type": "display_data"
    }
   ],
   "source": [
    "dataw.sort_values('time', ascending=True).plot('time', ['x', 'y', 'z'], figsize=(15, 6))"
   ]
  },
  {
   "cell_type": "markdown",
   "metadata": {},
   "source": [
    "## Streaming Figures"
   ]
  },
  {
   "cell_type": "code",
   "execution_count": 27,
   "metadata": {},
   "outputs": [
    {
     "data": {
      "application/vnd.jupyter.widget-view+json": {
       "model_id": "3d7eb3beacdc4b679e2df4b35dcd61f0",
       "version_major": 2,
       "version_minor": 0
      },
      "text/plain": [
       "LineChart(children=(VBox(children=(HTML(value=\"<div style='font-size:12pt;text-align:center'>project/contquery…"
      ]
     },
     "metadata": {},
     "output_type": "display_data"
    }
   ],
   "source": [
    "stream = conn.getEventStream(dataw,ignore_deletes=True,maxevents=5)\n",
    "line = visuals.createLineChart(stream,x=\"time\",y=[\"x\",\"y\",\"z\"],width=\"600\",yrange=[-16,16],line_width=4,curved=True)\n",
    "line"
   ]
  },
  {
   "cell_type": "code",
   "execution_count": 28,
   "metadata": {},
   "outputs": [],
   "source": [
    "## Create a New Project Programmatically"
   ]
  },
  {
   "cell_type": "code",
   "execution_count": 29,
   "metadata": {
    "collapsed": false,
    "jupyter": {
     "outputs_hidden": false
    }
   },
   "outputs": [
    {
     "data": {
      "image/svg+xml": [
       "<?xml version=\"1.0\" encoding=\"UTF-8\" standalone=\"no\"?>\n",
       "<!DOCTYPE svg PUBLIC \"-//W3C//DTD SVG 1.1//EN\"\n",
       " \"http://www.w3.org/Graphics/SVG/1.1/DTD/svg11.dtd\">\n",
       "<!-- Generated by graphviz version 2.40.1 (20161225.0304)\n",
       " -->\n",
       "<!-- Title: %3 Pages: 1 -->\n",
       "<svg width=\"82.0pt\" height=\"44.0pt\"\n",
       " viewBox=\"0.00 0.00 82.00 44.00\" xmlns=\"http://www.w3.org/2000/svg\" xmlns:xlink=\"http://www.w3.org/1999/xlink\">\n",
       "<g id=\"graph0\" class=\"graph\" transform=\"scale(1 1) rotate(0) translate(4 40)\">\n",
       "<title>%3</title>\n",
       "<polygon fill=\"#ffffff\" stroke=\"transparent\" points=\"-4,4 -4,-40 78,-40 78,4 -4,4\"/>\n",
       "<!-- kmeans -->\n",
       "<g id=\"node1\" class=\"node\">\n",
       "<title>kmeans</title>\n",
       "<path fill=\"#dadada\" stroke=\"#c0c0c0\" stroke-width=\"2\" d=\"M62,-36C62,-36 12,-36 12,-36 6,-36 0,-30 0,-24 0,-24 0,-12 0,-12 0,-6 6,0 12,0 12,0 62,0 62,0 68,0 74,-6 74,-12 74,-12 74,-24 74,-24 74,-30 68,-36 62,-36\"/>\n",
       "<text text-anchor=\"middle\" x=\"37\" y=\"-14.3\" font-family=\"Helvetica,sans-Serif\" font-size=\"14.00\" fill=\"#000000\">kmeans</text>\n",
       "</g>\n",
       "</g>\n",
       "</svg>\n"
      ],
      "text/plain": [
       "Project(name='kmeans')"
      ]
     },
     "execution_count": 29,
     "metadata": {},
     "output_type": "execute_result"
    }
   ],
   "source": [
    "proj = esp.create_project('kmeans')\n",
    "proj"
   ]
  },
  {
   "cell_type": "markdown",
   "metadata": {},
   "source": [
    "### Add a Source Window"
   ]
  },
  {
   "cell_type": "code",
   "execution_count": 30,
   "metadata": {
    "collapsed": false,
    "jupyter": {
     "outputs_hidden": false
    }
   },
   "outputs": [
    {
     "data": {
      "image/svg+xml": [
       "<?xml version=\"1.0\" encoding=\"UTF-8\" standalone=\"no\"?>\n",
       "<!DOCTYPE svg PUBLIC \"-//W3C//DTD SVG 1.1//EN\"\n",
       " \"http://www.w3.org/Graphics/SVG/1.1/DTD/svg11.dtd\">\n",
       "<!-- Generated by graphviz version 2.40.1 (20161225.0304)\n",
       " -->\n",
       "<!-- Title: %3 Pages: 1 -->\n",
       "<svg width=\"128.0pt\" height=\"103.0pt\"\n",
       " viewBox=\"0.00 0.00 128.00 103.00\" xmlns=\"http://www.w3.org/2000/svg\" xmlns:xlink=\"http://www.w3.org/1999/xlink\">\n",
       "<g id=\"graph0\" class=\"graph\" transform=\"scale(1 1) rotate(0) translate(4 99)\">\n",
       "<title>%3</title>\n",
       "<polygon fill=\"#ffffff\" stroke=\"transparent\" points=\"-4,4 -4,-99 124,-99 124,4 -4,4\"/>\n",
       "<g id=\"clust1\" class=\"cluster\">\n",
       "<title>cluster_kmeans</title>\n",
       "<path fill=\"#dadada\" stroke=\"#c0c0c0\" stroke-width=\"2\" d=\"M20,-8C20,-8 100,-8 100,-8 106,-8 112,-14 112,-20 112,-20 112,-75 112,-75 112,-81 106,-87 100,-87 100,-87 20,-87 20,-87 14,-87 8,-81 8,-75 8,-75 8,-20 8,-20 8,-14 14,-8 20,-8\"/>\n",
       "<text text-anchor=\"middle\" x=\"45\" y=\"-71.8\" font-family=\"Helvetica,sans-Serif\" font-size=\"14.00\" fill=\"#000000\">kmeans</text>\n",
       "</g>\n",
       "<!-- kmeans.contquery.w_data -->\n",
       "<g id=\"node1\" class=\"node\">\n",
       "<title>kmeans.contquery.w_data</title>\n",
       "<polygon fill=\"#c8f0ff\" stroke=\"#58a0d3\" stroke-width=\"2\" points=\"104,-55.5 16,-55.5 16,-16.5 104,-16.5 104,-55.5\"/>\n",
       "<text text-anchor=\"middle\" x=\"60\" y=\"-32.3\" font-family=\"Helvetica,sans-Serif\" font-size=\"14.00\" fill=\"#000000\">w_data</text>\n",
       "</g>\n",
       "</g>\n",
       "</svg>\n"
      ],
      "text/plain": [
       "Project(name='kmeans')"
      ]
     },
     "execution_count": 30,
     "metadata": {},
     "output_type": "execute_result"
    }
   ],
   "source": [
    "src = esp.SourceWindow(schema=('id*:int64', 'x_c:double', 'y_c:double'),\n",
    "                       index_type='pi_EMPTY', insert_only=True)\n",
    "proj.windows['w_data'] = src\n",
    "proj"
   ]
  },
  {
   "cell_type": "markdown",
   "metadata": {},
   "source": [
    "### Add a Training Window"
   ]
  },
  {
   "cell_type": "markdown",
   "metadata": {},
   "source": [
    "Using tab-completion here, you can see all of the training windows available on your ESP server."
   ]
  },
  {
   "cell_type": "code",
   "execution_count": 31,
   "metadata": {
    "collapsed": false,
    "jupyter": {
     "outputs_hidden": false
    }
   },
   "outputs": [],
   "source": [
    "# esp.train."
   ]
  },
  {
   "cell_type": "markdown",
   "metadata": {},
   "source": [
    "Using the help system, you can see what parameters are available on each window."
   ]
  },
  {
   "cell_type": "code",
   "execution_count": 32,
   "metadata": {},
   "outputs": [
    {
     "data": {
      "text/plain": [
       "\u001b[0;31mInit signature:\u001b[0m\n",
       "\u001b[0mesp\u001b[0m\u001b[0;34m.\u001b[0m\u001b[0mtrain\u001b[0m\u001b[0;34m.\u001b[0m\u001b[0mKMEANS\u001b[0m\u001b[0;34m(\u001b[0m\u001b[0;34m\u001b[0m\n",
       "\u001b[0;34m\u001b[0m    \u001b[0mname\u001b[0m\u001b[0;34m=\u001b[0m\u001b[0;32mNone\u001b[0m\u001b[0;34m,\u001b[0m\u001b[0;34m\u001b[0m\n",
       "\u001b[0;34m\u001b[0m    \u001b[0mpubsub\u001b[0m\u001b[0;34m=\u001b[0m\u001b[0;32mNone\u001b[0m\u001b[0;34m,\u001b[0m\u001b[0;34m\u001b[0m\n",
       "\u001b[0;34m\u001b[0m    \u001b[0mcommitInterval\u001b[0m\u001b[0;34m=\u001b[0m\u001b[0;36m25\u001b[0m\u001b[0;34m,\u001b[0m\u001b[0;34m\u001b[0m\n",
       "\u001b[0;34m\u001b[0m    \u001b[0mdampingFactor\u001b[0m\u001b[0;34m=\u001b[0m\u001b[0;36m0.8\u001b[0m\u001b[0;34m,\u001b[0m\u001b[0;34m\u001b[0m\n",
       "\u001b[0;34m\u001b[0m    \u001b[0mdisturbFactor\u001b[0m\u001b[0;34m=\u001b[0m\u001b[0;36m0.01\u001b[0m\u001b[0;34m,\u001b[0m\u001b[0;34m\u001b[0m\n",
       "\u001b[0;34m\u001b[0m    \u001b[0mfadeOutFactor\u001b[0m\u001b[0;34m=\u001b[0m\u001b[0;36m0.05\u001b[0m\u001b[0;34m,\u001b[0m\u001b[0;34m\u001b[0m\n",
       "\u001b[0;34m\u001b[0m    \u001b[0minitSeed\u001b[0m\u001b[0;34m=\u001b[0m\u001b[0;36m12345\u001b[0m\u001b[0;34m,\u001b[0m\u001b[0;34m\u001b[0m\n",
       "\u001b[0;34m\u001b[0m    \u001b[0mnClusters\u001b[0m\u001b[0;34m=\u001b[0m\u001b[0;36m2\u001b[0m\u001b[0;34m,\u001b[0m\u001b[0;34m\u001b[0m\n",
       "\u001b[0;34m\u001b[0m    \u001b[0mnInit\u001b[0m\u001b[0;34m=\u001b[0m\u001b[0;36m50\u001b[0m\u001b[0;34m,\u001b[0m\u001b[0;34m\u001b[0m\n",
       "\u001b[0;34m\u001b[0m    \u001b[0mvelocity\u001b[0m\u001b[0;34m=\u001b[0m\u001b[0;36m1\u001b[0m\u001b[0;34m,\u001b[0m\u001b[0;34m\u001b[0m\n",
       "\u001b[0;34m\u001b[0m    \u001b[0minput_map\u001b[0m\u001b[0;34m=\u001b[0m\u001b[0;32mNone\u001b[0m\u001b[0;34m,\u001b[0m\u001b[0;34m\u001b[0m\n",
       "\u001b[0;34m\u001b[0m\u001b[0;34m)\u001b[0m\u001b[0;34m\u001b[0m\u001b[0;34m\u001b[0m\u001b[0m\n",
       "\u001b[0;31mDocstring:\u001b[0m     \n",
       "KMEANS\n",
       "\n",
       "Parameters\n",
       "----------\n",
       "name : string, optional\n",
       "    The name of the window\n",
       "commitInterval : int64, optional\n",
       "    Specifies the number of timestamps to be elapsed before triggering a commit\n",
       "    of model to downstream scoring.\n",
       "dampingFactor : double, optional\n",
       "    Specifies the damping factor \\alpha (0<=\\alpha<=1) for old data points.\n",
       "disturbFactor : double, optional\n",
       "    Specifies the factor \\delta (\\delta >0) for the disturbance when splitting a\n",
       "    cluster.\n",
       "fadeOutFactor : double, optional\n",
       "    Specifies the factor \\theta (0<\\theta<1) for determining whether an existing\n",
       "    cluster is fading out.\n",
       "initSeed : int32, optional\n",
       "    Specifies the random seed used during initialization when each points is\n",
       "    assigned to a random cluster\n",
       "nClusters : int32, optional\n",
       "    Specifies the number of clusters k (k>0) to report\n",
       "nInit : int64, optional\n",
       "    Specifies the number of data events used during initialization\n",
       "velocity : int64, optional\n",
       "    Specifies the number of events arriving at a single timestamp\n",
       "input_map : dict, optional\n",
       "    The input variable map entries\n",
       "\n",
       "See Also\n",
       "--------\n",
       "set_inputs\n",
       "set_outputs\n",
       "\n",
       "Notes\n",
       "-----\n",
       "** Input Map Entries **\n",
       "\n",
       "inputs : list-of-strings\n",
       "    Specifies the list of variable names used in clustering.\n",
       "\u001b[0;31mFile:\u001b[0m           ~/work/python/esppy7.1/esppy/connection.py\n",
       "\u001b[0;31mType:\u001b[0m           type\n",
       "\u001b[0;31mSubclasses:\u001b[0m     \n"
      ]
     },
     "metadata": {},
     "output_type": "display_data"
    }
   ],
   "source": [
    "esp.train.KMEANS?"
   ]
  },
  {
   "cell_type": "code",
   "execution_count": 33,
   "metadata": {
    "collapsed": false,
    "jupyter": {
     "outputs_hidden": false
    }
   },
   "outputs": [
    {
     "data": {
      "image/svg+xml": [
       "<?xml version=\"1.0\" encoding=\"UTF-8\" standalone=\"no\"?>\n",
       "<!DOCTYPE svg PUBLIC \"-//W3C//DTD SVG 1.1//EN\"\n",
       " \"http://www.w3.org/Graphics/SVG/1.1/DTD/svg11.dtd\">\n",
       "<!-- Generated by graphviz version 2.40.1 (20161225.0304)\n",
       " -->\n",
       "<!-- Title: %3 Pages: 1 -->\n",
       "<svg width=\"194.0pt\" height=\"160.0pt\"\n",
       " viewBox=\"0.00 0.00 194.00 160.00\" xmlns=\"http://www.w3.org/2000/svg\" xmlns:xlink=\"http://www.w3.org/1999/xlink\">\n",
       "<g id=\"graph0\" class=\"graph\" transform=\"scale(1 1) rotate(0) translate(4 156)\">\n",
       "<title>%3</title>\n",
       "<polygon fill=\"#ffffff\" stroke=\"transparent\" points=\"-4,4 -4,-156 190,-156 190,4 -4,4\"/>\n",
       "<g id=\"clust1\" class=\"cluster\">\n",
       "<title>cluster_kmeans</title>\n",
       "<path fill=\"#dadada\" stroke=\"#c0c0c0\" stroke-width=\"2\" d=\"M20,-8C20,-8 166,-8 166,-8 172,-8 178,-14 178,-20 178,-20 178,-132 178,-132 178,-138 172,-144 166,-144 166,-144 20,-144 20,-144 14,-144 8,-138 8,-132 8,-132 8,-20 8,-20 8,-14 14,-8 20,-8\"/>\n",
       "<text text-anchor=\"middle\" x=\"45\" y=\"-128.8\" font-family=\"Helvetica,sans-Serif\" font-size=\"14.00\" fill=\"#000000\">kmeans</text>\n",
       "</g>\n",
       "<!-- kmeans.contquery.w_data -->\n",
       "<g id=\"node1\" class=\"node\">\n",
       "<title>kmeans.contquery.w_data</title>\n",
       "<polygon fill=\"#c8f0ff\" stroke=\"#58a0d3\" stroke-width=\"2\" points=\"137,-112.5 49,-112.5 49,-73.5 137,-73.5 137,-112.5\"/>\n",
       "<text text-anchor=\"middle\" x=\"93\" y=\"-89.3\" font-family=\"Helvetica,sans-Serif\" font-size=\"14.00\" fill=\"#000000\">w_data</text>\n",
       "</g>\n",
       "<!-- kmeans.contquery.w_train_kmeans -->\n",
       "<g id=\"node2\" class=\"node\">\n",
       "<title>kmeans.contquery.w_train_kmeans</title>\n",
       "<polygon fill=\"#c8f0ff\" stroke=\"#58a0d3\" stroke-width=\"2\" points=\"170,-55.5 16,-55.5 16,-16.5 170,-16.5 170,-55.5\"/>\n",
       "<text text-anchor=\"middle\" x=\"93\" y=\"-32.3\" font-family=\"Helvetica,sans-Serif\" font-size=\"14.00\" fill=\"#000000\">w_train_kmeans</text>\n",
       "</g>\n",
       "</g>\n",
       "</svg>\n"
      ],
      "text/plain": [
       "Project(name='kmeans')"
      ]
     },
     "execution_count": 33,
     "metadata": {},
     "output_type": "execute_result"
    }
   ],
   "source": [
    "train = esp.train.KMEANS(\n",
    "    velocity=5, fadeOutFactor=0.05, nClusters=2, dampingFactor=0.8, \n",
    "    nInit=50, commitInterval=25, initSeed=1, disturbFactor=0.01,\n",
    "    input_map=dict(inputs=('x_c', 'y_c')))\n",
    "proj.windows['w_train_kmeans'] = train\n",
    "proj"
   ]
  },
  {
   "cell_type": "markdown",
   "metadata": {},
   "source": [
    "### Add a Scoring Window"
   ]
  },
  {
   "cell_type": "code",
   "execution_count": 34,
   "metadata": {
    "collapsed": false,
    "jupyter": {
     "outputs_hidden": false
    }
   },
   "outputs": [],
   "source": [
    "# esp.score."
   ]
  },
  {
   "cell_type": "code",
   "execution_count": 35,
   "metadata": {},
   "outputs": [
    {
     "data": {
      "text/plain": [
       "\u001b[0;31mInit signature:\u001b[0m\n",
       "\u001b[0mesp\u001b[0m\u001b[0;34m.\u001b[0m\u001b[0mscore\u001b[0m\u001b[0;34m.\u001b[0m\u001b[0mKMEANS\u001b[0m\u001b[0;34m(\u001b[0m\u001b[0;34m\u001b[0m\n",
       "\u001b[0;34m\u001b[0m    \u001b[0mname\u001b[0m\u001b[0;34m=\u001b[0m\u001b[0;32mNone\u001b[0m\u001b[0;34m,\u001b[0m\u001b[0;34m\u001b[0m\n",
       "\u001b[0;34m\u001b[0m    \u001b[0mschema\u001b[0m\u001b[0;34m=\u001b[0m\u001b[0;32mNone\u001b[0m\u001b[0;34m,\u001b[0m\u001b[0;34m\u001b[0m\n",
       "\u001b[0;34m\u001b[0m    \u001b[0mcopyvars\u001b[0m\u001b[0;34m=\u001b[0m\u001b[0;32mNone\u001b[0m\u001b[0;34m,\u001b[0m\u001b[0;34m\u001b[0m\n",
       "\u001b[0;34m\u001b[0m    \u001b[0mpubsub\u001b[0m\u001b[0;34m=\u001b[0m\u001b[0;32mNone\u001b[0m\u001b[0;34m,\u001b[0m\u001b[0;34m\u001b[0m\n",
       "\u001b[0;34m\u001b[0m    \u001b[0minput_map\u001b[0m\u001b[0;34m=\u001b[0m\u001b[0;32mNone\u001b[0m\u001b[0;34m,\u001b[0m\u001b[0;34m\u001b[0m\n",
       "\u001b[0;34m\u001b[0m    \u001b[0moutput_map\u001b[0m\u001b[0;34m=\u001b[0m\u001b[0;32mNone\u001b[0m\u001b[0;34m,\u001b[0m\u001b[0;34m\u001b[0m\n",
       "\u001b[0;34m\u001b[0m\u001b[0;34m)\u001b[0m\u001b[0;34m\u001b[0m\u001b[0;34m\u001b[0m\u001b[0m\n",
       "\u001b[0;31mDocstring:\u001b[0m     \n",
       "KMEANS\n",
       "\n",
       "Parameters\n",
       "----------\n",
       "name : string, optional\n",
       "    The name of the window\n",
       "input_map : dict, optional\n",
       "    The input variable map entries\n",
       "output_map : dict, optional\n",
       "    The output variable map entries\n",
       "\n",
       "See Also\n",
       "--------\n",
       "set_inputs\n",
       "set_outputs\n",
       "\n",
       "Notes\n",
       "-----\n",
       "** Input Map Entries **\n",
       "\n",
       "inputs : list-of-strings\n",
       "    Specifies the list of variable names used in clustering.\n",
       "\n",
       "** Output Map Entries **\n",
       "\n",
       "labelOut : string\n",
       "    Specifies the output variable name in the output schema that stores cluster\n",
       "    label.\n",
       "minDistanceOut : string\n",
       "    Specifies the output variable name in the output schema that stores the\n",
       "    distance to the nearest cluster. if not specified\n",
       "modelIdOut : string\n",
       "    Specifies the output variable name in the output schema that stores the id\n",
       "    of the model from which the score is computed. if not specified\n",
       "\u001b[0;31mFile:\u001b[0m           ~/work/python/esppy7.1/esppy/connection.py\n",
       "\u001b[0;31mType:\u001b[0m           type\n",
       "\u001b[0;31mSubclasses:\u001b[0m     \n"
      ]
     },
     "metadata": {},
     "output_type": "display_data"
    }
   ],
   "source": [
    "esp.score.KMEANS?"
   ]
  },
  {
   "cell_type": "code",
   "execution_count": 36,
   "metadata": {
    "collapsed": false,
    "jupyter": {
     "outputs_hidden": false
    }
   },
   "outputs": [
    {
     "data": {
      "text/plain": [
       "{'labelOut': 'int32', 'minDistanceOut': 'double', 'modelIdOut': 'int64'}"
      ]
     },
     "execution_count": 36,
     "metadata": {},
     "output_type": "execute_result"
    }
   ],
   "source": [
    "esp.score.KMEANS.output_map_types"
   ]
  },
  {
   "cell_type": "code",
   "execution_count": 37,
   "metadata": {
    "collapsed": false,
    "jupyter": {
     "outputs_hidden": false
    }
   },
   "outputs": [
    {
     "data": {
      "image/svg+xml": [
       "<?xml version=\"1.0\" encoding=\"UTF-8\" standalone=\"no\"?>\n",
       "<!DOCTYPE svg PUBLIC \"-//W3C//DTD SVG 1.1//EN\"\n",
       " \"http://www.w3.org/Graphics/SVG/1.1/DTD/svg11.dtd\">\n",
       "<!-- Generated by graphviz version 2.40.1 (20161225.0304)\n",
       " -->\n",
       "<!-- Title: %3 Pages: 1 -->\n",
       "<svg width=\"200.0pt\" height=\"217.0pt\"\n",
       " viewBox=\"0.00 0.00 200.00 217.00\" xmlns=\"http://www.w3.org/2000/svg\" xmlns:xlink=\"http://www.w3.org/1999/xlink\">\n",
       "<g id=\"graph0\" class=\"graph\" transform=\"scale(1 1) rotate(0) translate(4 213)\">\n",
       "<title>%3</title>\n",
       "<polygon fill=\"#ffffff\" stroke=\"transparent\" points=\"-4,4 -4,-213 196,-213 196,4 -4,4\"/>\n",
       "<g id=\"clust1\" class=\"cluster\">\n",
       "<title>cluster_kmeans</title>\n",
       "<path fill=\"#dadada\" stroke=\"#c0c0c0\" stroke-width=\"2\" d=\"M20,-8C20,-8 172,-8 172,-8 178,-8 184,-14 184,-20 184,-20 184,-189 184,-189 184,-195 178,-201 172,-201 172,-201 20,-201 20,-201 14,-201 8,-195 8,-189 8,-189 8,-20 8,-20 8,-14 14,-8 20,-8\"/>\n",
       "<text text-anchor=\"middle\" x=\"45\" y=\"-185.8\" font-family=\"Helvetica,sans-Serif\" font-size=\"14.00\" fill=\"#000000\">kmeans</text>\n",
       "</g>\n",
       "<!-- kmeans.contquery.w_data -->\n",
       "<g id=\"node1\" class=\"node\">\n",
       "<title>kmeans.contquery.w_data</title>\n",
       "<polygon fill=\"#c8f0ff\" stroke=\"#58a0d3\" stroke-width=\"2\" points=\"140,-169.5 52,-169.5 52,-130.5 140,-130.5 140,-169.5\"/>\n",
       "<text text-anchor=\"middle\" x=\"96\" y=\"-146.3\" font-family=\"Helvetica,sans-Serif\" font-size=\"14.00\" fill=\"#000000\">w_data</text>\n",
       "</g>\n",
       "<!-- kmeans.contquery.w_score_kmeans -->\n",
       "<g id=\"node2\" class=\"node\">\n",
       "<title>kmeans.contquery.w_score_kmeans</title>\n",
       "<polygon fill=\"#c8f0ff\" stroke=\"#58a0d3\" stroke-width=\"2\" points=\"176,-112.5 16,-112.5 16,-73.5 176,-73.5 176,-112.5\"/>\n",
       "<text text-anchor=\"middle\" x=\"96\" y=\"-89.3\" font-family=\"Helvetica,sans-Serif\" font-size=\"14.00\" fill=\"#000000\">w_score_kmeans</text>\n",
       "</g>\n",
       "<!-- kmeans.contquery.w_train_kmeans -->\n",
       "<g id=\"node3\" class=\"node\">\n",
       "<title>kmeans.contquery.w_train_kmeans</title>\n",
       "<polygon fill=\"#c8f0ff\" stroke=\"#58a0d3\" stroke-width=\"2\" points=\"173,-55.5 19,-55.5 19,-16.5 173,-16.5 173,-55.5\"/>\n",
       "<text text-anchor=\"middle\" x=\"96\" y=\"-32.3\" font-family=\"Helvetica,sans-Serif\" font-size=\"14.00\" fill=\"#000000\">w_train_kmeans</text>\n",
       "</g>\n",
       "</g>\n",
       "</svg>\n"
      ],
      "text/plain": [
       "Project(name='kmeans')"
      ]
     },
     "execution_count": 37,
     "metadata": {},
     "output_type": "execute_result"
    }
   ],
   "source": [
    "score = esp.score.KMEANS(\n",
    "    schema=('id*:int64', 'x_c:double', 'y_c:double', 'min_dist:double', 'seg:int32', 'model_id:int64'),\n",
    "    input_map=dict(inputs=('x_c', 'y_c')),\n",
    "    output_map=dict(minDistanceOut='min_dist', labelOut='seg', modelIdOut='model_id')\n",
    ")\n",
    "proj.windows['w_score_kmeans'] = score\n",
    "proj"
   ]
  },
  {
   "cell_type": "markdown",
   "metadata": {},
   "source": [
    "### Make Connection Between Windows"
   ]
  },
  {
   "cell_type": "code",
   "execution_count": 38,
   "metadata": {
    "collapsed": false,
    "jupyter": {
     "outputs_hidden": false
    },
    "scrolled": true
   },
   "outputs": [
    {
     "data": {
      "image/svg+xml": [
       "<?xml version=\"1.0\" encoding=\"UTF-8\" standalone=\"no\"?>\n",
       "<!DOCTYPE svg PUBLIC \"-//W3C//DTD SVG 1.1//EN\"\n",
       " \"http://www.w3.org/Graphics/SVG/1.1/DTD/svg11.dtd\">\n",
       "<!-- Generated by graphviz version 2.40.1 (20161225.0304)\n",
       " -->\n",
       "<!-- Title: %3 Pages: 1 -->\n",
       "<svg width=\"666.0pt\" height=\"154.0pt\"\n",
       " viewBox=\"0.00 0.00 666.00 154.00\" xmlns=\"http://www.w3.org/2000/svg\" xmlns:xlink=\"http://www.w3.org/1999/xlink\">\n",
       "<g id=\"graph0\" class=\"graph\" transform=\"scale(1 1) rotate(0) translate(4 150)\">\n",
       "<title>%3</title>\n",
       "<polygon fill=\"#ffffff\" stroke=\"transparent\" points=\"-4,4 -4,-150 662,-150 662,4 -4,4\"/>\n",
       "<g id=\"clust1\" class=\"cluster\">\n",
       "<title>cluster_kmeans</title>\n",
       "<path fill=\"#dadada\" stroke=\"#c0c0c0\" stroke-width=\"2\" d=\"M20,-8C20,-8 638,-8 638,-8 644,-8 650,-14 650,-20 650,-20 650,-126 650,-126 650,-132 644,-138 638,-138 638,-138 20,-138 20,-138 14,-138 8,-132 8,-126 8,-126 8,-20 8,-20 8,-14 14,-8 20,-8\"/>\n",
       "<text text-anchor=\"middle\" x=\"45\" y=\"-122.8\" font-family=\"Helvetica,sans-Serif\" font-size=\"14.00\" fill=\"#000000\">kmeans</text>\n",
       "</g>\n",
       "<!-- kmeans.contquery.w_data -->\n",
       "<g id=\"node1\" class=\"node\">\n",
       "<title>kmeans.contquery.w_data</title>\n",
       "<polygon fill=\"#c8f0ff\" stroke=\"#58a0d3\" stroke-width=\"2\" points=\"104,-77.5 16,-77.5 16,-38.5 104,-38.5 104,-77.5\"/>\n",
       "<text text-anchor=\"middle\" x=\"60\" y=\"-54.3\" font-family=\"Helvetica,sans-Serif\" font-size=\"14.00\" fill=\"#000000\">w_data</text>\n",
       "</g>\n",
       "<!-- kmeans.contquery.w_score_kmeans -->\n",
       "<g id=\"node2\" class=\"node\">\n",
       "<title>kmeans.contquery.w_score_kmeans</title>\n",
       "<polygon fill=\"#c8f0ff\" stroke=\"#58a0d3\" stroke-width=\"2\" points=\"642,-77.5 482,-77.5 482,-38.5 642,-38.5 642,-77.5\"/>\n",
       "<text text-anchor=\"middle\" x=\"562\" y=\"-54.3\" font-family=\"Helvetica,sans-Serif\" font-size=\"14.00\" fill=\"#000000\">w_score_kmeans</text>\n",
       "</g>\n",
       "<!-- kmeans.contquery.w_data&#45;&gt;kmeans.contquery.w_score_kmeans -->\n",
       "<g id=\"edge1\" class=\"edge\">\n",
       "<title>kmeans.contquery.w_data&#45;&gt;kmeans.contquery.w_score_kmeans</title>\n",
       "<path fill=\"none\" stroke=\"#000000\" d=\"M104.3483,-42.2594C120.684,-37.7357 139.4784,-34 157,-34 157,-34 157,-34 423,-34 438.9198,-34 455.7176,-35.5476 471.9209,-37.8568\"/>\n",
       "<polygon fill=\"#000000\" stroke=\"#000000\" points=\"471.5056,-41.3339 481.9198,-39.3861 472.5639,-34.4144 471.5056,-41.3339\"/>\n",
       "<text text-anchor=\"middle\" x=\"287\" y=\"-37.8\" font-family=\"Times,serif\" font-style=\"italic\" font-size=\"14.00\" fill=\"#000000\">data</text>\n",
       "</g>\n",
       "<!-- kmeans.contquery.w_train_kmeans -->\n",
       "<g id=\"node3\" class=\"node\">\n",
       "<title>kmeans.contquery.w_train_kmeans</title>\n",
       "<polygon fill=\"#c8f0ff\" stroke=\"#58a0d3\" stroke-width=\"2\" points=\"364,-106.5 210,-106.5 210,-67.5 364,-67.5 364,-106.5\"/>\n",
       "<text text-anchor=\"middle\" x=\"287\" y=\"-83.3\" font-family=\"Helvetica,sans-Serif\" font-size=\"14.00\" fill=\"#000000\">w_train_kmeans</text>\n",
       "</g>\n",
       "<!-- kmeans.contquery.w_data&#45;&gt;kmeans.contquery.w_train_kmeans -->\n",
       "<g id=\"edge2\" class=\"edge\">\n",
       "<title>kmeans.contquery.w_data&#45;&gt;kmeans.contquery.w_train_kmeans</title>\n",
       "<path fill=\"none\" stroke=\"#000000\" d=\"M104.037,-63.6259C131.2617,-67.1039 167.1501,-71.6888 199.9255,-75.8759\"/>\n",
       "<polygon fill=\"#000000\" stroke=\"#000000\" points=\"199.6213,-79.3654 209.9842,-77.161 200.5084,-72.4219 199.6213,-79.3654\"/>\n",
       "<text text-anchor=\"middle\" x=\"157\" y=\"-75.8\" font-family=\"Times,serif\" font-style=\"italic\" font-size=\"14.00\" fill=\"#000000\">data</text>\n",
       "</g>\n",
       "<!-- kmeans.contquery.w_train_kmeans&#45;&gt;kmeans.contquery.w_score_kmeans -->\n",
       "<g id=\"edge3\" class=\"edge\">\n",
       "<title>kmeans.contquery.w_train_kmeans&#45;&gt;kmeans.contquery.w_score_kmeans</title>\n",
       "<path fill=\"none\" stroke=\"#000000\" d=\"M364.3347,-78.8447C397.7351,-75.3225 437.0355,-71.1781 471.7583,-67.5164\"/>\n",
       "<polygon fill=\"#000000\" stroke=\"#000000\" points=\"472.3193,-70.9767 481.8971,-66.4472 471.5852,-64.0153 472.3193,-70.9767\"/>\n",
       "<text text-anchor=\"middle\" x=\"423\" y=\"-77.8\" font-family=\"Times,serif\" font-style=\"italic\" font-size=\"14.00\" fill=\"#000000\">model</text>\n",
       "</g>\n",
       "</g>\n",
       "</svg>\n"
      ],
      "text/plain": [
       "Project(name='kmeans')"
      ]
     },
     "execution_count": 38,
     "metadata": {},
     "output_type": "execute_result"
    }
   ],
   "source": [
    "src.add_target(score, role='data')\n",
    "src.add_target(train, role='data')\n",
    "train.add_target(score, role='model')\n",
    "proj"
   ]
  },
  {
   "cell_type": "markdown",
   "metadata": {},
   "source": [
    "### Preview the Project's XML Definition"
   ]
  },
  {
   "cell_type": "code",
   "execution_count": 39,
   "metadata": {
    "collapsed": false,
    "jupyter": {
     "outputs_hidden": false
    }
   },
   "outputs": [
    {
     "name": "stdout",
     "output_type": "stream",
     "text": [
      "<engine>\n",
      "  <projects>\n",
      "    <project name=\"kmeans\" pubsub=\"auto\" threads=\"1\">\n",
      "      <contqueries>\n",
      "        <contquery name=\"contquery\">\n",
      "          <windows>\n",
      "            <window-source index=\"pi_EMPTY\" insert-only=\"true\" name=\"w_data\">\n",
      "              <schema>\n",
      "                <fields>\n",
      "                  <field key=\"true\" name=\"id\" type=\"int64\" />\n",
      "                  <field key=\"false\" name=\"x_c\" type=\"double\" />\n",
      "                  <field key=\"false\" name=\"y_c\" type=\"double\" />\n",
      "                </fields>\n",
      "              </schema>\n",
      "            </window-source>\n",
      "            <window-score name=\"w_score_kmeans\">\n",
      "              <schema>\n",
      "                <fields>\n",
      "                  <field key=\"true\" name=\"id\" type=\"int64\" />\n",
      "                  <field key=\"false\" name=\"x_c\" type=\"double\" />\n",
      "                  <field key=\"false\" name=\"y_c\" type=\"double\" />\n",
      "                  <field key=\"false\" name=\"min_dist\" type=\"double\" />\n",
      "                  <field key=\"false\" name=\"seg\" type=\"int32\" />\n",
      "                  <field key=\"false\" name=\"model_id\" type=\"int64\" />\n",
      "                </fields>\n",
      "              </schema>\n",
      "              <models>\n",
      "                <online algorithm=\"KMEANS\">\n",
      "                  <input-map>\n",
      "                    <properties>\n",
      "                      <property name=\"inputs\">x_c,y_c</property>\n",
      "                    </properties>\n",
      "                  </input-map>\n",
      "                  <output-map>\n",
      "                    <properties>\n",
      "                      <property name=\"labelOut\">seg</property>\n",
      "                      <property name=\"minDistanceOut\">min_dist</property>\n",
      "                      <property name=\"modelIdOut\">model_id</property>\n",
      "                    </properties>\n",
      "                  </output-map>\n",
      "                </online>\n",
      "              </models>\n",
      "            </window-score>\n",
      "            <window-train algorithm=\"KMEANS\" name=\"w_train_kmeans\">\n",
      "              <parameters>\n",
      "                <properties>\n",
      "                  <property name=\"commitInterval\">25</property>\n",
      "                  <property name=\"dampingFactor\">0.8</property>\n",
      "                  <property name=\"disturbFactor\">0.01</property>\n",
      "                  <property name=\"fadeOutFactor\">0.05</property>\n",
      "                  <property name=\"initSeed\">1</property>\n",
      "                  <property name=\"nClusters\">2</property>\n",
      "                  <property name=\"nInit\">50</property>\n",
      "                  <property name=\"velocity\">5</property>\n",
      "                </properties>\n",
      "              </parameters>\n",
      "              <input-map>\n",
      "                <properties>\n",
      "                  <property name=\"inputs\">x_c,y_c</property>\n",
      "                </properties>\n",
      "              </input-map>\n",
      "            </window-train>\n",
      "          </windows>\n",
      "          <edges>\n",
      "            <edge role=\"data\" source=\"w_data\" target=\"w_score_kmeans\" />\n",
      "            <edge role=\"data\" source=\"w_data\" target=\"w_train_kmeans\" />\n",
      "            <edge role=\"model\" source=\"w_train_kmeans\" target=\"w_score_kmeans\" />\n",
      "          </edges>\n",
      "        </contquery>\n",
      "      </contqueries>\n",
      "    </project>\n",
      "  </projects>\n",
      "</engine>\n",
      "\n"
     ]
    }
   ],
   "source": [
    "print(proj.to_xml(pretty=True))"
   ]
  },
  {
   "cell_type": "markdown",
   "metadata": {},
   "source": [
    "### Display a Graph of the Project"
   ]
  },
  {
   "cell_type": "code",
   "execution_count": 40,
   "metadata": {
    "collapsed": false,
    "jupyter": {
     "outputs_hidden": false
    }
   },
   "outputs": [
    {
     "data": {
      "image/svg+xml": [
       "<?xml version=\"1.0\" encoding=\"UTF-8\" standalone=\"no\"?>\n",
       "<!DOCTYPE svg PUBLIC \"-//W3C//DTD SVG 1.1//EN\"\n",
       " \"http://www.w3.org/Graphics/SVG/1.1/DTD/svg11.dtd\">\n",
       "<!-- Generated by graphviz version 2.40.1 (20161225.0304)\n",
       " -->\n",
       "<!-- Title: %3 Pages: 1 -->\n",
       "<svg width=\"700pt\" height=\"207pt\"\n",
       " viewBox=\"0.00 0.00 700.00 207.00\" xmlns=\"http://www.w3.org/2000/svg\" xmlns:xlink=\"http://www.w3.org/1999/xlink\">\n",
       "<g id=\"graph0\" class=\"graph\" transform=\"scale(1 1) rotate(0) translate(4 203)\">\n",
       "<title>%3</title>\n",
       "<polygon fill=\"#ffffff\" stroke=\"transparent\" points=\"-4,4 -4,-203 696,-203 696,4 -4,4\"/>\n",
       "<g id=\"clust1\" class=\"cluster\">\n",
       "<title>cluster_kmeans</title>\n",
       "<path fill=\"#dadada\" stroke=\"#c0c0c0\" stroke-width=\"2\" d=\"M20,-8C20,-8 672,-8 672,-8 678,-8 684,-14 684,-20 684,-20 684,-179 684,-179 684,-185 678,-191 672,-191 672,-191 20,-191 20,-191 14,-191 8,-185 8,-179 8,-179 8,-20 8,-20 8,-14 14,-8 20,-8\"/>\n",
       "<text text-anchor=\"middle\" x=\"45\" y=\"-175.8\" font-family=\"Helvetica,sans-Serif\" font-size=\"14.00\" fill=\"#000000\">kmeans</text>\n",
       "</g>\n",
       "<!-- kmeans.contquery.w_data -->\n",
       "<g id=\"node1\" class=\"node\">\n",
       "<title>kmeans.contquery.w_data</title>\n",
       "<polygon fill=\"#c8f0ff\" stroke=\"#58a0d3\" stroke-width=\"2\" points=\"138,-132.5 16,-132.5 16,-33.5 138,-33.5 138,-132.5\"/>\n",
       "<text text-anchor=\"start\" x=\"51\" y=\"-108.8\" font-family=\"Helvetica,sans-Serif\" font-size=\"14.00\" fill=\"#000000\">w_data</text>\n",
       "<text text-anchor=\"start\" x=\"74.5\" y=\"-93.8\" font-family=\"Helvetica,sans-Serif\" font-size=\"14.00\" fill=\"#000000\"> </text>\n",
       "<text text-anchor=\"start\" x=\"36.5\" y=\"-79.8\" font-family=\"Helvetica,sans-Serif\" font-size=\"14.00\" fill=\"#000000\">🔑</text>\n",
       "<text text-anchor=\"start\" x=\"54.5\" y=\"-79.8\" font-family=\"Helvetica,sans-Serif\" font-size=\"14.00\" fill=\"#c49810\">id : int64</text>\n",
       "<text text-anchor=\"start\" x=\"34\" y=\"-63.8\" font-family=\"Helvetica,sans-Serif\" font-size=\"14.00\" fill=\"#808080\">x_c : double</text>\n",
       "<text text-anchor=\"start\" x=\"34\" y=\"-48.8\" font-family=\"Helvetica,sans-Serif\" font-size=\"14.00\" fill=\"#808080\">y_c : double</text>\n",
       "</g>\n",
       "<!-- kmeans.contquery.w_score_kmeans -->\n",
       "<g id=\"node2\" class=\"node\">\n",
       "<title>kmeans.contquery.w_score_kmeans</title>\n",
       "<polygon fill=\"#c8f0ff\" stroke=\"#58a0d3\" stroke-width=\"2\" points=\"676,-160 516,-160 516,-16 676,-16 676,-160\"/>\n",
       "<text text-anchor=\"start\" x=\"534\" y=\"-136.8\" font-family=\"Helvetica,sans-Serif\" font-size=\"14.00\" fill=\"#000000\">w_score_kmeans</text>\n",
       "<text text-anchor=\"start\" x=\"593.5\" y=\"-121.8\" font-family=\"Helvetica,sans-Serif\" font-size=\"14.00\" fill=\"#000000\"> </text>\n",
       "<text text-anchor=\"start\" x=\"555.5\" y=\"-107.8\" font-family=\"Helvetica,sans-Serif\" font-size=\"14.00\" fill=\"#000000\">🔑</text>\n",
       "<text text-anchor=\"start\" x=\"573.5\" y=\"-107.8\" font-family=\"Helvetica,sans-Serif\" font-size=\"14.00\" fill=\"#c49810\">id : int64</text>\n",
       "<text text-anchor=\"start\" x=\"553\" y=\"-91.8\" font-family=\"Helvetica,sans-Serif\" font-size=\"14.00\" fill=\"#808080\">x_c : double</text>\n",
       "<text text-anchor=\"start\" x=\"553\" y=\"-76.8\" font-family=\"Helvetica,sans-Serif\" font-size=\"14.00\" fill=\"#808080\">y_c : double</text>\n",
       "<text text-anchor=\"start\" x=\"534.5\" y=\"-61.8\" font-family=\"Helvetica,sans-Serif\" font-size=\"14.00\" fill=\"#808080\">min_dist : double</text>\n",
       "<text text-anchor=\"start\" x=\"558\" y=\"-46.8\" font-family=\"Helvetica,sans-Serif\" font-size=\"14.00\" fill=\"#808080\">seg : int32</text>\n",
       "<text text-anchor=\"start\" x=\"538.5\" y=\"-31.8\" font-family=\"Helvetica,sans-Serif\" font-size=\"14.00\" fill=\"#808080\">model_id : int64</text>\n",
       "</g>\n",
       "<!-- kmeans.contquery.w_data&#45;&gt;kmeans.contquery.w_score_kmeans -->\n",
       "<g id=\"edge1\" class=\"edge\">\n",
       "<title>kmeans.contquery.w_data&#45;&gt;kmeans.contquery.w_score_kmeans</title>\n",
       "<path fill=\"none\" stroke=\"#000000\" d=\"M138.0093,-60.064C154.9248,-55.4579 173.4636,-52 191,-52 191,-52 191,-52 457,-52 472.9988,-52 489.7121,-54.2627 505.7761,-57.6535\"/>\n",
       "<polygon fill=\"#000000\" stroke=\"#000000\" points=\"505.1556,-61.1015 515.6821,-59.9004 506.7041,-54.2749 505.1556,-61.1015\"/>\n",
       "<text text-anchor=\"middle\" x=\"321\" y=\"-55.8\" font-family=\"Times,serif\" font-style=\"italic\" font-size=\"14.00\" fill=\"#000000\">data</text>\n",
       "</g>\n",
       "<!-- kmeans.contquery.w_train_kmeans -->\n",
       "<g id=\"node3\" class=\"node\">\n",
       "<title>kmeans.contquery.w_train_kmeans</title>\n",
       "<polygon fill=\"#c8f0ff\" stroke=\"#58a0d3\" stroke-width=\"2\" points=\"398,-139 244,-139 244,-85 398,-85 398,-139\"/>\n",
       "<text text-anchor=\"start\" x=\"262\" y=\"-115.8\" font-family=\"Helvetica,sans-Serif\" font-size=\"14.00\" fill=\"#000000\">w_train_kmeans</text>\n",
       "<text text-anchor=\"start\" x=\"318.5\" y=\"-100.8\" font-family=\"Helvetica,sans-Serif\" font-size=\"14.00\" fill=\"#000000\"> </text>\n",
       "</g>\n",
       "<!-- kmeans.contquery.w_data&#45;&gt;kmeans.contquery.w_train_kmeans -->\n",
       "<g id=\"edge2\" class=\"edge\">\n",
       "<title>kmeans.contquery.w_data&#45;&gt;kmeans.contquery.w_train_kmeans</title>\n",
       "<path fill=\"none\" stroke=\"#000000\" d=\"M138.2566,-90.2805C167.1721,-93.7172 202.1997,-97.8803 233.821,-101.6386\"/>\n",
       "<polygon fill=\"#000000\" stroke=\"#000000\" points=\"233.6127,-105.1383 243.9559,-102.8431 234.4389,-98.1873 233.6127,-105.1383\"/>\n",
       "<text text-anchor=\"middle\" x=\"191\" y=\"-101.8\" font-family=\"Times,serif\" font-style=\"italic\" font-size=\"14.00\" fill=\"#000000\">data</text>\n",
       "</g>\n",
       "<!-- kmeans.contquery.w_train_kmeans&#45;&gt;kmeans.contquery.w_score_kmeans -->\n",
       "<g id=\"edge3\" class=\"edge\">\n",
       "<title>kmeans.contquery.w_train_kmeans&#45;&gt;kmeans.contquery.w_score_kmeans</title>\n",
       "<path fill=\"none\" stroke=\"#000000\" d=\"M398.3347,-105.2508C431.7351,-102.3358 471.0355,-98.906 505.7583,-95.8756\"/>\n",
       "<polygon fill=\"#000000\" stroke=\"#000000\" points=\"506.2393,-99.3471 515.8971,-94.9908 505.6307,-92.3736 506.2393,-99.3471\"/>\n",
       "<text text-anchor=\"middle\" x=\"457\" y=\"-105.8\" font-family=\"Times,serif\" font-style=\"italic\" font-size=\"14.00\" fill=\"#000000\">model</text>\n",
       "</g>\n",
       "</g>\n",
       "</svg>\n"
      ],
      "text/plain": [
       "<graphviz.dot.Digraph at 0x7f80e2fdb3d0>"
      ]
     },
     "execution_count": 40,
     "metadata": {},
     "output_type": "execute_result"
    }
   ],
   "source": [
    "proj.to_graph(schema=True)"
   ]
  },
  {
   "cell_type": "markdown",
   "metadata": {},
   "source": [
    "## Load the Project into the Server"
   ]
  },
  {
   "cell_type": "code",
   "execution_count": 41,
   "metadata": {
    "collapsed": false,
    "jupyter": {
     "outputs_hidden": false
    }
   },
   "outputs": [],
   "source": [
    "esp.load_project(proj);"
   ]
  },
  {
   "cell_type": "code",
   "execution_count": 42,
   "metadata": {
    "collapsed": false,
    "jupyter": {
     "outputs_hidden": false
    }
   },
   "outputs": [
    {
     "data": {
      "text/plain": [
       "{'kmeans': Project(name='kmeans'),\n",
       " 'primary': Project(name='primary'),\n",
       " 'project': Project(name='project'),\n",
       " 'secondary': Project(name='secondary')}"
      ]
     },
     "execution_count": 42,
     "metadata": {},
     "output_type": "execute_result"
    }
   ],
   "source": [
    "esp.get_projects()"
   ]
  },
  {
   "cell_type": "markdown",
   "metadata": {},
   "source": [
    "### Publish Events to Source Window"
   ]
  },
  {
   "cell_type": "code",
   "execution_count": 43,
   "metadata": {
    "collapsed": false,
    "jupyter": {
     "outputs_hidden": false
    }
   },
   "outputs": [
    {
     "name": "stdout",
     "output_type": "stream",
     "text": [
      "i,n,0,0.5908967210216602,1.6751986326790076\n",
      "i,n,1,19.043415721883388,18.371355627504236\n",
      "i,n,2,-0.012273367464207865,-0.4540492269435668\n",
      "i,n,3,17.97874517980503,21.65120582597203\n",
      "i,n,4,1.1659924204397523,-1.2409508065225885\n",
      "i,n,5,0.8546216190275081,-0.25882119862607184\n",
      "i,n,6,20.190217162336587,22.50997309914134\n",
      "i,n,7,-0.25895458090747875,1.4976085871983391\n",
      "i,n,8,22.29022654822051,16.914962015510373\n",
      "i,n,9,20.77677573497869,19.816778938696523\n"
     ]
    }
   ],
   "source": [
    "%%sh\n",
    "head basics.csv"
   ]
  },
  {
   "cell_type": "markdown",
   "metadata": {},
   "source": [
    "Use pandas to transform data before publishing it.  Notice that the DataFrame can contain additional columns, and columns out-of-order.  Only the columns in the DataFrame that match the columns in the window schema are uploaded."
   ]
  },
  {
   "cell_type": "code",
   "execution_count": 44,
   "metadata": {
    "collapsed": false,
    "jupyter": {
     "outputs_hidden": false
    }
   },
   "outputs": [
    {
     "data": {
      "text/html": [
       "<div>\n",
       "<style scoped>\n",
       "    .dataframe tbody tr th:only-of-type {\n",
       "        vertical-align: middle;\n",
       "    }\n",
       "\n",
       "    .dataframe tbody tr th {\n",
       "        vertical-align: top;\n",
       "    }\n",
       "\n",
       "    .dataframe thead th {\n",
       "        text-align: right;\n",
       "    }\n",
       "</style>\n",
       "<table border=\"1\" class=\"dataframe\">\n",
       "  <thead>\n",
       "    <tr style=\"text-align: right;\">\n",
       "      <th></th>\n",
       "      <th>y_c</th>\n",
       "      <th>extra</th>\n",
       "      <th>x_c</th>\n",
       "      <th>opcode</th>\n",
       "      <th>opmode</th>\n",
       "    </tr>\n",
       "    <tr>\n",
       "      <th>id</th>\n",
       "      <th></th>\n",
       "      <th></th>\n",
       "      <th></th>\n",
       "      <th></th>\n",
       "      <th></th>\n",
       "    </tr>\n",
       "  </thead>\n",
       "  <tbody>\n",
       "    <tr>\n",
       "      <th>0</th>\n",
       "      <td>1.675199</td>\n",
       "      <td>3.155449</td>\n",
       "      <td>0.590897</td>\n",
       "      <td>i</td>\n",
       "      <td>n</td>\n",
       "    </tr>\n",
       "    <tr>\n",
       "      <th>1</th>\n",
       "      <td>18.371356</td>\n",
       "      <td>700.158390</td>\n",
       "      <td>19.043416</td>\n",
       "      <td>i</td>\n",
       "      <td>n</td>\n",
       "    </tr>\n",
       "    <tr>\n",
       "      <th>2</th>\n",
       "      <td>-0.454049</td>\n",
       "      <td>0.206311</td>\n",
       "      <td>-0.012273</td>\n",
       "      <td>i</td>\n",
       "      <td>n</td>\n",
       "    </tr>\n",
       "    <tr>\n",
       "      <th>3</th>\n",
       "      <td>21.651206</td>\n",
       "      <td>792.009992</td>\n",
       "      <td>17.978745</td>\n",
       "      <td>i</td>\n",
       "      <td>n</td>\n",
       "    </tr>\n",
       "    <tr>\n",
       "      <th>4</th>\n",
       "      <td>-1.240951</td>\n",
       "      <td>2.899497</td>\n",
       "      <td>1.165992</td>\n",
       "      <td>i</td>\n",
       "      <td>n</td>\n",
       "    </tr>\n",
       "  </tbody>\n",
       "</table>\n",
       "</div>"
      ],
      "text/plain": [
       "          y_c       extra        x_c opcode opmode\n",
       "id                                                \n",
       "0    1.675199    3.155449   0.590897      i      n\n",
       "1   18.371356  700.158390  19.043416      i      n\n",
       "2   -0.454049    0.206311  -0.012273      i      n\n",
       "3   21.651206  792.009992  17.978745      i      n\n",
       "4   -1.240951    2.899497   1.165992      i      n"
      ]
     },
     "execution_count": 44,
     "metadata": {},
     "output_type": "execute_result"
    }
   ],
   "source": [
    "import pandas as pd\n",
    "\n",
    "df = pd.read_csv('basics.csv', header=None, names=['opcode', 'opmode', 'id', 'x_c', 'y_c'])\n",
    "\n",
    "df['extra'] = df['x_c']**2 + df['y_c']**2\n",
    "df = df[['id', 'y_c', 'extra', 'x_c', 'opcode', 'opmode']]\n",
    "df = df.set_index('id')\n",
    "\n",
    "df.head()"
   ]
  },
  {
   "cell_type": "code",
   "execution_count": 45,
   "metadata": {
    "collapsed": false,
    "jupyter": {
     "outputs_hidden": false
    }
   },
   "outputs": [],
   "source": [
    "src.publish_events(df, pause=200)"
   ]
  },
  {
   "cell_type": "code",
   "execution_count": 46,
   "metadata": {
    "collapsed": false,
    "jupyter": {
     "outputs_hidden": false
    }
   },
   "outputs": [],
   "source": [
    "src.subscribe()\n",
    "score.subscribe()"
   ]
  },
  {
   "cell_type": "code",
   "execution_count": 47,
   "metadata": {
    "collapsed": false,
    "jupyter": {
     "outputs_hidden": false
    }
   },
   "outputs": [
    {
     "data": {
      "text/html": [
       "<div>\n",
       "<style scoped>\n",
       "    .dataframe tbody tr th:only-of-type {\n",
       "        vertical-align: middle;\n",
       "    }\n",
       "\n",
       "    .dataframe tbody tr th {\n",
       "        vertical-align: top;\n",
       "    }\n",
       "\n",
       "    .dataframe thead th {\n",
       "        text-align: right;\n",
       "    }\n",
       "</style>\n",
       "<table border=\"1\" class=\"dataframe\">\n",
       "  <thead>\n",
       "    <tr style=\"text-align: right;\">\n",
       "      <th></th>\n",
       "      <th>x_c</th>\n",
       "      <th>y_c</th>\n",
       "    </tr>\n",
       "    <tr>\n",
       "      <th>id</th>\n",
       "      <th></th>\n",
       "      <th></th>\n",
       "    </tr>\n",
       "  </thead>\n",
       "  <tbody>\n",
       "  </tbody>\n",
       "</table>\n",
       "</div>"
      ],
      "text/plain": [
       "Empty DataFrame\n",
       "Columns: [x_c, y_c]\n",
       "Index: []"
      ]
     },
     "execution_count": 47,
     "metadata": {},
     "output_type": "execute_result"
    }
   ],
   "source": [
    "src.tail(10)"
   ]
  },
  {
   "cell_type": "markdown",
   "metadata": {},
   "source": [
    "This window may take several seconds before the scoring window events start to show up."
   ]
  },
  {
   "cell_type": "code",
   "execution_count": 48,
   "metadata": {
    "collapsed": false,
    "jupyter": {
     "outputs_hidden": false
    }
   },
   "outputs": [
    {
     "data": {
      "text/html": [
       "<div>\n",
       "<style scoped>\n",
       "    .dataframe tbody tr th:only-of-type {\n",
       "        vertical-align: middle;\n",
       "    }\n",
       "\n",
       "    .dataframe tbody tr th {\n",
       "        vertical-align: top;\n",
       "    }\n",
       "\n",
       "    .dataframe thead th {\n",
       "        text-align: right;\n",
       "    }\n",
       "</style>\n",
       "<table border=\"1\" class=\"dataframe\">\n",
       "  <thead>\n",
       "    <tr style=\"text-align: right;\">\n",
       "      <th></th>\n",
       "      <th>x_c</th>\n",
       "      <th>y_c</th>\n",
       "      <th>min_dist</th>\n",
       "      <th>seg</th>\n",
       "      <th>model_id</th>\n",
       "    </tr>\n",
       "    <tr>\n",
       "      <th>id</th>\n",
       "      <th></th>\n",
       "      <th></th>\n",
       "      <th></th>\n",
       "      <th></th>\n",
       "      <th></th>\n",
       "    </tr>\n",
       "  </thead>\n",
       "  <tbody>\n",
       "  </tbody>\n",
       "</table>\n",
       "</div>"
      ],
      "text/plain": [
       "Empty DataFrame\n",
       "Columns: [x_c, y_c, min_dist, seg, model_id]\n",
       "Index: []"
      ]
     },
     "execution_count": 48,
     "metadata": {},
     "output_type": "execute_result"
    }
   ],
   "source": [
    "score.tail(10)"
   ]
  },
  {
   "cell_type": "markdown",
   "metadata": {},
   "source": [
    "## Plot the Streaming Data"
   ]
  },
  {
   "cell_type": "markdown",
   "metadata": {},
   "source": [
    "This function is used to generate the legend and colors for each of the `x_c` / `y_c` data points."
   ]
  },
  {
   "cell_type": "code",
   "execution_count": 49,
   "metadata": {},
   "outputs": [],
   "source": [
    "class_map = dict(\n",
    "    seg=dict(\n",
    "        class_label={0: 'Class 1', 1: 'Class 2'},\n",
    "        class_color={0: '#68b0e3b2', 1: '#d37a2db2'},\n",
    "    )   \n",
    ")\n",
    "\n",
    "# Alternatively\n",
    "def class_map_func(event):\n",
    "    seg = event['seg']\n",
    "    return dict(\n",
    "        class_label=seg.map({0: 'Class 1', 1: 'Class 2'}),\n",
    "        class_color=seg.map({0: '#68b0e3b2', 1: '#d37a2db2'}),\n",
    "    )"
   ]
  },
  {
   "cell_type": "markdown",
   "metadata": {},
   "source": [
    "### Start the streaming scatter plot."
   ]
  },
  {
   "cell_type": "code",
   "execution_count": 50,
   "metadata": {},
   "outputs": [
    {
     "data": {
      "application/vnd.jupyter.widget-view+json": {
       "model_id": "0d538749447c44819963a48a4e78dcbd",
       "version_major": 2,
       "version_minor": 0
      },
      "text/plain": [
       "ScatterPlot(children=(VBox(children=(HTML(value=\"<div style='font-size:12pt;text-align:center'>kmeans/contquer…"
      ]
     },
     "metadata": {},
     "output_type": "display_data"
    }
   ],
   "source": [
    "scoreStream = conn.getEventStream(score,maxevents=10)\n",
    "scoreChart = visuals.createScatterPlot(scoreStream,x=\"x_c\",y=\"y_c\",xrange=[-15,30],yrange=[-15,30])\n",
    "scoreChart"
   ]
  },
  {
   "cell_type": "markdown",
   "metadata": {},
   "source": [
    "## Client-side Transformers"
   ]
  },
  {
   "cell_type": "markdown",
   "metadata": {},
   "source": [
    "Transformers can be any DataFrame operation."
   ]
  },
  {
   "cell_type": "code",
   "execution_count": 51,
   "metadata": {},
   "outputs": [],
   "source": [
    "score.add_event_transformer('abs')\n",
    "score.add_event_transformer('clip', upper=20)"
   ]
  },
  {
   "cell_type": "markdown",
   "metadata": {},
   "source": [
    "Or, they can be functions that can do any arbitrary operation."
   ]
  },
  {
   "cell_type": "code",
   "execution_count": 52,
   "metadata": {},
   "outputs": [],
   "source": [
    "def dist_group(event):\n",
    "    event['dist_group'] = event['min_dist'] > 10\n",
    "    return event\n",
    "\n",
    "score.add_event_transformer(dist_group)"
   ]
  },
  {
   "cell_type": "code",
   "execution_count": 53,
   "metadata": {
    "collapsed": false,
    "jupyter": {
     "outputs_hidden": false
    }
   },
   "outputs": [
    {
     "data": {
      "text/html": [
       "<div>\n",
       "<style scoped>\n",
       "    .dataframe tbody tr th:only-of-type {\n",
       "        vertical-align: middle;\n",
       "    }\n",
       "\n",
       "    .dataframe tbody tr th {\n",
       "        vertical-align: top;\n",
       "    }\n",
       "\n",
       "    .dataframe thead th {\n",
       "        text-align: right;\n",
       "    }\n",
       "</style>\n",
       "<table border=\"1\" class=\"dataframe\">\n",
       "  <thead>\n",
       "    <tr style=\"text-align: right;\">\n",
       "      <th></th>\n",
       "      <th>x_c</th>\n",
       "      <th>y_c</th>\n",
       "      <th>min_dist</th>\n",
       "      <th>seg</th>\n",
       "      <th>model_id</th>\n",
       "      <th>dist_group</th>\n",
       "    </tr>\n",
       "    <tr>\n",
       "      <th>id</th>\n",
       "      <th></th>\n",
       "      <th></th>\n",
       "      <th></th>\n",
       "      <th></th>\n",
       "      <th></th>\n",
       "      <th></th>\n",
       "    </tr>\n",
       "  </thead>\n",
       "  <tbody>\n",
       "  </tbody>\n",
       "</table>\n",
       "</div>"
      ],
      "text/plain": [
       "Empty DataFrame\n",
       "Columns: [x_c, y_c, min_dist, seg, model_id, dist_group]\n",
       "Index: []"
      ]
     },
     "execution_count": 53,
     "metadata": {},
     "output_type": "execute_result"
    }
   ],
   "source": [
    "score.head(10)"
   ]
  },
  {
   "cell_type": "code",
   "execution_count": null,
   "metadata": {},
   "outputs": [],
   "source": []
  },
  {
   "cell_type": "code",
   "execution_count": null,
   "metadata": {},
   "outputs": [],
   "source": []
  }
 ],
 "metadata": {
  "kernelspec": {
   "display_name": "Python 3",
   "language": "python",
   "name": "python3"
  },
  "language_info": {
   "codemirror_mode": {
    "name": "ipython",
    "version": 3
   },
   "file_extension": ".py",
   "mimetype": "text/x-python",
   "name": "python",
   "nbconvert_exporter": "python",
   "pygments_lexer": "ipython3",
   "version": "3.7.5"
  }
 },
 "nbformat": 4,
 "nbformat_minor": 4
}
