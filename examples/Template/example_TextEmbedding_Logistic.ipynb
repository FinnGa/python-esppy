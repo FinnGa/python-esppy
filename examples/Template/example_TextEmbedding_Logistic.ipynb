{
 "cells": [
  {
   "cell_type": "markdown",
   "metadata": {},
   "source": [
    "# TextEmbedding and Logistic\n",
    "In this demo, we will go through a sample project to show how to build a project by applying **`TextEmbedding`** and **`Logistic`** Tempaltes. In the project of amazon_reviews, we are trying to decide customers’ sentiment given their contents of the review."
   ]
  },
  {
   "cell_type": "code",
   "execution_count": 1,
   "metadata": {},
   "outputs": [
    {
     "name": "stderr",
     "output_type": "stream",
     "text": [
      "b'<!DOCTYPE html PUBLIC \"-//W3C//DTD HTML 4.01//EN\" \"http://www.w3.org/TR/html4/strict.dtd\"> <html><head> <meta http-equiv=\"Content-Type\" CONTENT=\"text/html; charset=utf-8\"> <title>ERROR: The requested URL could not be retrieved</title> <style type=\"text/css\"><!--     body :lang(fa) { direction: rtl; font-size: 100%; font-family: Tahoma, Roya, sans-serif; float: right; } :lang(he) { direction: rtl; }  --></style> </head><body id=ERR_CONNECT_FAIL> <div id=\"titles\"> <h1>ERROR</h1> <h2>The requested URL could not be retrieved</h2> </div> <hr>  <div id=\"content\"> <p>The following error was encountered while trying to retrieve the URL: <a href=\"http://lax95d01.unx.sas.com:40012/SASESP/server?config=true\">http://lax95d01.unx.sas.com:40012/SASESP/server?config=true</a></p>  <blockquote id=\"error\"> <p><b>Connection to 10.24.7.194 failed.</b></p> </blockquote>  <p id=\"sysmsg\">The system returned: <i>(111) Connection refused</i></p>  <p>The remote host or network may be down. Please try the request again.</p>  <p>Your cache administrator is <a href=\"mailto:squid@unx.sas.com?subject=CacheErrorInfo%20-%20ERR_CONNECT_FAIL&amp;body=CacheHost%3A%20inetgw33%0D%0AErrPage%3A%20ERR_CONNECT_FAIL%0D%0AErr%3A%20(111)%20Connection%20refused%0D%0ATimeStamp%3A%20Sun,%2022%20Dec%202019%2013%3A32%3A11%20GMT%0D%0A%0D%0AClientIP%3A%2010.37.24.3%0D%0AServerIP%3A%20lax95d01.unx.sas.com%0D%0A%0D%0AHTTP%20Request%3A%0D%0AGET%20%2FSASESP%2Fserver%3Fconfig%3Dtrue%20HTTP%2F1.1%0AUser-Agent%3A%20python-requests%2F2.22.0%0D%0AAccept-Encoding%3A%20gzip,%20deflate%0D%0AAccept%3A%20*%2F*%0D%0AConnection%3A%20keep-alive%0D%0AAuthorization%3A%20Basic%20cm9sZXZlOkdvbmRvcjIyNyo%3D%0D%0AHost%3A%20lax95d01.unx.sas.com%3A40012%0D%0A%0D%0A%0D%0A\">squid@unx.sas.com</a>.</p>  <br> </div>  <hr> <div id=\"footer\"> <p>Generated Sun, 22 Dec 2019 13:32:11 GMT by inetgw33 (squid)</p> <!-- ERR_CONNECT_FAIL --> </div> </body></html> '\n"
     ]
    },
    {
     "ename": "ParseError",
     "evalue": "mismatched tag: line 1, column 417 (<string>)",
     "output_type": "error",
     "traceback": [
      "Traceback \u001b[0;36m(most recent call last)\u001b[0m:\n",
      "  File \u001b[1;32m\"/mnt/data/share/install/anaconda3/envs/esp/lib/python3.7/site-packages/IPython/core/interactiveshell.py\"\u001b[0m, line \u001b[1;32m3326\u001b[0m, in \u001b[1;35mrun_code\u001b[0m\n    exec(code_obj, self.user_global_ns, self.user_ns)\n",
      "  File \u001b[1;32m\"<ipython-input-1-f63c8063a452>\"\u001b[0m, line \u001b[1;32m2\u001b[0m, in \u001b[1;35m<module>\u001b[0m\n    esp = esppy.ESP('http://lax95d01.unx.sas.com:40012')\n",
      "  File \u001b[1;32m\"/mnt/data/home/roleve/work/python/esppy7.1/esppy/connection.py\"\u001b[0m, line \u001b[1;32m366\u001b[0m, in \u001b[1;35m__init__\u001b[0m\n    if float(self.server_info['version']) < 5.2:\n",
      "  File \u001b[1;32m\"/mnt/data/home/roleve/work/python/esppy7.1/esppy/connection.py\"\u001b[0m, line \u001b[1;32m1093\u001b[0m, in \u001b[1;35mserver_info\u001b[0m\n    return get_server_info(self)\n",
      "  File \u001b[1;32m\"/mnt/data/home/roleve/work/python/esppy7.1/esppy/utils/data.py\"\u001b[0m, line \u001b[1;32m123\u001b[0m, in \u001b[1;35mget_server_info\u001b[0m\n    params=get_params(config=True))\n",
      "  File \u001b[1;32m\"/mnt/data/home/roleve/work/python/esppy7.1/esppy/utils/rest.py\"\u001b[0m, line \u001b[1;32m223\u001b[0m, in \u001b[1;35m_get\u001b[0m\n    **kwargs)).content.decode('utf-8')\n",
      "  File \u001b[1;32m\"/mnt/data/home/roleve/work/python/esppy7.1/esppy/utils/rest.py\"\u001b[0m, line \u001b[1;32m363\u001b[0m, in \u001b[1;35m_error_check\u001b[0m\n    elem = ET.fromstring(resp.content)\n",
      "\u001b[0;36m  File \u001b[0;32m\"/mnt/data/share/install/anaconda3/envs/esp/lib/python3.7/xml/etree/ElementTree.py\"\u001b[0;36m, line \u001b[0;32m1315\u001b[0;36m, in \u001b[0;35mXML\u001b[0;36m\u001b[0m\n\u001b[0;31m    parser.feed(text)\u001b[0m\n",
      "\u001b[0;36m  File \u001b[0;32m\"<string>\"\u001b[0;36m, line \u001b[0;32munknown\u001b[0m\n\u001b[0;31mParseError\u001b[0m\u001b[0;31m:\u001b[0m mismatched tag: line 1, column 417\n"
     ]
    }
   ],
   "source": [
    "import esppy\n",
    "esp = esppy.ESP('http://lax95d01.unx.sas.com:40012')"
   ]
  },
  {
   "cell_type": "markdown",
   "metadata": {},
   "source": [
    "### Step 1 - Data preporcessing"
   ]
  },
  {
   "cell_type": "code",
   "execution_count": null,
   "metadata": {},
   "outputs": [],
   "source": [
    "import pandas\n",
    "train_data = pandas.read_csv('reviews_train_5000.csv', header=None, \n",
    "                             names=[\"id\", \"title\", \"content\", \"rank\", \"sentiment\"])\n",
    " \n",
    "score_data = pandas.read_csv('reviews_test_1000.csv', header=None, \n",
    "                             names=[\"id\", \"title\", \"content\", \"rank\", \"sentiment\"])\n",
    " \n",
    "\n",
    "seed = 1234\n",
    "n_samples = 5000\n",
    "train_ratio = 0.5\n",
    "train_data_sample_pos = train_data.loc[train_data['sentiment'] == 1.0].sample(int(n_samples * train_ratio), random_state=seed)\n",
    "\n",
    "#since the target variable(sentiment) is highy unbalanced, we are doing resamling here\n",
    "train_data_sample_neg = train_data.loc[train_data['sentiment'] == 0.0].sample(int(n_samples * (1 - train_ratio)), replace=True, random_state=seed)\n",
    "train_data_sample = pandas.concat([train_data_sample_pos, train_data_sample_neg])\n",
    " \n",
    "from sklearn.utils import shuffle\n",
    "train_data_sample_shuffled = shuffle(train_data_sample, random_state=seed)"
   ]
  },
  {
   "cell_type": "code",
   "execution_count": null,
   "metadata": {},
   "outputs": [],
   "source": [
    "# train data\n",
    "train_data_sample_shuffled.head()"
   ]
  },
  {
   "cell_type": "code",
   "execution_count": null,
   "metadata": {},
   "outputs": [],
   "source": [
    "# score data\n",
    "score_data.head()"
   ]
  },
  {
   "cell_type": "markdown",
   "metadata": {},
   "source": [
    "### Step 2 - Model Construction"
   ]
  },
  {
   "cell_type": "code",
   "execution_count": null,
   "metadata": {},
   "outputs": [],
   "source": [
    "# Create a project \n",
    "\n",
    "\n",
    "proj = esp.create_project('amazon_reviews')\n",
    "esppy.options.display.image_scale = 1\n",
    "proj"
   ]
  },
  {
   "cell_type": "markdown",
   "metadata": {},
   "source": [
    "### Step 3: Training Data Stream"
   ]
  },
  {
   "cell_type": "code",
   "execution_count": null,
   "metadata": {},
   "outputs": [],
   "source": [
    "# Define a source window\n",
    "\n",
    "src = esp.SourceWindow(schema=('id*:int64', 'content:string', 'sentiment:string'),\n",
    "                       index_type='empty', insert_only=True, autogen_key=True)\n",
    "\n",
    "\n",
    "# Initialize a TextEmbedding Temaplate\n",
    "\n",
    "t1 = esp.Template.TextEmbedding('t1')\n",
    "\n",
    "# Add corresponding edge between windows\n",
    "\n",
    "src.add_target(t1, role='data')\n",
    "src.add_target(t1.windows['w_join'], role='data')\n",
    "\n",
    "proj.windows['w_data_t'] = src\n",
    "proj.add_template(t1)\n",
    "proj"
   ]
  },
  {
   "cell_type": "markdown",
   "metadata": {},
   "source": [
    "### Step 4: Validation Data Stream"
   ]
  },
  {
   "cell_type": "code",
   "execution_count": null,
   "metadata": {},
   "outputs": [],
   "source": [
    "# Define a source window\n",
    "\n",
    "src2 = esp.SourceWindow(schema=('id*:int64', 'content:string', 'sentiment:string'),\n",
    "                       index_type='empty', insert_only=True, autogen_key=True)\n",
    "\n",
    "\n",
    "# Make a copy of t1\n",
    "\n",
    "t2 = t1.copy('t2', deep=True, internal_only=True)\n",
    "\n",
    "# Add corresponding edge between windows\n",
    "\n",
    "src2.add_target(t2, role='data')\n",
    "src2.add_target(t2.windows['w_join'], role='data')\n",
    "\n",
    "proj.windows['w_data_v'] = src2\n",
    "proj.add_template(t2)\n",
    "proj"
   ]
  },
  {
   "cell_type": "markdown",
   "metadata": {},
   "source": [
    "### Step 5: Streaming Logistic Regression"
   ]
  },
  {
   "cell_type": "code",
   "execution_count": null,
   "metadata": {},
   "outputs": [],
   "source": [
    "# Initialize a Logis Template\n",
    "\n",
    "t3 = esp.Template.Logistic('t3')\n",
    "\n",
    "# add connectivities between corresponding windows\n",
    "\n",
    "t1.add_target(t3, role='data')\n",
    "t2.add_target(t3.windows['w_score_logis'], role='data')\n",
    "proj.add_template(t3)\n",
    "esppy.options.display.image_scale = 0.65\n",
    "proj"
   ]
  },
  {
   "cell_type": "markdown",
   "metadata": {},
   "source": [
    "### Step 6: Online Model Measure"
   ]
  },
  {
   "cell_type": "code",
   "execution_count": null,
   "metadata": {},
   "outputs": [],
   "source": [
    "comp_logis = esp.ComputeWindow(\"w_comp_logis\", \n",
    "                               schema=['id*:int64', 'sentiment:string',\n",
    "                                       'predicted_y:double', 'p_1:double', 'p_0:double'])\n",
    "#predicted_y is actually the predicted P(sentiment = 1)\n",
    "comp_logis.add_field_expression(\"tostring(tointeger(sentiment))\")\n",
    "comp_logis.add_field_expression(\"predicted_y\")\n",
    "comp_logis.add_field_expression(\"predicted_y\")\n",
    "comp_logis.add_field_expression(\"1-predicted_y\")\n",
    " \n",
    "fitstat_logis = esp.calculate.FitStat(schema=('id*:int64','mceOut:double'),\n",
    "                                      classLabels='0,1',\n",
    "                                      windowLength=200)\n",
    "fitstat_logis.set_inputs(inputs=('p_0:double', 'p_1:double'), \n",
    "                         response=('sentiment:string'))\n",
    "fitstat_logis.set_outputs(mceOut='mceOut:double')\n",
    " \n",
    "proj.windows['w_comp_logis'] = comp_logis\n",
    "proj.windows['w_fitstat_logis'] = fitstat_logis\n",
    "t3.add_target(comp_logis, role='data')\n",
    "comp_logis.add_target(fitstat_logis, role='data')\n",
    "proj"
   ]
  },
  {
   "cell_type": "markdown",
   "metadata": {},
   "source": [
    "### Step 7:  Data Streaming and Processing"
   ]
  },
  {
   "cell_type": "code",
   "execution_count": null,
   "metadata": {},
   "outputs": [],
   "source": [
    "# Load project to esp server\n",
    "\n",
    "esp.load_project(proj)"
   ]
  },
  {
   "cell_type": "code",
   "execution_count": null,
   "metadata": {},
   "outputs": [],
   "source": [
    "#subscribe necessary windows\n",
    "fitstat_logis.subscribe()\n",
    "\n",
    "# stream the training data into the engine\n",
    "src.publish_events(train_data_sample_shuffled, pause=15)\n",
    "src2.publish_events(score_data, pause=100)"
   ]
  },
  {
   "cell_type": "code",
   "execution_count": null,
   "metadata": {
    "scrolled": true
   },
   "outputs": [],
   "source": [
    "#create a streaming line that visualize mceOut(Mean consequential error) in real time, as new events arrive. \n",
    "fitstat_logis.streaming_line('id', ['mceOut'], steps=1000.0, interval=100, max_data=50, y_range=[0,0.8])"
   ]
  },
  {
   "cell_type": "code",
   "execution_count": null,
   "metadata": {},
   "outputs": [],
   "source": [
    "fitstat_logis"
   ]
  },
  {
   "cell_type": "markdown",
   "metadata": {},
   "source": [
    "### Step 8:  Clean Up"
   ]
  },
  {
   "cell_type": "code",
   "execution_count": null,
   "metadata": {},
   "outputs": [],
   "source": [
    "fitstat_logis.unsubscribe()\n",
    "\n",
    "esp.delete_project(name='amazon_reviews')"
   ]
  },
  {
   "cell_type": "code",
   "execution_count": null,
   "metadata": {},
   "outputs": [],
   "source": [
    "proj"
   ]
  },
  {
   "cell_type": "code",
   "execution_count": null,
   "metadata": {},
   "outputs": [],
   "source": [
    "proj.save_xml('amazon.xml')"
   ]
  },
  {
   "cell_type": "code",
   "execution_count": null,
   "metadata": {},
   "outputs": [],
   "source": []
  }
 ],
 "metadata": {
  "kernelspec": {
   "display_name": "Python 3",
   "language": "python",
   "name": "python3"
  },
  "language_info": {
   "codemirror_mode": {
    "name": "ipython",
    "version": 3
   },
   "file_extension": ".py",
   "mimetype": "text/x-python",
   "name": "python",
   "nbconvert_exporter": "python",
   "pygments_lexer": "ipython3",
   "version": "3.7.5"
  }
 },
 "nbformat": 4,
 "nbformat_minor": 4
}
